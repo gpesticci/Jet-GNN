{
 "cells": [
  {
   "cell_type": "code",
   "execution_count": 1,
   "metadata": {},
   "outputs": [],
   "source": [
    "import matplotlib as plt\n",
    "import pandas as pd\n",
    "import networkx as nx\n",
    "import torch\n",
    "import torch.nn.functional as F\n",
    "import torch.optim as optim\n",
    "from torch import Tensor\n",
    "from torch_geometric.data import Data\n",
    "from torch_geometric.utils import from_networkx\n",
    "from torch.utils.data import Dataset, DataLoader\n",
    "from torch_geometric.nn import SAGEConv\n",
    "from itertools import product"
   ]
  },
  {
   "cell_type": "code",
   "execution_count": 2,
   "metadata": {},
   "outputs": [],
   "source": [
    "# Load data\n",
    "signal_df = pd.read_csv('Dijet_bb_pt10_15_dw.csv')\n",
    "background_df = pd.read_csv('Dijet_qq_pt10_15_dw.csv')"
   ]
  },
  {
   "cell_type": "code",
   "execution_count": 4,
   "metadata": {},
   "outputs": [],
   "source": [
    "# Separate Jet 0 and Jet 1 data & combine signal/ background\n",
    "sig_jet0 = signal_df[signal_df.columns[signal_df.columns.str.contains(\"Jet0\")]]\n",
    "back_jet0 = background_df[background_df.columns[background_df.columns.str.contains(\"Jet0\")]]\n",
    "train_df = pd.concat([sig_jet0, back_jet0])\n",
    "\n",
    "sig_jet1 = signal_df[signal_df.columns[signal_df.columns.str.contains(\"Jet1\")]]\n",
    "b_jet1 = background_df[background_df.columns[background_df.columns.str.contains(\"Jet1\")]]\n",
    "test_df = pd.concat([sig_jet0, back_jet0])"
   ]
  },
  {
   "cell_type": "code",
   "execution_count": 5,
   "metadata": {},
   "outputs": [],
   "source": [
    "def fully_connected_graph(df):\n",
    "    G = nx.Graph()\n",
    "\n",
    "    # Add all columns as nodes\n",
    "    nodes = list(df.columns)\n",
    "    \n",
    "    for node in nodes:\n",
    "        G.add_node(node)\n",
    "    \n",
    "    # Connect all nodes\n",
    "    for i, node1 in enumerate(nodes):\n",
    "        for node2 in nodes[i+1:]:\n",
    "            G.add_edge(node1, node2)\n",
    "    \n",
    "    # Add node features\n",
    "    for node in G.nodes(): \n",
    "        node_features = df[df[node] == node].iloc[:, 2:].values\n",
    "        if len(node_features) > 0:\n",
    "            G.nodes[node]['x'] = torch.tensor(node_features[0], dtype=torch.float)\n",
    "        else:\n",
    "            G.nodes[node]['x'] = torch.tensor([0.0] * (df.shape[1] - 2), dtype=torch.float)\n",
    "    \n",
    "    # Convert to PyTorch Geometric Data object\n",
    "    data = from_networkx(G)\n",
    "    data.y = torch.ones(data.num_nodes, dtype=torch.long)\n",
    "    data.train_mask = torch.ones(data.num_nodes, dtype=torch.bool)\n",
    "    data.test_mask = torch.ones(data.num_nodes, dtype=torch.bool)\n",
    "    combined_graph = Data(\n",
    "        x=data.x,\n",
    "        edge_index=data.edge_index,\n",
    "        y=data.y,\n",
    "        train_mask=data.train_mask,\n",
    "        test_mask=data.test_mask\n",
    "    )\n",
    "    return data\n",
    "\n",
    "train_graph = fully_connected_graph(train_df)\n",
    "test_graph = fully_connected_graph(test_df)"
   ]
  },
  {
   "cell_type": "code",
   "execution_count": 6,
   "metadata": {},
   "outputs": [
    {
     "data": {
      "text/plain": [
       "Data(x=[170, 168], edge_index=[2, 28730], y=[170], train_mask=[170], test_mask=[170])"
      ]
     },
     "execution_count": 6,
     "metadata": {},
     "output_type": "execute_result"
    }
   ],
   "source": [
    "train_graph"
   ]
  },
  {
   "cell_type": "code",
   "execution_count": 7,
   "metadata": {},
   "outputs": [
    {
     "data": {
      "text/plain": [
       "Data(x=[170, 168], edge_index=[2, 28730], y=[170], train_mask=[170], test_mask=[170])"
      ]
     },
     "execution_count": 7,
     "metadata": {},
     "output_type": "execute_result"
    }
   ],
   "source": [
    "test_graph"
   ]
  },
  {
   "cell_type": "code",
   "execution_count": 8,
   "metadata": {},
   "outputs": [],
   "source": [
    "# Define GNN model\n",
    "class GNN(torch.nn.Module):\n",
    "    def __init__(self):\n",
    "        super(GNN, self).__init__()\n",
    "        self.conv1 = SAGEConv(in_channels=train_graph.num_node_features, out_channels=16)\n",
    "        self.conv2 = SAGEConv(in_channels=16, out_channels=2)\n",
    "    \n",
    "    def forward(self, data):\n",
    "        x, edge_index = data.x, data.edge_index\n",
    "        x = self.conv1(x, edge_index)\n",
    "        x = F.relu(x)\n",
    "        x = self.conv2(x, edge_index)\n",
    "        return F.log_softmax(x, dim=1)\n",
    "\n",
    "model = GNN()"
   ]
  },
  {
   "cell_type": "code",
   "execution_count": 9,
   "metadata": {},
   "outputs": [
    {
     "name": "stdout",
     "output_type": "stream",
     "text": [
      "Epoch 0, Loss: 0.5868783593177795\n",
      "Accuracy: 1.0\n"
     ]
    }
   ],
   "source": [
    "# Training parameters\n",
    "criterion = torch.nn.CrossEntropyLoss()\n",
    "optimizer = optim.Adam(model.parameters(), lr=0.01)\n",
    "\n",
    "# Training loop\n",
    "def train(model, data, optimizer, criterion):\n",
    "    model.train()\n",
    "    optimizer.zero_grad()\n",
    "    out = model(data)\n",
    "    loss = criterion(out[data.train_mask], data.y[data.train_mask])\n",
    "    loss.backward()\n",
    "    optimizer.step()\n",
    "    return loss.item()\n",
    "\n",
    "for epoch in range(1):\n",
    "    loss = train(model, train_graph, optimizer, criterion)\n",
    "    print(f'Epoch {epoch}, Loss: {loss}')\n",
    "\n",
    "# Evaluation\n",
    "def test(model, data):\n",
    "    model.eval()\n",
    "    _, pred = model(data).max(dim=1)\n",
    "    correct = pred[data.test_mask].eq(data.y[data.test_mask]).sum().item()\n",
    "    acc = correct / data.test_mask.sum().item()\n",
    "    return acc\n",
    "\n",
    "accuracy = test(model, test_graph)\n",
    "print(f'Accuracy: {accuracy}')"
   ]
  },
  {
   "cell_type": "code",
   "execution_count": null,
   "metadata": {},
   "outputs": [],
   "source": []
  }
 ],
 "metadata": {
  "kernelspec": {
   "display_name": "Python 3",
   "language": "python",
   "name": "python3"
  },
  "language_info": {
   "codemirror_mode": {
    "name": "ipython",
    "version": 3
   },
   "file_extension": ".py",
   "mimetype": "text/x-python",
   "name": "python",
   "nbconvert_exporter": "python",
   "pygments_lexer": "ipython3",
   "version": "3.9.6"
  }
 },
 "nbformat": 4,
 "nbformat_minor": 2
}
