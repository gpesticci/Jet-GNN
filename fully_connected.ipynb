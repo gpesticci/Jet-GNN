{
 "cells": [
  {
   "cell_type": "code",
   "execution_count": 1,
   "metadata": {},
   "outputs": [],
   "source": [
    "import pandas as pd\n",
    "import networkx as nx\n",
    "import torch\n",
    "import torch.nn.functional as F\n",
    "import torch.optim as optim\n",
    "from torch_geometric.data import Data\n",
    "from torch_geometric.utils import from_networkx\n",
    "from torch_geometric.nn import GCNConv\n",
    "from itertools import product\n",
    "\n",
    "# Load data\n",
    "signal_df = pd.read_csv('Dijet_bb_pt10_15_dw.csv')\n",
    "background_df = pd.read_csv('Dijet_qq_pt10_15_dw.csv')"
   ]
  },
  {
   "cell_type": "markdown",
   "metadata": {},
   "source": [
    "create empty tensor: edge_index = torch.tensor([[], []], dtype=torch.long)"
   ]
  },
  {
   "cell_type": "code",
   "execution_count": 49,
   "metadata": {},
   "outputs": [],
   "source": [
    "# Fully Connected Edges\n",
    "def create_graph_from_df(df):\n",
    "    G = nx.Graph()\n",
    "    for node in G.nodes(): \n",
    "        node_features = df[df['Jet0_FD_OWNPV'] == node].iloc[:, 2:].values\n",
    "        if len(node_features) > 0:\n",
    "            G.nodes[node]['x'] = torch.tensor(node_features[0], dtype=torch.float)\n",
    "            for i in range(len(nodes)):\n",
    "                for j in range(i + 1, len(nodes)):\n",
    "                    G.add_edge(nodes[i], nodes[j])\n",
    "        else:\n",
    "            G.nodes[node]['x'] = torch.tensor([0.0] * (df.shape[1] - 2), dtype=torch.float)\n",
    "            for i in range(len(nodes)):\n",
    "                for j in range(i + 1, len(nodes)):\n",
    "                    G.add_edge(nodes[i], nodes[j])\n",
    "    data = from_networkx(G)\n",
    "    return data"
   ]
  },
  {
   "cell_type": "code",
   "execution_count": 50,
   "metadata": {},
   "outputs": [],
   "source": [
    "signal_graph = create_graph_from_df(signal_df)\n",
    "background_graph = create_graph_from_df(background_df)"
   ]
  },
  {
   "cell_type": "code",
   "execution_count": 51,
   "metadata": {},
   "outputs": [
    {
     "ename": "TypeError",
     "evalue": "expected Tensor as element 0 in argument 0, but got NoneType",
     "output_type": "error",
     "traceback": [
      "\u001b[0;31m---------------------------------------------------------------------------\u001b[0m",
      "\u001b[0;31mTypeError\u001b[0m                                 Traceback (most recent call last)",
      "Cell \u001b[0;32mIn[51], line 18\u001b[0m\n\u001b[1;32m      9\u001b[0m     combined_graph \u001b[38;5;241m=\u001b[39m Data(\n\u001b[1;32m     10\u001b[0m         x\u001b[38;5;241m=\u001b[39mtorch\u001b[38;5;241m.\u001b[39mcat([signal_graph\u001b[38;5;241m.\u001b[39mx, background_graph\u001b[38;5;241m.\u001b[39mx], dim\u001b[38;5;241m=\u001b[39m\u001b[38;5;241m0\u001b[39m),\n\u001b[1;32m     11\u001b[0m         edge_index\u001b[38;5;241m=\u001b[39mtorch\u001b[38;5;241m.\u001b[39mcat([signal_graph\u001b[38;5;241m.\u001b[39medge_index, background_graph\u001b[38;5;241m.\u001b[39medge_index \u001b[38;5;241m+\u001b[39m signal_graph\u001b[38;5;241m.\u001b[39mnum_nodes], dim\u001b[38;5;241m=\u001b[39m\u001b[38;5;241m1\u001b[39m),\n\u001b[0;32m   (...)\u001b[0m\n\u001b[1;32m     14\u001b[0m         test_mask\u001b[38;5;241m=\u001b[39mtorch\u001b[38;5;241m.\u001b[39mcat([signal_graph\u001b[38;5;241m.\u001b[39mtest_mask, background_graph\u001b[38;5;241m.\u001b[39mtest_mask], dim\u001b[38;5;241m=\u001b[39m\u001b[38;5;241m0\u001b[39m),\n\u001b[1;32m     15\u001b[0m     )\n\u001b[1;32m     16\u001b[0m     \u001b[38;5;28;01mreturn\u001b[39;00m combined_graph\n\u001b[0;32m---> 18\u001b[0m combined_graph \u001b[38;5;241m=\u001b[39m \u001b[43mcreate_combined_dataset\u001b[49m\u001b[43m(\u001b[49m\u001b[43msignal_graph\u001b[49m\u001b[43m,\u001b[49m\u001b[43m \u001b[49m\u001b[43mbackground_graph\u001b[49m\u001b[43m)\u001b[49m\n",
      "Cell \u001b[0;32mIn[51], line 10\u001b[0m, in \u001b[0;36mcreate_combined_dataset\u001b[0;34m(signal_graph, background_graph)\u001b[0m\n\u001b[1;32m      7\u001b[0m signal_graph\u001b[38;5;241m.\u001b[39mtest_mask \u001b[38;5;241m=\u001b[39m torch\u001b[38;5;241m.\u001b[39mones(signal_graph\u001b[38;5;241m.\u001b[39mnum_nodes, dtype\u001b[38;5;241m=\u001b[39mtorch\u001b[38;5;241m.\u001b[39mbool)\n\u001b[1;32m      8\u001b[0m background_graph\u001b[38;5;241m.\u001b[39mtest_mask \u001b[38;5;241m=\u001b[39m torch\u001b[38;5;241m.\u001b[39mones(background_graph\u001b[38;5;241m.\u001b[39mnum_nodes, dtype\u001b[38;5;241m=\u001b[39mtorch\u001b[38;5;241m.\u001b[39mbool)\n\u001b[1;32m      9\u001b[0m combined_graph \u001b[38;5;241m=\u001b[39m Data(\n\u001b[0;32m---> 10\u001b[0m     x\u001b[38;5;241m=\u001b[39m\u001b[43mtorch\u001b[49m\u001b[38;5;241;43m.\u001b[39;49m\u001b[43mcat\u001b[49m\u001b[43m(\u001b[49m\u001b[43m[\u001b[49m\u001b[43msignal_graph\u001b[49m\u001b[38;5;241;43m.\u001b[39;49m\u001b[43mx\u001b[49m\u001b[43m,\u001b[49m\u001b[43m \u001b[49m\u001b[43mbackground_graph\u001b[49m\u001b[38;5;241;43m.\u001b[39;49m\u001b[43mx\u001b[49m\u001b[43m]\u001b[49m\u001b[43m,\u001b[49m\u001b[43m \u001b[49m\u001b[43mdim\u001b[49m\u001b[38;5;241;43m=\u001b[39;49m\u001b[38;5;241;43m0\u001b[39;49m\u001b[43m)\u001b[49m,\n\u001b[1;32m     11\u001b[0m     edge_index\u001b[38;5;241m=\u001b[39mtorch\u001b[38;5;241m.\u001b[39mcat([signal_graph\u001b[38;5;241m.\u001b[39medge_index, background_graph\u001b[38;5;241m.\u001b[39medge_index \u001b[38;5;241m+\u001b[39m signal_graph\u001b[38;5;241m.\u001b[39mnum_nodes], dim\u001b[38;5;241m=\u001b[39m\u001b[38;5;241m1\u001b[39m),\n\u001b[1;32m     12\u001b[0m     y\u001b[38;5;241m=\u001b[39mtorch\u001b[38;5;241m.\u001b[39mcat([signal_graph\u001b[38;5;241m.\u001b[39my, background_graph\u001b[38;5;241m.\u001b[39my], dim\u001b[38;5;241m=\u001b[39m\u001b[38;5;241m0\u001b[39m),\n\u001b[1;32m     13\u001b[0m     train_mask\u001b[38;5;241m=\u001b[39mtorch\u001b[38;5;241m.\u001b[39mcat([signal_graph\u001b[38;5;241m.\u001b[39mtrain_mask, background_graph\u001b[38;5;241m.\u001b[39mtrain_mask], dim\u001b[38;5;241m=\u001b[39m\u001b[38;5;241m0\u001b[39m),\n\u001b[1;32m     14\u001b[0m     test_mask\u001b[38;5;241m=\u001b[39mtorch\u001b[38;5;241m.\u001b[39mcat([signal_graph\u001b[38;5;241m.\u001b[39mtest_mask, background_graph\u001b[38;5;241m.\u001b[39mtest_mask], dim\u001b[38;5;241m=\u001b[39m\u001b[38;5;241m0\u001b[39m),\n\u001b[1;32m     15\u001b[0m )\n\u001b[1;32m     16\u001b[0m \u001b[38;5;28;01mreturn\u001b[39;00m combined_graph\n",
      "\u001b[0;31mTypeError\u001b[0m: expected Tensor as element 0 in argument 0, but got NoneType"
     ]
    }
   ],
   "source": [
    "# Combine signal and background graphs\n",
    "def create_combined_dataset(signal_graph, background_graph):\n",
    "    signal_graph.y = torch.ones(signal_graph.num_nodes, dtype=torch.long)\n",
    "    background_graph.y = torch.zeros(background_graph.num_nodes, dtype=torch.long)\n",
    "    signal_graph.train_mask = torch.ones(signal_graph.num_nodes, dtype=torch.bool)\n",
    "    background_graph.train_mask = torch.ones(background_graph.num_nodes, dtype=torch.bool)\n",
    "    signal_graph.test_mask = torch.ones(signal_graph.num_nodes, dtype=torch.bool)\n",
    "    background_graph.test_mask = torch.ones(background_graph.num_nodes, dtype=torch.bool)\n",
    "    combined_graph = Data(\n",
    "        x=torch.cat([signal_graph.x, background_graph.x], dim=0),\n",
    "        edge_index=torch.cat([signal_graph.edge_index, background_graph.edge_index + signal_graph.num_nodes], dim=1),\n",
    "        y=torch.cat([signal_graph.y, background_graph.y], dim=0),\n",
    "        train_mask=torch.cat([signal_graph.train_mask, background_graph.train_mask], dim=0),\n",
    "        test_mask=torch.cat([signal_graph.test_mask, background_graph.test_mask], dim=0),\n",
    "    )\n",
    "    return combined_graph\n",
    "\n",
    "combined_graph = create_combined_dataset(signal_graph, background_graph)"
   ]
  },
  {
   "cell_type": "code",
   "execution_count": null,
   "metadata": {},
   "outputs": [],
   "source": [
    "# Define GNN model\n",
    "class GNN(torch.nn.Module):\n",
    "    def __init__(self):\n",
    "        super(GNN, self).__init__()\n",
    "        self.conv1 = GCNConv(in_channels=signal_graph.num_node_features, out_channels=16)\n",
    "        self.conv2 = GCNConv(in_channels=16, out_channels=2)\n",
    "    \n",
    "    def forward(self, data):\n",
    "        x, edge_index = data.x, data.edge_index\n",
    "        x = self.conv1(x, edge_index)\n",
    "        x = F.relu(x)\n",
    "        x = self.conv2(x, edge_index)\n",
    "        return F.log_softmax(x, dim=1)\n",
    "\n",
    "model = GNN()"
   ]
  },
  {
   "cell_type": "code",
   "execution_count": null,
   "metadata": {},
   "outputs": [],
   "source": [
    "# Training parameters\n",
    "criterion = torch.nn.CrossEntropyLoss()\n",
    "optimizer = optim.Adam(model.parameters(), lr=0.01)\n",
    "\n",
    "# Training loop\n",
    "def train(model, data, optimizer, criterion):\n",
    "    model.train()\n",
    "    optimizer.zero_grad()\n",
    "    out = model(data)\n",
    "    loss = criterion(out[data.train_mask], data.y[data.train_mask])\n",
    "    loss.backward()\n",
    "    optimizer.step()\n",
    "    return loss.item()\n",
    "\n",
    "for epoch in range(1):\n",
    "    loss = train(model, combined_graph, optimizer, criterion)\n",
    "    print(f'Epoch {epoch}, Loss: {loss}')\n",
    "\n",
    "# Evaluation\n",
    "def test(model, data):\n",
    "    model.eval()\n",
    "    _, pred = model(data).max(dim=1)\n",
    "    correct = pred[data.test_mask].eq(data.y[data.test_mask]).sum().item()\n",
    "    acc = correct / data.test_mask.sum().item()\n",
    "    return acc\n",
    "\n",
    "accuracy = test(model, combined_graph)\n",
    "print(f'Accuracy: {accuracy}')"
   ]
  }
 ],
 "metadata": {
  "kernelspec": {
   "display_name": "Python 3",
   "language": "python",
   "name": "python3"
  },
  "language_info": {
   "codemirror_mode": {
    "name": "ipython",
    "version": 3
   },
   "file_extension": ".py",
   "mimetype": "text/x-python",
   "name": "python",
   "nbconvert_exporter": "python",
   "pygments_lexer": "ipython3",
   "version": "3.9.6"
  }
 },
 "nbformat": 4,
 "nbformat_minor": 2
}
