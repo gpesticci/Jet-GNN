{
 "cells": [
  {
   "cell_type": "code",
   "execution_count": 186,
   "metadata": {},
   "outputs": [],
   "source": [
    "import pandas as pd\n",
    "import networkx as nx\n",
    "import torch\n",
    "import torch.nn.functional as F\n",
    "import torch.optim as optim\n",
    "from torch import Tensor\n",
    "from torch_geometric.data import Data\n",
    "from torch_geometric.utils import from_networkx\n",
    "from torch.utils.data import Dataset, DataLoader\n",
    "from torch_geometric.nn import SAGEConv\n",
    "from itertools import product"
   ]
  },
  {
   "cell_type": "code",
   "execution_count": null,
   "metadata": {},
   "outputs": [],
   "source": [
    "# Load data\n",
    "signal_df = pd.read_csv('Dijet_bb_pt10_15_dw.csv')\n",
    "background_df = pd.read_csv('Dijet_qq_pt10_15_dw.csv')"
   ]
  },
  {
   "cell_type": "code",
   "execution_count": 145,
   "metadata": {},
   "outputs": [],
   "source": [
    "# Separate Jet 0 and Jet 1 data & combine signal/ background\n",
    "s0 = signal_df[signal_df.columns[signal_df.columns.str.contains(\"Jet0\")]]\n",
    "b0 = background_df[background_df.columns[background_df.columns.str.contains(\"Jet0\")]]\n",
    "train_df = pd.concat([s0, b0])\n",
    "\n",
    "s1 = signal_df[signal_df.columns[signal_df.columns.str.contains(\"Jet1\")]]\n",
    "b1 = background_df[background_df.columns[background_df.columns.str.contains(\"Jet1\")]]\n",
    "test_df = pd.concat([s0, b0])"
   ]
  },
  {
   "cell_type": "code",
   "execution_count": 236,
   "metadata": {},
   "outputs": [],
   "source": [
    "def fully_connected_graph1(df):\n",
    "    G = nx.Graph()\n",
    "\n",
    "    # Add all columns as nodes\n",
    "    nodes = list(df.columns)\n",
    "    \n",
    "    for node in nodes:\n",
    "        G.add_node(node)\n",
    "    \n",
    "    # Connect all nodes\n",
    "    for i, node1 in enumerate(nodes):\n",
    "        for node2 in nodes[i+1:]:\n",
    "            G.add_edge(node1, node2)\n",
    "    \n",
    "    # Add node features\n",
    "    for node in G.nodes(): \n",
    "        node_features = df[df['Jet0_FD_OWNPV'] == node].iloc[:, 2:].values # need to update\n",
    "        if len(node_features) > 0:\n",
    "            G.nodes[node]['x'] = torch.tensor(node_features[0], dtype=torch.float)\n",
    "        else:\n",
    "            G.nodes[node]['x'] = torch.tensor([0.0] * (df.shape[1] - 2), dtype=torch.float)\n",
    "    \n",
    "    # Convert to PyTorch Geometric Data object\n",
    "    data = from_networkx(G)\n",
    "    return data\n",
    "\n",
    "signal_graph = fully_connected_graph1(signal_df)\n",
    "background_graph = fully_connected_graph1(background_df)"
   ]
  },
  {
   "cell_type": "code",
   "execution_count": 240,
   "metadata": {},
   "outputs": [
    {
     "ename": "SyntaxError",
     "evalue": "invalid syntax (546081587.py, line 11)",
     "output_type": "error",
     "traceback": [
      "\u001b[0;36m  Cell \u001b[0;32mIn[240], line 11\u001b[0;36m\u001b[0m\n\u001b[0;31m    for i in range len(list(df.columns)):\u001b[0m\n\u001b[0m                   ^\u001b[0m\n\u001b[0;31mSyntaxError\u001b[0m\u001b[0;31m:\u001b[0m invalid syntax\n"
     ]
    }
   ],
   "source": [
    "\n",
    "def nodes_without_edges(df, target_column):\n",
    "    G = nx.Graph()\n",
    "\n",
    "    # Add all columns as nodes\n",
    "    num_nodes = len(list(df.columns))\n",
    "    nodes = list(df.columns)\n",
    "    for node in nodes:\n",
    "        G.add_node(node)\n",
    "\n",
    "    # Get unique values from target column\n",
    "    for i in range len(list(df.columns)):\n",
    "        target_column = i\n",
    "        unique_nodes = target_column.unique()\n",
    "\n",
    "    # Add unique values as nodes\n",
    "    for node in unique_nodes:\n",
    "        G.add_node(node)\n",
    "    \n",
    "    # Add node features based on target_column\n",
    "    for node in G.nodes(): \n",
    "        # Filter rows where target_column matches node\n",
    "        node_features = df[df[target_column] == node].iloc[:, 1:].values  # Assuming the first column is an identifier\n",
    "        if len(node_features) > 0:\n",
    "            G.nodes[node]['x'] = torch.tensor(node_features[0], dtype=torch.float)\n",
    "        else:\n",
    "            G.nodes[node]['x'] = torch.tensor([0.0] * (df.shape[1] - 1), dtype=torch.float)\n",
    "    \n",
    "    # Convert to PyTorch Geometric Data object\n",
    "    data = from_networkx(G)\n",
    "    return data\n",
    "\n",
    "signal_graph = nodes_without_edges(signal_df)\n",
    "background_graph = nodes_without_edges(background_df)"
   ]
  },
  {
   "cell_type": "code",
   "execution_count": 222,
   "metadata": {},
   "outputs": [],
   "source": [
    "# Fully Connected Edges\n",
    "def fully_connected_graph2(df):\n",
    "    G = nx.Graph()\n",
    "\n",
    "    # Add all columns as nodes\n",
    "    num_nodes = len(list(df.columns))\n",
    "    nodes = list(df.columns)\n",
    "    for node in nodes:\n",
    "        G.add_node(node)\n",
    "    \n",
    "    # Connect all nodes\n",
    "    for i, node1 in enumerate(nodes):\n",
    "        for node2 in nodes[i+1:]:\n",
    "            G.add_edge(node1, node2)\n",
    "    \n",
    "    # Add node features\n",
    "    for node in G.nodes(): \n",
    "        node_features = df[node].iloc[:, 2:].values\n",
    "        if len(node_features) > 0:\n",
    "            G.nodes[node]['x'] = torch.tensor(node_features[0], dtype=torch.float)\n",
    "        else:\n",
    "            G.nodes[node]['x'] = torch.tensor([0.0] * (df.shape[1] - 2), dtype=torch.float)\n",
    "    \n",
    "    # Convert to PyTorch Geometric Data object\n",
    "    data = from_networkx(G)\n",
    "\n",
    "    return data\n",
    "\n",
    "signal_graph = fully_connected_graph2(signal_df)\n",
    "background_graph = fully_connected_graph2(background_df)"
   ]
  },
  {
   "cell_type": "code",
   "execution_count": 229,
   "metadata": {},
   "outputs": [],
   "source": [
    "# Combine signal and background graphs\n",
    "def create_combined_dataset(signal_graph, background_graph):\n",
    "    signal_graph.y = torch.ones(signal_graph.num_nodes, dtype=torch.long)\n",
    "    background_graph.y = torch.zeros(background_graph.num_nodes, dtype=torch.long)\n",
    "    signal_graph.train_mask = torch.ones(signal_graph.num_nodes, dtype=torch.bool)\n",
    "    background_graph.train_mask = torch.ones(background_graph.num_nodes, dtype=torch.bool)\n",
    "    signal_graph.test_mask = torch.ones(signal_graph.num_nodes, dtype=torch.bool)\n",
    "    background_graph.test_mask = torch.ones(background_graph.num_nodes, dtype=torch.bool)\n",
    "    combined_graph = Data(\n",
    "        x=torch.cat([signal_graph.x, background_graph.x], dim=0),\n",
    "        edge_index=torch.cat([signal_graph.edge_index, background_graph.edge_index + signal_graph.num_nodes], dim=1),\n",
    "        y=torch.cat([signal_graph.y, background_graph.y], dim=0),\n",
    "        train_mask=torch.cat([signal_graph.train_mask, background_graph.train_mask], dim=0),\n",
    "        test_mask=torch.cat([signal_graph.test_mask, background_graph.test_mask], dim=0),\n",
    "    )\n",
    "    return combined_graph\n",
    "\n",
    "combined_graph = create_combined_dataset(signal_graph, background_graph)"
   ]
  },
  {
   "cell_type": "code",
   "execution_count": 232,
   "metadata": {},
   "outputs": [
    {
     "data": {
      "text/plain": [
       "Data(x=[770, 383], edge_index=[2, 295680], y=[770], train_mask=[770], test_mask=[770])"
      ]
     },
     "execution_count": 232,
     "metadata": {},
     "output_type": "execute_result"
    }
   ],
   "source": [
    "combined_graph # x = [num_nodes, num_features, edge_index = [2, num_edges]]"
   ]
  },
  {
   "cell_type": "code",
   "execution_count": 230,
   "metadata": {},
   "outputs": [],
   "source": [
    "# Define GNN model\n",
    "class GNN(torch.nn.Module):\n",
    "    def __init__(self):\n",
    "        super(GNN, self).__init__()\n",
    "        self.conv1 = SAGEConv(in_channels=signal_graph.num_node_features, out_channels=16)\n",
    "        self.conv2 = SAGEConv(in_channels=16, out_channels=2)\n",
    "    \n",
    "    def forward(self, data):\n",
    "        x, edge_index = data.x, data.edge_index\n",
    "        x = self.conv1(x, edge_index)\n",
    "        x = F.relu(x)\n",
    "        x = self.conv2(x, edge_index)\n",
    "        return F.log_softmax(x, dim=1)\n",
    "\n",
    "model = GNN()"
   ]
  },
  {
   "cell_type": "code",
   "execution_count": 231,
   "metadata": {},
   "outputs": [
    {
     "name": "stdout",
     "output_type": "stream",
     "text": [
      "Epoch 0, Loss: 0.6968805193901062\n",
      "Epoch 1, Loss: 0.6947128772735596\n",
      "Epoch 2, Loss: 0.6934343576431274\n",
      "Epoch 3, Loss: 0.6931832432746887\n",
      "Epoch 4, Loss: 0.6937320232391357\n",
      "Epoch 5, Loss: 0.6941283941268921\n",
      "Epoch 6, Loss: 0.6940276622772217\n",
      "Epoch 7, Loss: 0.6936753988265991\n",
      "Epoch 8, Loss: 0.6933432817459106\n",
      "Epoch 9, Loss: 0.6931694746017456\n",
      "Accuracy: 0.5\n"
     ]
    }
   ],
   "source": [
    "# Training parameters\n",
    "criterion = torch.nn.CrossEntropyLoss()\n",
    "optimizer = optim.Adam(model.parameters(), lr=0.01)\n",
    "\n",
    "# Training loop\n",
    "def train(model, data, optimizer, criterion):\n",
    "    model.train()\n",
    "    optimizer.zero_grad()\n",
    "    out = model(data)\n",
    "    loss = criterion(out[data.train_mask], data.y[data.train_mask])\n",
    "    loss.backward()\n",
    "    optimizer.step()\n",
    "    return loss.item()\n",
    "\n",
    "for epoch in range(10):\n",
    "    loss = train(model, combined_graph, optimizer, criterion)\n",
    "    print(f'Epoch {epoch}, Loss: {loss}')\n",
    "\n",
    "# Evaluation\n",
    "def test(model, data):\n",
    "    model.eval()\n",
    "    _, pred = model(data).max(dim=1)\n",
    "    correct = pred[data.test_mask].eq(data.y[data.test_mask]).sum().item()\n",
    "    acc = correct / data.test_mask.sum().item()\n",
    "    return acc\n",
    "\n",
    "accuracy = test(model, combined_graph)\n",
    "print(f'Accuracy: {accuracy}')"
   ]
  },
  {
   "cell_type": "code",
   "execution_count": null,
   "metadata": {},
   "outputs": [],
   "source": []
  },
  {
   "cell_type": "code",
   "execution_count": null,
   "metadata": {},
   "outputs": [],
   "source": []
  }
 ],
 "metadata": {
  "kernelspec": {
   "display_name": "Python 3",
   "language": "python",
   "name": "python3"
  },
  "language_info": {
   "codemirror_mode": {
    "name": "ipython",
    "version": 3
   },
   "file_extension": ".py",
   "mimetype": "text/x-python",
   "name": "python",
   "nbconvert_exporter": "python",
   "pygments_lexer": "ipython3",
   "version": "3.9.6"
  }
 },
 "nbformat": 4,
 "nbformat_minor": 2
}
