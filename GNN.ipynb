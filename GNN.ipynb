{
 "cells": [
  {
   "cell_type": "code",
   "execution_count": 48,
   "metadata": {},
   "outputs": [],
   "source": [
    "import pandas as pd\n",
    "import numpy as np\n",
    "import matplotlib.pyplot as plt\n",
    "\n",
    "import torch\n",
    "from torch.nn import Linear\n",
    "import torch.nn.functional as F\n",
    "import torch.optim as optim\n",
    "from torch_geometric.data import Data\n",
    "from torch_geometric.loader import DataLoader\n",
    "import torch_geometric as T\n",
    "from torch_geometric.nn import GCNConv, SAGEConv, GraphConv, TransformerConv\n",
    "from torch.nn.utils import clip_grad_norm_\n",
    "\n",
    "import networkx as nx\n",
    "\n",
    "from sklearn.metrics import roc_curve, roc_auc_score"
   ]
  },
  {
   "cell_type": "code",
   "execution_count": 2,
   "metadata": {},
   "outputs": [],
   "source": [
    "# Read from csv (without second list in daughter columns - see data_loading.ipynb)\n",
    "train_df = pd.read_csv('new_train_data.csv')\n",
    "test_df = pd.read_csv('new_test_data.csv')"
   ]
  },
  {
   "cell_type": "code",
   "execution_count": 3,
   "metadata": {},
   "outputs": [],
   "source": [
    "# Columns including daughter kinematics\n",
    "train_d_cols = list(train_df[train_df.columns[train_df.columns.str.contains(\"_Daughters\")]])\n",
    "test_d_cols = list(test_df[test_df.columns[test_df.columns.str.contains(\"_Daughters\")]])\n",
    "\n",
    "# Features columns (daughter kinematics + Eta and pT)\n",
    "train_f_cols = train_d_cols + ['Jet0_Eta', 'Jet0_PT']\n",
    "test_f_cols = test_d_cols + ['Jet1_Eta', 'Jet1_PT']"
   ]
  },
  {
   "cell_type": "code",
   "execution_count": 4,
   "metadata": {},
   "outputs": [],
   "source": [
    "# Duplicate Jet PT and Eta elements as a list the same length as the number of daughters in each row\n",
    "def duplicate(df, cols, n_col):\n",
    "    def duplicate_value(row, col, n_col):\n",
    "        value = row[col]\n",
    "        if isinstance(value, (float, int)):\n",
    "            num_daughters = row[n_col]\n",
    "            return [value] * num_daughters\n",
    "        return value\n",
    "\n",
    "    for col in cols:\n",
    "        df[col] = df.apply(lambda row: duplicate_value(row, col, n_col), axis=1)\n",
    "    return df\n",
    "\n",
    "# Converts string into list of floats (already duplicated and dropped second array)\n",
    "def convert_to_lists(df, d_cols):\n",
    "    for col in d_cols:\n",
    "        df[col] = df[col].apply(lambda x: [float(num) for num in x.strip('[]').split(',')] if isinstance(x, str) else x)\n",
    "    return df"
   ]
  },
  {
   "cell_type": "code",
   "execution_count": 5,
   "metadata": {},
   "outputs": [],
   "source": [
    "# Duplicate and preprocess daughter columns\n",
    "train_df = duplicate(train_df, ['Jet0_PT', 'Jet0_Eta', 'IsB'], 'Jet0_nDaughters')\n",
    "test_df = duplicate(test_df, ['Jet1_PT', 'Jet1_Eta', 'IsB'], 'Jet1_nDaughters')\n",
    "\n",
    "# Clean up data from str to list of floats\n",
    "train_df = convert_to_lists(train_df, train_d_cols)\n",
    "test_df = convert_to_lists(test_df, test_d_cols)\n",
    "\n",
    "# Select first 500 sig aand first 500 bgk data for quicker training\n",
    "cut_train_df = pd.concat([train_df.head(500), train_df.iloc[100000:100500]]) \n",
    "cut_test_df = pd.concat([test_df.head(500), test_df.iloc[100000:100500]])"
   ]
  },
  {
   "cell_type": "code",
   "execution_count": 6,
   "metadata": {},
   "outputs": [],
   "source": [
    "# Creates list of node features (float) - features[x][y], x = row index, y = index of feature column\n",
    "def node_features(df, features_cols):\n",
    "    node_features_list = []\n",
    "    node_features = []\n",
    "    for i, row in df.iterrows():\n",
    "        row_nodes = []\n",
    "        for col in features_cols:\n",
    "            feature = df.at[i, col]\n",
    "            if isinstance(feature, list):\n",
    "                node_features.extend(feature)\n",
    "                if len(row_nodes) < len(feature):\n",
    "                    row_nodes.extend([[] for _ in range(len(feature) - len(row_nodes))])\n",
    "                for j, val in enumerate(feature):\n",
    "                    row_nodes[j].append(val)\n",
    "            else:\n",
    "                node_features.append(feature)\n",
    "                for node in row_nodes:\n",
    "                        node.append(feature)\n",
    "        node_features_list.extend(row_nodes)\n",
    "    return node_features_list\n",
    "\n",
    "# Creates a data object of each df\n",
    "def create_data_object(df, features_cols):\n",
    "    \n",
    "    df = df.sample(frac=1).reset_index(drop=True) # shuffles data before creating data object\n",
    "    data_list = []\n",
    "\n",
    "    for i in range(len(df)):\n",
    "        node_df = df.iloc[[i]]\n",
    "        \n",
    "        features = node_features(node_df, features_cols)\n",
    "        num_nodes = len(features)\n",
    "\n",
    "        G = nx.complete_graph(num_nodes)\n",
    "        edge_index = torch.tensor(list(G.edges)).t().contiguous()\n",
    "\n",
    "        x = torch.tensor(features, dtype=torch.float)\n",
    "        y = torch.tensor(node_df['IsB'].iloc[0], dtype=torch.long)\n",
    "\n",
    "        data = Data(x=x, edge_index=edge_index, y=y)\n",
    "        data_list.append(data)\n",
    "        \n",
    "    return data_list"
   ]
  },
  {
   "cell_type": "code",
   "execution_count": 7,
   "metadata": {},
   "outputs": [],
   "source": [
    "train_data = create_data_object(cut_train_df, train_f_cols)\n",
    "test_data = create_data_object(cut_test_df, test_f_cols)"
   ]
  },
  {
   "cell_type": "code",
   "execution_count": 28,
   "metadata": {},
   "outputs": [],
   "source": [
    "# Load data\n",
    "train_loader = DataLoader(train_data, batch_size=64, shuffle=True)\n",
    "test_loader = DataLoader(test_data, batch_size=64)"
   ]
  },
  {
   "cell_type": "markdown",
   "metadata": {},
   "source": [
    "# Training Model"
   ]
  },
  {
   "cell_type": "code",
   "execution_count": 80,
   "metadata": {},
   "outputs": [],
   "source": [
    "# Define GNN model\n",
    "\n",
    "class GNN(torch.nn.Module):\n",
    "    def __init__(self):\n",
    "        super(GNN, self).__init__()\n",
    "        hidden_channels = 64\n",
    "        self.conv1 = GraphConv(len(train_f_cols), hidden_channels)\n",
    "        self.conv2 = GraphConv(hidden_channels, hidden_channels)\n",
    "        self.conv3 = GraphConv(hidden_channels, hidden_channels)\n",
    "        self.conv4 = GraphConv(hidden_channels, hidden_channels)\n",
    "        self.lin = Linear(hidden_channels, 1)\n",
    "        \n",
    "\n",
    "    def forward(self, data):\n",
    "        x, edge_index = data.x, data.edge_index\n",
    "\n",
    "        x = self.conv1(x, edge_index)\n",
    "        x = F.relu(x)\n",
    "        x = self.conv2(x, edge_index)\n",
    "        x = F.relu(x)\n",
    "        x = self.conv3(x, edge_index)\n",
    "        x = F.relu(x)\n",
    "        x = self.conv4(x, edge_index)\n",
    "        x = F.sigmoid(x)\n",
    "        x = self.lin(x)\n",
    "        return x\n",
    "            \n",
    "model = GNN()"
   ]
  },
  {
   "cell_type": "code",
   "execution_count": 81,
   "metadata": {},
   "outputs": [
    {
     "name": "stdout",
     "output_type": "stream",
     "text": [
      "Epoch: 1, Loss: 0.7096, Accuracy: 0.5097\n",
      "Epoch: 2, Loss: 0.7163, Accuracy: 0.5110\n",
      "Epoch: 3, Loss: 0.7044, Accuracy: 0.5124\n",
      "Epoch: 4, Loss: 0.7064, Accuracy: 0.5152\n",
      "Epoch: 5, Loss: 0.6943, Accuracy: 0.5165\n",
      "Epoch: 6, Loss: 0.7069, Accuracy: 0.5169\n",
      "Epoch: 7, Loss: 0.7101, Accuracy: 0.5149\n",
      "Epoch: 8, Loss: 0.7077, Accuracy: 0.5142\n",
      "Epoch: 9, Loss: 0.6858, Accuracy: 0.5137\n",
      "Epoch: 10, Loss: 0.6991, Accuracy: 0.5134\n",
      "Epoch: 11, Loss: 0.7030, Accuracy: 0.5124\n",
      "Epoch: 12, Loss: 0.7031, Accuracy: 0.5119\n",
      "Epoch: 13, Loss: 0.6920, Accuracy: 0.5110\n",
      "Epoch: 14, Loss: 0.7083, Accuracy: 0.5121\n",
      "Epoch: 15, Loss: 0.6957, Accuracy: 0.5114\n",
      "Epoch: 16, Loss: 0.6954, Accuracy: 0.5114\n",
      "Epoch: 17, Loss: 0.7010, Accuracy: 0.5135\n",
      "Epoch: 18, Loss: 0.6978, Accuracy: 0.5117\n",
      "Epoch: 19, Loss: 0.7051, Accuracy: 0.5126\n",
      "Epoch: 20, Loss: 0.6977, Accuracy: 0.5122\n",
      "Epoch: 21, Loss: 0.7043, Accuracy: 0.5132\n",
      "Epoch: 22, Loss: 0.7078, Accuracy: 0.5139\n",
      "Epoch: 23, Loss: 0.6971, Accuracy: 0.5118\n",
      "Epoch: 24, Loss: 0.6984, Accuracy: 0.5110\n",
      "Epoch: 25, Loss: 0.7085, Accuracy: 0.5117\n",
      "Epoch: 26, Loss: 0.6910, Accuracy: 0.5112\n",
      "Epoch: 27, Loss: 0.6961, Accuracy: 0.5095\n",
      "Epoch: 28, Loss: 0.6980, Accuracy: 0.5112\n",
      "Epoch: 29, Loss: 0.6933, Accuracy: 0.5104\n",
      "Epoch: 30, Loss: 0.6921, Accuracy: 0.5112\n",
      "Epoch: 31, Loss: 0.7140, Accuracy: 0.5106\n",
      "Epoch: 32, Loss: 0.7025, Accuracy: 0.5114\n",
      "Epoch: 33, Loss: 0.6931, Accuracy: 0.5113\n",
      "Epoch: 34, Loss: 0.7004, Accuracy: 0.5109\n",
      "Epoch: 35, Loss: 0.6933, Accuracy: 0.5101\n",
      "Epoch: 36, Loss: 0.6952, Accuracy: 0.5108\n",
      "Epoch: 37, Loss: 0.6961, Accuracy: 0.5117\n",
      "Epoch: 38, Loss: 0.7070, Accuracy: 0.5110\n",
      "Epoch: 39, Loss: 0.6908, Accuracy: 0.5112\n",
      "Epoch: 40, Loss: 0.6950, Accuracy: 0.5130\n",
      "Epoch: 41, Loss: 0.6927, Accuracy: 0.5143\n",
      "Epoch: 42, Loss: 0.6892, Accuracy: 0.5154\n",
      "Epoch: 43, Loss: 0.6963, Accuracy: 0.5147\n",
      "Epoch: 44, Loss: 0.6887, Accuracy: 0.5150\n",
      "Epoch: 45, Loss: 0.6874, Accuracy: 0.5157\n",
      "Epoch: 46, Loss: 0.6942, Accuracy: 0.5165\n",
      "Epoch: 47, Loss: 0.6874, Accuracy: 0.5135\n",
      "Epoch: 48, Loss: 0.7003, Accuracy: 0.5128\n",
      "Epoch: 49, Loss: 0.7028, Accuracy: 0.5112\n",
      "Epoch: 50, Loss: 0.6985, Accuracy: 0.5111\n"
     ]
    }
   ],
   "source": [
    "# Define optimizer and criterion\n",
    "optimizer = optim.Adam(model.parameters(), lr=0.00001, weight_decay=1e-8)\n",
    "criterion = torch.nn.BCEWithLogitsLoss()\n",
    "\n",
    "# Training loop\n",
    "def train():\n",
    "    model.train()\n",
    "    for data in train_loader:\n",
    "        optimizer.zero_grad()\n",
    "        out = model(data)\n",
    "        loss = criterion(out.squeeze(), data.y.float())\n",
    "        clip_grad_norm_(model.parameters(), max_norm=1.0)\n",
    "        loss.backward()\n",
    "        optimizer.step()\n",
    "    return loss.item()\n",
    "\n",
    "def test():\n",
    "    model.eval()\n",
    "    total_correct = 0\n",
    "    total_samples = 0\n",
    "    \n",
    "    with torch.no_grad():\n",
    "        for data in test_loader:\n",
    "            out = model(data)\n",
    "            pred = (torch.sigmoid(out) > 0.5).float()\n",
    "            correct = (pred.squeeze() == data.y).sum().item()\n",
    "            total_correct += correct\n",
    "            total_samples += len(data.y)\n",
    "\n",
    "    accuracy = total_correct / total_samples\n",
    "    return accuracy\n",
    "\n",
    "for epoch in range(50):\n",
    "    loss = train()\n",
    "    acc = test()\n",
    "\n",
    "    print(f'Epoch: {epoch + 1}, Loss: {loss:.4f}, Accuracy: {acc:.4f}')"
   ]
  },
  {
   "cell_type": "markdown",
   "metadata": {},
   "source": [
    "# ROC Curve and AUC"
   ]
  },
  {
   "cell_type": "code",
   "execution_count": 70,
   "metadata": {},
   "outputs": [],
   "source": [
    "y_true = []  # class values (0 or 1)\n",
    "y_scores = []  # predicted probabilities or scores\n",
    "\n",
    "model.eval()\n",
    "with torch.no_grad():\n",
    "    for data in test_loader:\n",
    "        out = model(data)\n",
    "        prob = torch.sigmoid(out).squeeze()\n",
    "        \n",
    "        y_true.append(data.y.cpu().numpy().flatten())\n",
    "        y_scores.append(prob.cpu().numpy().flatten())\n",
    "\n",
    "y_true = np.concatenate(y_true)\n",
    "y_scores = np.concatenate(y_scores)"
   ]
  },
  {
   "cell_type": "code",
   "execution_count": 71,
   "metadata": {},
   "outputs": [],
   "source": [
    "# Compute ROC curve and AUC\n",
    "fpr, tpr, thresholds = roc_curve(y_true, y_scores)\n",
    "auc = roc_auc_score(y_true, y_scores)"
   ]
  },
  {
   "cell_type": "code",
   "execution_count": 72,
   "metadata": {},
   "outputs": [
    {
     "name": "stdout",
     "output_type": "stream",
     "text": [
      "Background Rejection: [1.00000000e+00 1.00000000e+00 1.00000000e+00 ... 1.44362639e-04\n",
      " 0.00000000e+00 0.00000000e+00]\n",
      "Signal Efficiency: [0.00000000e+00 1.31440589e-04 9.20084122e-04 ... 9.99868559e-01\n",
      " 9.99868559e-01 1.00000000e+00]\n",
      "AUC: 0.5596787806047656\n"
     ]
    }
   ],
   "source": [
    "# Compute background rejection and signal efficiency\n",
    "back_rej = 1 - fpr\n",
    "sig_eff = tpr\n",
    "\n",
    "print(f'Background Rejection: {back_rej}')\n",
    "print(f'Signal Efficiency: {sig_eff}')\n",
    "print(f'AUC: {auc}')"
   ]
  },
  {
   "cell_type": "code",
   "execution_count": 73,
   "metadata": {},
   "outputs": [
    {
     "data": {
      "image/png": "[encoded data removed]",
      "text/plain": [
       "<Figure size 640x480 with 1 Axes>"
      ]
     },
     "metadata": {},
     "output_type": "display_data"
    }
   ],
   "source": [
    "# Plot ROC Curve and show AUC\n",
    "plt.plot(back_rej, sig_eff, label='ROC Curve', color='purple')\n",
    "plt.plot([0, 1], [1, 0], color='grey', linestyle='dotted', label='baseline')\n",
    "plt.plot([], [], ' ', label=f'AUC: {auc}')\n",
    "plt.xlim([0.0, 1.01])\n",
    "plt.ylim([0.0, 1.01])\n",
    "plt.ylabel('Background Rejection')\n",
    "plt.xlabel('Signal Efficiency' )\n",
    "plt.title('Receiver Operating Characteristics (ROC)')\n",
    "plt.legend(loc='lower left')\n",
    "plt.grid(True)\n",
    "plt.show()"
   ]
  },
  {
   "cell_type": "code",
   "execution_count": null,
   "metadata": {},
   "outputs": [],
   "source": []
  },
  {
   "cell_type": "code",
   "execution_count": null,
   "metadata": {},
   "outputs": [],
   "source": []
  }
 ],
 "metadata": {
  "kernelspec": {
   "display_name": "Python 3",
   "language": "python",
   "name": "python3"
  },
  "language_info": {
   "codemirror_mode": {
    "name": "ipython",
    "version": 3
   },
   "file_extension": ".py",
   "mimetype": "text/x-python",
   "name": "python",
   "nbconvert_exporter": "python",
   "pygments_lexer": "ipython3",
   "version": "3.8.19"
  }
 },
 "nbformat": 4,
 "nbformat_minor": 2
}
