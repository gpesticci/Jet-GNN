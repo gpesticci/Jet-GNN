{
 "cells": [
  {
   "cell_type": "code",
   "execution_count": 618,
   "metadata": {},
   "outputs": [],
   "source": [
    "import pandas as pd\n",
    "import numpy as np\n",
    "import matplotlib.pyplot as plt\n",
    "\n",
    "import torch\n",
    "import torch.nn as nn\n",
    "from torch.nn import Linear, Dropout\n",
    "import torch.nn.functional as F\n",
    "import torch.optim as optim\n",
    "from torch_geometric.data import Data\n",
    "from torch_geometric.loader import DataLoader\n",
    "import torch_geometric as T\n",
    "from torch_geometric.nn import GCNConv, SAGEConv, GraphConv, TransformerConv, global_mean_pool\n",
    "from torch.nn.utils import clip_grad_norm_\n",
    "\n",
    "import networkx as nx\n",
    "\n",
    "from sklearn.metrics import roc_curve, roc_auc_score, auc"
   ]
  },
  {
   "cell_type": "code",
   "execution_count": 2,
   "metadata": {},
   "outputs": [],
   "source": [
    "# Read from csv (without second list in daughter columns - see data_loading.ipynb)\n",
    "train_df = pd.read_csv('new_train_data.csv')\n",
    "test_df = pd.read_csv('new_test_data.csv')"
   ]
  },
  {
   "cell_type": "code",
   "execution_count": 184,
   "metadata": {},
   "outputs": [],
   "source": [
    "# Track/ daughter kinematic features\n",
    "train_d_cols = list(train_df[train_df.columns[train_df.columns.str.contains(\"_Daughters\")]])\n",
    "test_d_cols = list(test_df[test_df.columns[test_df.columns.str.contains(\"_Daughters\")]])\n",
    "\n",
    "# Jet input features\n",
    "train_jet_cols = ['Jet0_Eta', 'Jet0_PT']\n",
    "test_jet_cols = ['Jet1_Eta', 'Jet1_PT']\n",
    "\n",
    "# Features columns (daughter kinematics + Eta and pT)\n",
    "train_f_cols = train_d_cols + train_jet_cols\n",
    "test_f_cols = test_d_cols + test_jet_cols"
   ]
  },
  {
   "cell_type": "code",
   "execution_count": 4,
   "metadata": {},
   "outputs": [],
   "source": [
    "# Duplicate Jet PT and Eta elements as a list the same length as the number of daughters in each row\n",
    "def duplicate(df, cols, n_col):\n",
    "    def duplicate_value(row, col, n_col):\n",
    "        value = row[col]\n",
    "        if isinstance(value, (float, int)):\n",
    "            num_daughters = row[n_col]\n",
    "            return [value] * num_daughters\n",
    "        return value\n",
    "\n",
    "    for col in cols:\n",
    "        df[col] = df.apply(lambda row: duplicate_value(row, col, n_col), axis=1)\n",
    "    return df\n",
    "\n",
    "# Converts string into list of floats (already duplicated and dropped second array)\n",
    "def convert_to_lists(df, d_cols):\n",
    "    for col in d_cols:\n",
    "        df[col] = df[col].apply(lambda x: [float(num) for num in x.strip('[]').split(',')] if isinstance(x, str) else x)\n",
    "    return df"
   ]
  },
  {
   "cell_type": "code",
   "execution_count": 5,
   "metadata": {},
   "outputs": [],
   "source": [
    "# Duplicate and preprocess daughter columns\n",
    "train_df = duplicate(train_df, ['Jet0_PT', 'Jet0_Eta', 'IsB'], 'Jet0_nDaughters')\n",
    "test_df = duplicate(test_df, ['Jet1_PT', 'Jet1_Eta', 'IsB'], 'Jet1_nDaughters')\n",
    "\n",
    "# Clean up data from str to list of floats\n",
    "train_df = convert_to_lists(train_df, train_d_cols)\n",
    "test_df = convert_to_lists(test_df, test_d_cols)"
   ]
  },
  {
   "cell_type": "code",
   "execution_count": 6,
   "metadata": {},
   "outputs": [],
   "source": [
    "# Shuffle the data\n",
    "train_df = train_df.sample(frac=1).reset_index(drop=True)\n",
    "test_df = test_df.sample(frac=1).reset_index(drop=True)"
   ]
  },
  {
   "cell_type": "code",
   "execution_count": 7,
   "metadata": {},
   "outputs": [],
   "source": [
    "# Select first 500 sig aand first 500 bgk data for quicker training\n",
    "cut_train_df = pd.concat([train_df.head(1000), train_df.iloc[100000:101000]]) \n",
    "cut_test_df = pd.concat([test_df.head(1000), test_df.iloc[100000:101000]])"
   ]
  },
  {
   "cell_type": "code",
   "execution_count": 560,
   "metadata": {},
   "outputs": [],
   "source": [
    "# New - returns features as array of [jet][daughter][feature]\n",
    "def node_features(df, features_cols):\n",
    "    features_list = []\n",
    "    for _, row in df.iterrows():\n",
    "        # Determine the number of nodes (maximum length of daughter features)\n",
    "        max_nodes = max(len(row[col]) if isinstance(row[col], list) else 1 for col in features_cols)\n",
    "        \n",
    "        # Initialize a list of lists for this jet's nodes\n",
    "        jet_nodes = [[] for _ in range(max_nodes)]\n",
    "        \n",
    "        for column in features_cols:\n",
    "            cell_value = row[column]\n",
    "            if isinstance(cell_value, list):\n",
    "                for i in range(max_nodes):\n",
    "                    jet_nodes[i].append(cell_value[i])\n",
    "            else:\n",
    "                # Scalar value, add to all nodes\n",
    "                for node_features in jet_nodes:\n",
    "                    node_features.append(cell_value)\n",
    "        \n",
    "        features_list.append(jet_nodes)\n",
    "    \n",
    "    return np.array(features_list, dtype=object)"
   ]
  },
  {
   "cell_type": "code",
   "execution_count": 735,
   "metadata": {},
   "outputs": [],
   "source": [
    "train_features = node_features(cut_train_df, train_f_cols)\n",
    "test_features = node_features(cut_test_df, test_f_cols)"
   ]
  },
  {
   "cell_type": "code",
   "execution_count": 736,
   "metadata": {},
   "outputs": [],
   "source": [
    "def create_data_objects(features_array, labels):\n",
    "    data_objects = []\n",
    "    \n",
    "    for jet_idx, jet_features in enumerate(features_array):\n",
    "        x = torch.tensor(jet_features, dtype=torch.float)\n",
    "        \n",
    "        # Number of nodes for this jet\n",
    "        num_nodes = x.size(0) \n",
    "        \n",
    "        # Create fully connected edges\n",
    "        edge_index = torch.combinations(torch.arange(num_nodes), r=2).t()\n",
    "        edge_index = torch.cat([edge_index, edge_index.flip(0)], dim=1)\n",
    "        \n",
    "        y = torch.tensor(labels[jet_idx], dtype=torch.long)\n",
    "        data = Data(x=x, edge_index=edge_index, y=y)\n",
    "        \n",
    "        data_objects.append(data)\n",
    "    \n",
    "    return data_objects\n",
    "\n",
    "# Create Data objects\n",
    "train_labels = cut_train_df['IsB'].tolist()\n",
    "train_data = create_data_objects(train_features, train_labels)\n",
    "\n",
    "test_labels = cut_test_df['IsB'].tolist()\n",
    "test_data = create_data_objects(test_features, test_labels)"
   ]
  },
  {
   "cell_type": "code",
   "execution_count": 795,
   "metadata": {},
   "outputs": [],
   "source": [
    "# Load data\n",
    "train_loader = DataLoader(train_data, batch_size=64, shuffle=True)\n",
    "test_loader = DataLoader(test_data, batch_size=64, shuffle=False)"
   ]
  },
  {
   "cell_type": "markdown",
   "metadata": {},
   "source": [
    "# Training Model"
   ]
  },
  {
   "cell_type": "code",
   "execution_count": 914,
   "metadata": {},
   "outputs": [],
   "source": [
    "# Define GNN model\n",
    "\n",
    "class GNN(torch.nn.Module):\n",
    "    def __init__(self):\n",
    "        super(GNN, self).__init__()\n",
    "        hidden_channels = 128\n",
    "        self.conv1 = GraphConv(len(train_f_cols), hidden_channels)\n",
    "        self.conv2 = GraphConv(hidden_channels, hidden_channels)\n",
    "        self.conv3 = GraphConv(hidden_channels, hidden_channels)\n",
    "        self.conv4 = GraphConv(hidden_channels, hidden_channels)\n",
    "        self.lin = Linear(hidden_channels, 1)\n",
    "        \n",
    "\n",
    "    def forward(self, data):\n",
    "        x, edge_index = data.x, data.edge_index\n",
    "\n",
    "        x = self.conv1(x, edge_index)\n",
    "        x = F.relu(x)\n",
    "        x = self.conv2(x, edge_index)\n",
    "        x = F.relu(x)\n",
    "        x = self.conv3(x, edge_index)\n",
    "        x = F.relu(x)\n",
    "        x = self.conv4(x, edge_index)\n",
    "        x = F.sigmoid(x)\n",
    "        x = self.lin(x)\n",
    "        return x.squeeze(1)\n",
    "            \n",
    "model = GNN()"
   ]
  },
  {
   "cell_type": "code",
   "execution_count": 915,
   "metadata": {},
   "outputs": [
    {
     "name": "stdout",
     "output_type": "stream",
     "text": [
      "Epoch: 001, Loss: 0.6919, Train Acc: 0.5116, Test Acc: 0.5177\n",
      "Epoch: 002, Loss: 0.6800, Train Acc: 0.5457, Test Acc: 0.5463\n",
      "Epoch: 003, Loss: 0.6705, Train Acc: 0.5199, Test Acc: 0.5236\n",
      "Epoch: 004, Loss: 0.6993, Train Acc: 0.5199, Test Acc: 0.5236\n",
      "Epoch: 005, Loss: 0.7082, Train Acc: 0.5199, Test Acc: 0.5236\n",
      "Epoch: 006, Loss: 0.6987, Train Acc: 0.5184, Test Acc: 0.5222\n",
      "Epoch: 007, Loss: 0.6600, Train Acc: 0.5199, Test Acc: 0.5236\n",
      "Epoch: 008, Loss: 0.7046, Train Acc: 0.5199, Test Acc: 0.5236\n",
      "Epoch: 009, Loss: 0.6940, Train Acc: 0.5199, Test Acc: 0.5236\n",
      "Epoch: 010, Loss: 0.6993, Train Acc: 0.5199, Test Acc: 0.5236\n"
     ]
    }
   ],
   "source": [
    "# Define optimizer and criterion\n",
    "optimizer = optim.Adam(model.parameters(), lr=1e-3, weight_decay=1e-4)\n",
    "criterion = torch.nn.BCEWithLogitsLoss()\n",
    "#scheduler = optim.lr_scheduler.ReduceLROnPlateau(optimizer, mode='min', factor=0.5, patience=5)\n",
    "\n",
    "# Training loop\n",
    "def train():\n",
    "    model.train()\n",
    "    for data in train_loader:\n",
    "        optimizer.zero_grad()\n",
    "        out = model(data)\n",
    "        loss = criterion(out, data.y.float())\n",
    "        clip_grad_norm_(model.parameters(), max_norm=1.0)\n",
    "        loss.backward()\n",
    "        optimizer.step()\n",
    "    return loss.item()\n",
    "\n",
    "def test(loader):\n",
    "    model.eval()\n",
    "    total_correct = 0\n",
    "    total_samples = 0\n",
    "    \n",
    "    with torch.no_grad():\n",
    "        for data in loader:\n",
    "            out = model(data)\n",
    "            pred = (torch.sigmoid(out) > 0.5).float()\n",
    "            correct = (pred.squeeze() == data.y).sum().item()\n",
    "            total_correct += correct\n",
    "            total_samples += len(data.y)\n",
    "\n",
    "    accuracy = total_correct / total_samples\n",
    "    return accuracy\n",
    "\n",
    "for epoch in range(10):\n",
    "    loss = train()\n",
    "    train_acc = test(train_loader)\n",
    "    test_acc = test(test_loader)\n",
    "\n",
    "    print(f'Epoch: {epoch+1:03d}, Loss: {loss:.4f}, Train Acc: {train_acc:.4f}, Test Acc: {test_acc:.4f}')\n",
    "    #scheduler.step(train_loss)"
   ]
  },
  {
   "cell_type": "code",
   "execution_count": 916,
   "metadata": {},
   "outputs": [
    {
     "name": "stdout",
     "output_type": "stream",
     "text": [
      "conv1.lin_rel.weight: grad_norm: 0.0\n",
      "conv1.lin_rel.bias: grad_norm: 0.0\n",
      "conv1.lin_root.weight: grad_norm: 0.0\n",
      "conv2.lin_rel.weight: grad_norm: 0.0\n",
      "conv2.lin_rel.bias: grad_norm: 0.0\n",
      "conv2.lin_root.weight: grad_norm: 0.0\n",
      "conv3.lin_rel.weight: grad_norm: 0.0\n",
      "conv3.lin_rel.bias: grad_norm: 0.0\n",
      "conv3.lin_root.weight: grad_norm: 0.0\n",
      "conv4.lin_rel.weight: grad_norm: 0.0\n",
      "conv4.lin_rel.bias: grad_norm: 0.0\n",
      "conv4.lin_root.weight: grad_norm: 0.0\n",
      "lin.weight: grad_norm: 0.6252915859222412\n",
      "lin.bias: grad_norm: 0.08282113075256348\n"
     ]
    }
   ],
   "source": [
    "# Check gradients to see if they are exploding or vanishing\n",
    "def check_gradients():\n",
    "    model.train()\n",
    "    data = next(iter(train_loader))\n",
    "    optimizer.zero_grad()\n",
    "    out = model(data)\n",
    "    loss = criterion(out.view(-1), data.y.float())\n",
    "    loss.backward()\n",
    "    \n",
    "    for name, param in model.named_parameters():\n",
    "        if param.requires_grad:\n",
    "            print(f\"{name}: grad_norm: {param.grad.norm().item()}\")\n",
    "\n",
    "check_gradients()"
   ]
  },
  {
   "cell_type": "markdown",
   "metadata": {},
   "source": [
    "# ROC Curve and AUC"
   ]
  },
  {
   "cell_type": "code",
   "execution_count": 816,
   "metadata": {},
   "outputs": [],
   "source": [
    "# Get model predictions\n",
    "y_true = []  # class values (0 or 1)\n",
    "y_scores = []  # predicted probabilities or scores\n",
    "\n",
    "model.eval()\n",
    "with torch.no_grad():\n",
    "    for data in test_loader:\n",
    "        out = model(data)\n",
    "        prob = torch.sigmoid(out)\n",
    "        \n",
    "        y_true.append(data.y.numpy().flatten())\n",
    "        y_scores.append(prob.numpy().flatten())\n",
    "\n",
    "y_true = np.concatenate(y_true)\n",
    "y_scores = np.concatenate(y_scores)"
   ]
  },
  {
   "cell_type": "code",
   "execution_count": 817,
   "metadata": {},
   "outputs": [],
   "source": [
    "# Compute ROC curve and AUC\n",
    "fpr, tpr, thresholds = roc_curve(y_true, y_scores)\n",
    "auc = roc_auc_score(y_true, y_scores)\n",
    "\n",
    "# Compute background rejection and signal efficiency\n",
    "back_rej = 1 - fpr\n",
    "sig_eff = tpr"
   ]
  },
  {
   "cell_type": "code",
   "execution_count": 818,
   "metadata": {},
   "outputs": [
    {
     "data": {
      "image/png": "[encoded data removed]",
      "text/plain": [
       "<Figure size 640x480 with 1 Axes>"
      ]
     },
     "metadata": {},
     "output_type": "display_data"
    }
   ],
   "source": [
    "# Plot ROC Curve and show AUC\n",
    "plt.plot(sig_eff, back_rej, color='navy', label=f'ROC curve (AUC = {auc:.4f})')\n",
    "plt.plot([0, 1], [1, 0], color='grey', linestyle='dotted', label='baseline')\n",
    "plt.xlim([0.0, 1.01])\n",
    "plt.ylim([0.0, 1.01])\n",
    "plt.ylabel('Background Rejection')\n",
    "plt.xlabel('Signal Efficiency' )\n",
    "plt.title('Receiver Operating Characteristics (ROC)')\n",
    "plt.legend(loc='lower left')\n",
    "plt.show()"
   ]
  },
  {
   "cell_type": "markdown",
   "metadata": {},
   "source": [
    "Old Method for creating data object - incorrectly adds features"
   ]
  },
  {
   "cell_type": "code",
   "execution_count": 533,
   "metadata": {},
   "outputs": [],
   "source": [
    "# Creates list of node features (float) - features[x][y], x = row index, y = index of feature column\n",
    "def node_features(df, features_cols):\n",
    "    node_features_list = []\n",
    "    node_features = []\n",
    "    for i, row in df.iterrows():\n",
    "        row_nodes = []\n",
    "        for col in features_cols:\n",
    "            feature = df.at[i, col]\n",
    "            if isinstance(feature, list):\n",
    "                node_features.extend(feature)\n",
    "                if len(row_nodes) < len(feature):\n",
    "                    row_nodes.extend([[] for _ in range(len(feature) - len(row_nodes))])\n",
    "                for j, val in enumerate(feature):\n",
    "                    row_nodes[j].append(val)\n",
    "            else:\n",
    "                node_features.append(feature)\n",
    "                for node in row_nodes:\n",
    "                        node.append(feature)\n",
    "        node_features_list.extend(row_nodes)\n",
    "    return node_features_list\n",
    "\n",
    "# Creates a data object of each df\n",
    "def create_data_object(df, features_cols):\n",
    "    \n",
    "    df = df.sample(frac=1).reset_index(drop=True) # shuffles data before creating data object\n",
    "    data_list = []\n",
    "\n",
    "    for i in range(len(df)):\n",
    "        node_df = df.iloc[[i]]\n",
    "        \n",
    "        features = node_features(node_df, features_cols)\n",
    "        num_nodes = len(features)\n",
    "\n",
    "        G = nx.complete_graph(num_nodes)\n",
    "        edge_index = torch.tensor(list(G.edges)).t().contiguous()\n",
    "\n",
    "        x = torch.tensor(features, dtype=torch.float)\n",
    "        y = torch.tensor(node_df['IsB'].iloc[0], dtype=torch.long)\n",
    "\n",
    "        data = Data(x=x, edge_index=edge_index, y=y)\n",
    "        data_list.append(data)\n",
    "        \n",
    "    return data_list"
   ]
  },
  {
   "cell_type": "code",
   "execution_count": 534,
   "metadata": {},
   "outputs": [],
   "source": [
    "trdata = create_data_object(cut_train_df, train_f_cols)"
   ]
  }
 ],
 "metadata": {
  "kernelspec": {
   "display_name": "Python 3",
   "language": "python",
   "name": "python3"
  },
  "language_info": {
   "codemirror_mode": {
    "name": "ipython",
    "version": 3
   },
   "file_extension": ".py",
   "mimetype": "text/x-python",
   "name": "python",
   "nbconvert_exporter": "python",
   "pygments_lexer": "ipython3",
   "version": "3.8.19"
  }
 },
 "nbformat": 4,
 "nbformat_minor": 2
}
