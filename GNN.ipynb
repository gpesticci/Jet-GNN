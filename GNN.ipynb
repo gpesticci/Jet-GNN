{
 "cells": [
  {
   "cell_type": "code",
   "execution_count": 1,
   "metadata": {},
   "outputs": [],
   "source": [
    "import pandas as pd\n",
    "import numpy as np\n",
    "import matplotlib.pyplot as plt\n",
    "\n",
    "import torch\n",
    "import torch.nn as nn\n",
    "from torch.nn import Linear, Dropout, LayerNorm\n",
    "import torch.nn.functional as F\n",
    "import torch.optim as optim\n",
    "from torch_geometric.data import Data\n",
    "from torch_geometric.loader import DataLoader\n",
    "import torch_geometric as T\n",
    "from torch_geometric.nn import GCNConv, SAGEConv, GraphConv, TransformerConv\n",
    "from torch.nn.utils import clip_grad_norm_\n",
    "\n",
    "import networkx as nx\n",
    "\n",
    "from sklearn.metrics import roc_curve, roc_auc_score, auc\n",
    "import random"
   ]
  },
  {
   "cell_type": "code",
   "execution_count": 2,
   "metadata": {},
   "outputs": [],
   "source": [
    "# Read from csv (without second list in daughter columns - see data_loading.ipynb)\n",
    "train_df = pd.read_csv('new_train_data.csv')\n",
    "test_df = pd.read_csv('new_test_data.csv')"
   ]
  },
  {
   "cell_type": "code",
   "execution_count": 3,
   "metadata": {},
   "outputs": [],
   "source": [
    "# Duplicate data to lists matching the number of daughters/ nodes per jet/ row\n",
    "def duplicate(df, cols, n_col):\n",
    "    for col in cols:\n",
    "        df[col] = df.apply(lambda row: [row[col]] * row[n_col] if isinstance(row[col], (float, int)) else row[col], axis=1)\n",
    "    return df\n",
    "\n",
    "# Convert string values into list of floats\n",
    "def convert_to_lists(df, d_cols):\n",
    "    for col in d_cols:\n",
    "        df[col] = df[col].apply(lambda x: [float(num) for num in x.strip('[]').split(',')] if isinstance(x, str) else x)\n",
    "    return df\n",
    "\n",
    "# Create node feature array: [jet][daughter][feature]\n",
    "def node_features(df, features_cols):\n",
    "    features_list = []\n",
    "    \n",
    "    for _, row in df.iterrows():\n",
    "\n",
    "        max_nodes = max(len(row[col]) if isinstance(row[col], list) else 1 for col in features_cols)\n",
    "        jet_nodes = [[] for _ in range(max_nodes)]\n",
    "        \n",
    "        for column in features_cols:\n",
    "            cell_value = row[column]\n",
    "\n",
    "            if isinstance(cell_value, list):\n",
    "                for i in range(max_nodes):\n",
    "                    jet_nodes[i].append(cell_value[i])\n",
    "            else:\n",
    "                for node_features in jet_nodes:\n",
    "                    node_features.append(cell_value)\n",
    "        \n",
    "        features_list.append(jet_nodes)\n",
    "    \n",
    "    return np.array(features_list, dtype=object)\n"
   ]
  },
  {
   "cell_type": "markdown",
   "metadata": {},
   "source": [
    "Data preprocessing"
   ]
  },
  {
   "cell_type": "code",
   "execution_count": 4,
   "metadata": {},
   "outputs": [],
   "source": [
    "# Track/ daughter kinematic features\n",
    "train_d_cols = [col for col in train_df.columns if \"_Daughters\" in col]\n",
    "test_d_cols = [col for col in test_df.columns if \"_Daughters\" in col]\n",
    "\n",
    "# Jet input features\n",
    "train_jet_cols = ['Jet0_Eta', 'Jet0_PT', 'Gauss']\n",
    "test_jet_cols = ['Jet1_Eta', 'Jet1_PT', 'Gauss']\n",
    "\n",
    "# Features columns (daughter kinematics + Eta and pT)\n",
    "train_f_cols = train_d_cols + train_jet_cols\n",
    "test_f_cols = test_d_cols + test_jet_cols\n",
    "\n",
    "# Preprocess train and test data\n",
    "train_df = duplicate(train_df, ['Jet0_PT', 'Jet0_Eta', 'IsB'], 'Jet0_nDaughters')\n",
    "test_df = duplicate(test_df, ['Jet1_PT', 'Jet1_Eta', 'IsB'], 'Jet1_nDaughters')\n",
    "train_df = convert_to_lists(train_df, train_d_cols)\n",
    "test_df = convert_to_lists(test_df, test_d_cols)\n",
    "\n",
    "# Shuffle data\n",
    "train_df = train_df.sample(frac=1).reset_index(drop=True)\n",
    "test_df = test_df.sample(frac=1).reset_index(drop=True)\n",
    "\n",
    "# Create a smaller subset of the data for quicker training\n",
    "cut_train_df = pd.concat([train_df.head(1000), train_df.iloc[100000:101000]]) \n",
    "cut_test_df = pd.concat([test_df.head(1000), test_df.iloc[100000:101000]])"
   ]
  },
  {
   "cell_type": "markdown",
   "metadata": {},
   "source": [
    "Test - create gaussian distribution around 10 for background and 25 for signal (std = 5) to see if it picks up on it"
   ]
  },
  {
   "cell_type": "code",
   "execution_count": 115,
   "metadata": {},
   "outputs": [],
   "source": [
    "def generate_gaussian(mean, std_dev):\n",
    "    return random.gauss(mean, std_dev)\n",
    "\n",
    "def generate_gaussian_for_list(row, mean1, mean2, std_dev):\n",
    "    if isinstance(row['IsB'], list):\n",
    "        gauss_list = []\n",
    "        for is_b_val in row['IsB']:\n",
    "            if is_b_val == 1:\n",
    "                gauss_list.append(generate_gaussian(mean1, std_dev))\n",
    "            if is_b_val == 0:\n",
    "                gauss_list.append(generate_gaussian(mean2, std_dev))\n",
    "        return gauss_list\n",
    "\n",
    "cut_train_df['Gauss'] = cut_train_df.apply(lambda row: generate_gaussian_for_list(row, 10, 25, 5), axis=1)\n",
    "cut_test_df['Gauss'] = cut_test_df.apply(lambda row: generate_gaussian_for_list(row, 10, 25, 5), axis=1)"
   ]
  },
  {
   "cell_type": "code",
   "execution_count": 121,
   "metadata": {},
   "outputs": [
    {
     "data": {
      "text/plain": [
       "0         [19.478097369715503, 22.545040794304324, 29.39...\n",
       "1         [14.108797659184127, 12.330089940334759, 12.42...\n",
       "2         [9.967742371820734, 9.325682005181061, 10.6499...\n",
       "3         [15.40713605600724, 31.27770012075537, 34.7553...\n",
       "4         [27.648933477540712, 24.436999053130407, 23.44...\n",
       "                                ...                        \n",
       "100995    [13.607366923245234, 10.60384997597638, 7.3579...\n",
       "100996    [1.791158818014102, 7.986597138402942, 8.36155...\n",
       "100997    [25.026494520846317, 27.466322250665844, 23.05...\n",
       "100998    [11.253462479583385, 18.56346406371464, 10.415...\n",
       "100999    [32.93650757745201, 22.67029548590104, 27.4159...\n",
       "Name: Gauss, Length: 2000, dtype: object"
      ]
     },
     "execution_count": 121,
     "metadata": {},
     "output_type": "execute_result"
    }
   ],
   "source": [
    "cut_train_df.Gauss"
   ]
  },
  {
   "cell_type": "code",
   "execution_count": 117,
   "metadata": {},
   "outputs": [
    {
     "data": {
      "text/plain": [
       "0                   [0, 0, 0, 0, 0, 0, 0, 0, 0, 0, 0, 0, 0]\n",
       "1         [1, 1, 1, 1, 1, 1, 1, 1, 1, 1, 1, 1, 1, 1, 1, ...\n",
       "2                   [1, 1, 1, 1, 1, 1, 1, 1, 1, 1, 1, 1, 1]\n",
       "3                               [0, 0, 0, 0, 0, 0, 0, 0, 0]\n",
       "4         [0, 0, 0, 0, 0, 0, 0, 0, 0, 0, 0, 0, 0, 0, 0, ...\n",
       "                                ...                        \n",
       "100995    [1, 1, 1, 1, 1, 1, 1, 1, 1, 1, 1, 1, 1, 1, 1, ...\n",
       "100996    [1, 1, 1, 1, 1, 1, 1, 1, 1, 1, 1, 1, 1, 1, 1, ...\n",
       "100997                    [0, 0, 0, 0, 0, 0, 0, 0, 0, 0, 0]\n",
       "100998    [1, 1, 1, 1, 1, 1, 1, 1, 1, 1, 1, 1, 1, 1, 1, ...\n",
       "100999                                [0, 0, 0, 0, 0, 0, 0]\n",
       "Name: IsB, Length: 2000, dtype: object"
      ]
     },
     "execution_count": 117,
     "metadata": {},
     "output_type": "execute_result"
    }
   ],
   "source": [
    "cut_train_df.IsB"
   ]
  },
  {
   "cell_type": "code",
   "execution_count": 141,
   "metadata": {},
   "outputs": [
    {
     "data": {
      "text/plain": [
       "19.478097369715503"
      ]
     },
     "execution_count": 141,
     "metadata": {},
     "output_type": "execute_result"
    }
   ],
   "source": [
    "train_features[0][0][31]"
   ]
  },
  {
   "cell_type": "code",
   "execution_count": 129,
   "metadata": {},
   "outputs": [],
   "source": [
    "# Create graphs for each jet\n",
    "def create_data_objects(features_array, labels):\n",
    "    data_objects = []\n",
    "    for jet_idx, jet_features in enumerate(features_array):\n",
    "\n",
    "        num_classes = 2 # binary classification\n",
    "        x = torch.tensor(jet_features, dtype=torch.float)\n",
    "        num_nodes = x.size(0)\n",
    "\n",
    "        # Fully connected edges\n",
    "        edge_index = []\n",
    "        for i in range(num_nodes):\n",
    "            for j in range(num_nodes):\n",
    "                edge_index.append([i, j])\n",
    "        \n",
    "        edge_index = torch.tensor(edge_index, dtype=torch.long).t().contiguous()\n",
    "\n",
    "        y = torch.tensor(labels[jet_idx], dtype=torch.long)\n",
    "        \n",
    "        data = Data(x=x, edge_index=edge_index, y=y, num_classes=num_classes, num_nodes=num_nodes)\n",
    "        data_objects.append(data)\n",
    "\n",
    "    return data_objects\n",
    "\n",
    "# Extract node features\n",
    "train_features = node_features(cut_train_df, train_f_cols)\n",
    "test_features = node_features(cut_test_df, test_f_cols)\n",
    "\n",
    "# Define labels - IsB = 1: b-jet, IsB = 0: not b-jet\n",
    "train_labels = cut_train_df['IsB'].tolist()\n",
    "test_labels = cut_test_df['IsB'].tolist()\n",
    "\n",
    "# Create graphs for each jet\n",
    "train_data = create_data_objects(train_features, train_labels)\n",
    "test_data = create_data_objects(test_features, test_labels)\n",
    "\n",
    "# Load Data in batches\n",
    "train_loader = DataLoader(train_data, batch_size=64, shuffle=True)\n",
    "test_loader = DataLoader(test_data, batch_size=64, shuffle=False)"
   ]
  },
  {
   "cell_type": "code",
   "execution_count": 131,
   "metadata": {},
   "outputs": [],
   "source": [
    "class GNN(torch.nn.Module):\n",
    "    def __init__(self):\n",
    "        super(GNN, self).__init__()\n",
    "        hidden_channels = 64\n",
    "        self.conv1 = GraphConv(len(train_f_cols), hidden_channels)\n",
    "        self.conv2 = GraphConv(hidden_channels, hidden_channels)\n",
    "        self.conv3 = GraphConv(hidden_channels, hidden_channels)\n",
    "        self.bn1 = torch.nn.BatchNorm1d(hidden_channels)\n",
    "        self.bn2 = torch.nn.BatchNorm1d(hidden_channels)\n",
    "        self.bn3 = torch.nn.BatchNorm1d(hidden_channels)\n",
    "        self.lin = Linear(hidden_channels, 1)\n",
    "\n",
    "    def forward(self, data):\n",
    "        x, edge_index = data.x, data.edge_index\n",
    "\n",
    "        x = self.bn1(self.conv1(x, edge_index))\n",
    "        x = F.relu(x)\n",
    "        x = self.bn2(self.conv2(x, edge_index))\n",
    "        x = F.relu(x)\n",
    "        x = self.bn3(self.conv3(x, edge_index))\n",
    "        x = F.relu(x)\n",
    "                \n",
    "        x = self.lin(x)\n",
    "        \n",
    "        return x\n",
    "\n",
    "model = GNN()"
   ]
  },
  {
   "cell_type": "code",
   "execution_count": 132,
   "metadata": {},
   "outputs": [
    {
     "name": "stdout",
     "output_type": "stream",
     "text": [
      "Epoch: 001, Loss: 0.6896, Train Acc: 0.5350, Test Acc: 0.5251\n",
      "Epoch: 002, Loss: 0.7170, Train Acc: 0.5624, Test Acc: 0.5402\n",
      "Epoch: 003, Loss: 0.6563, Train Acc: 0.5607, Test Acc: 0.5256\n",
      "Epoch: 004, Loss: 0.7068, Train Acc: 0.5674, Test Acc: 0.5391\n",
      "Epoch: 005, Loss: 0.6605, Train Acc: 0.5720, Test Acc: 0.5537\n",
      "Epoch: 006, Loss: 0.6765, Train Acc: 0.5655, Test Acc: 0.5543\n",
      "Epoch: 007, Loss: 0.6683, Train Acc: 0.5632, Test Acc: 0.5522\n",
      "Epoch: 008, Loss: 0.7209, Train Acc: 0.5676, Test Acc: 0.5526\n",
      "Epoch: 009, Loss: 0.6658, Train Acc: 0.5593, Test Acc: 0.5528\n",
      "Epoch: 010, Loss: 0.7189, Train Acc: 0.5535, Test Acc: 0.5683\n"
     ]
    }
   ],
   "source": [
    "# Define optimizer and criterion\n",
    "optimizer = optim.Adam(model.parameters(), lr=1e-4, weight_decay=1e-4)\n",
    "criterion = torch.nn.BCEWithLogitsLoss()\n",
    "#scheduler = optim.lr_scheduler.ReduceLROnPlateau(optimizer, mode='min', factor=0.5, patience=5)\n",
    "\n",
    "# Training loop\n",
    "def train():\n",
    "    model.train()\n",
    "    for data in train_loader:\n",
    "        #print(f\"x:  {data.x}\")\n",
    "        #print(f\"x shape:  {data.x.shape}\")\n",
    "        #print(f\"Edge index:  {data.edge_index}\")\n",
    "        #print(f\"Edge index shape:  {data.edge_index.shape}\")\n",
    "        #print(f\"y:  {data.y}\")\n",
    "        #print(f\"y shape:  {data.y.shape}\")\n",
    "        optimizer.zero_grad()\n",
    "        out = model(data).squeeze(-1)\n",
    "        #print(out)\n",
    "        loss = criterion(out, data.y.float())\n",
    "        #print(loss)\n",
    "        clip_grad_norm_(model.parameters(), max_norm=1.0)\n",
    "        loss.backward()\n",
    "        optimizer.step()\n",
    "    return loss.item()\n",
    "\n",
    "def test(loader):\n",
    "    model.eval()\n",
    "    total_correct = 0\n",
    "    total_samples = 0\n",
    "    \n",
    "    with torch.no_grad():\n",
    "        for data in loader:\n",
    "            out = model(data)\n",
    "            #print(out)\n",
    "            pred = (torch.sigmoid(out) > 0.5).float()\n",
    "            #print(pred)\n",
    "            correct = (pred.squeeze() == data.y).sum().item()\n",
    "            #print(correct)\n",
    "            total_correct += correct\n",
    "            total_samples += len(data.y)\n",
    "            #print(total_samples)\n",
    "\n",
    "    accuracy = total_correct / total_samples\n",
    "    return accuracy\n",
    "\n",
    "for epoch in range(10):\n",
    "    loss = train()\n",
    "    train_acc = test(train_loader)\n",
    "    test_acc = test(test_loader)\n",
    "\n",
    "    print(f'Epoch: {epoch+1:03d}, Loss: {loss:.4f}, Train Acc: {train_acc:.4f}, Test Acc: {test_acc:.4f}')\n",
    "    #scheduler.step(train_loss)"
   ]
  },
  {
   "cell_type": "code",
   "execution_count": 133,
   "metadata": {},
   "outputs": [
    {
     "name": "stdout",
     "output_type": "stream",
     "text": [
      "conv1.lin_rel.weight:\n",
      "  Grad norm: 0.404702\n",
      "conv1.lin_rel.bias:\n",
      "  Grad norm: 0.000000\n",
      "conv1.lin_root.weight:\n",
      "  Grad norm: 0.040540\n",
      "conv2.lin_rel.weight:\n",
      "  Grad norm: 0.432403\n",
      "conv2.lin_rel.bias:\n",
      "  Grad norm: 0.000000\n",
      "conv2.lin_root.weight:\n",
      "  Grad norm: 0.024924\n",
      "conv3.lin_rel.weight:\n",
      "  Grad norm: 0.241533\n",
      "conv3.lin_rel.bias:\n",
      "  Grad norm: 0.000000\n",
      "conv3.lin_root.weight:\n",
      "  Grad norm: 0.010450\n",
      "bn1.weight:\n",
      "  Grad norm: 0.027016\n",
      "bn1.bias:\n",
      "  Grad norm: 0.043066\n",
      "bn2.weight:\n",
      "  Grad norm: 0.014948\n",
      "bn2.bias:\n",
      "  Grad norm: 0.016175\n",
      "bn3.weight:\n",
      "  Grad norm: 0.023425\n",
      "bn3.bias:\n",
      "  Grad norm: 0.024043\n",
      "lin.weight:\n",
      "  Grad norm: 0.315864\n",
      "lin.bias:\n",
      "  Grad norm: 0.067766\n"
     ]
    }
   ],
   "source": [
    "# Check gradients (exploding or vanishing)\n",
    "def check_gradients():\n",
    "    model.train()\n",
    "    data = next(iter(train_loader))\n",
    "    optimizer.zero_grad()\n",
    "    out = model(data)\n",
    "    loss = criterion(out.squeeze(-1), data.y.float())\n",
    "    loss.backward()\n",
    "        \n",
    "    for name, param in model.named_parameters():\n",
    "        if param.requires_grad:\n",
    "            if param.grad is not None:\n",
    "                grad_norm = param.grad.norm().item()\n",
    "                print(f\"{name}:\")\n",
    "                print(f\"  Grad norm: {grad_norm:.6f}\")\n",
    "\n",
    "check_gradients()"
   ]
  },
  {
   "cell_type": "markdown",
   "metadata": {},
   "source": [
    "Compute ROC Curve and AUC"
   ]
  },
  {
   "cell_type": "code",
   "execution_count": 134,
   "metadata": {},
   "outputs": [],
   "source": [
    "# Get model predictions\n",
    "y_true = []  # class values (0 or 1)\n",
    "y_scores = []  # predicted probabilities or scores\n",
    "\n",
    "model.eval()\n",
    "with torch.no_grad():\n",
    "    for data in test_loader:\n",
    "        out = model(data)\n",
    "        prob = torch.sigmoid(out)\n",
    "        \n",
    "        y_true.append(data.y.numpy().flatten())\n",
    "        y_scores.append(prob.numpy().flatten())\n",
    "\n",
    "y_true = np.concatenate(y_true)\n",
    "y_scores = np.concatenate(y_scores)"
   ]
  },
  {
   "cell_type": "code",
   "execution_count": 135,
   "metadata": {},
   "outputs": [],
   "source": [
    "# Compute ROC curve and AUC\n",
    "fpr, tpr, thresholds = roc_curve(y_true, y_scores)\n",
    "auc = roc_auc_score(y_true, y_scores)\n",
    "\n",
    "# Compute background rejection and signal efficiency\n",
    "back_rej = 1 - fpr\n",
    "sig_eff = tpr"
   ]
  },
  {
   "cell_type": "code",
   "execution_count": 136,
   "metadata": {},
   "outputs": [
    {
     "data": {
      "image/png": "[encoded data removed]",
      "text/plain": [
       "<Figure size 640x480 with 1 Axes>"
      ]
     },
     "metadata": {},
     "output_type": "display_data"
    }
   ],
   "source": [
    "# Plot ROC Curve and show AUC\n",
    "plt.plot(sig_eff, back_rej, color='navy', label=f'ROC curve (AUC = {auc:.4f})')\n",
    "plt.plot([0, 1], [1, 0], color='grey', linestyle='dotted', label='baseline')\n",
    "plt.xlim([0.0, 1.01])\n",
    "plt.ylim([0.0, 1.01])\n",
    "plt.ylabel('Background Rejection')\n",
    "plt.xlabel('Signal Efficiency' )\n",
    "plt.title('Receiver Operating Characteristics (ROC)')\n",
    "plt.legend(loc='lower left')\n",
    "plt.show()"
   ]
  },
  {
   "cell_type": "markdown",
   "metadata": {},
   "source": [
    "Old Method for creating data object - incorrectly adds features"
   ]
  },
  {
   "cell_type": "code",
   "execution_count": null,
   "metadata": {},
   "outputs": [],
   "source": [
    "# Creates list of node features (float) - features[x][y], x = row index, y = index of feature column\n",
    "def node_features(df, features_cols):\n",
    "    node_features_list = []\n",
    "    node_features = []\n",
    "    for i, row in df.iterrows():\n",
    "        row_nodes = []\n",
    "        for col in features_cols:\n",
    "            feature = df.at[i, col]\n",
    "            if isinstance(feature, list):\n",
    "                node_features.extend(feature)\n",
    "                if len(row_nodes) < len(feature):\n",
    "                    row_nodes.extend([[] for _ in range(len(feature) - len(row_nodes))])\n",
    "                for j, val in enumerate(feature):\n",
    "                    row_nodes[j].append(val)\n",
    "            else:\n",
    "                node_features.append(feature)\n",
    "                for node in row_nodes:\n",
    "                        node.append(feature)\n",
    "        node_features_list.extend(row_nodes)\n",
    "    return node_features_list\n",
    "\n",
    "# Creates a data object of each df\n",
    "def create_data_object(df, features_cols):\n",
    "    \n",
    "    df = df.sample(frac=1).reset_index(drop=True) # shuffles data before creating data object\n",
    "    data_list = []\n",
    "\n",
    "    for i in range(len(df)):\n",
    "        node_df = df.iloc[[i]]\n",
    "        \n",
    "        features = node_features(node_df, features_cols)\n",
    "        num_nodes = len(features)\n",
    "\n",
    "        G = nx.complete_graph(num_nodes)\n",
    "        edge_index = torch.tensor(list(G.edges)).t().contiguous()\n",
    "\n",
    "        x = torch.tensor(features, dtype=torch.float)\n",
    "        y = torch.tensor(node_df['IsB'].iloc[0], dtype=torch.long)\n",
    "\n",
    "        data = Data(x=x, edge_index=edge_index, y=y)\n",
    "        data_list.append(data)\n",
    "        \n",
    "    return data_list"
   ]
  }
 ],
 "metadata": {
  "kernelspec": {
   "display_name": "Python 3",
   "language": "python",
   "name": "python3"
  },
  "language_info": {
   "codemirror_mode": {
    "name": "ipython",
    "version": 3
   },
   "file_extension": ".py",
   "mimetype": "text/x-python",
   "name": "python",
   "nbconvert_exporter": "python",
   "pygments_lexer": "ipython3",
   "version": "3.8.19"
  }
 },
 "nbformat": 4,
 "nbformat_minor": 2
}
