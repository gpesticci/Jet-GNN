{
 "cells": [
  {
   "cell_type": "markdown",
   "metadata": {},
   "source": [
    "# No Edges"
   ]
  },
  {
   "cell_type": "code",
   "execution_count": 1,
   "metadata": {},
   "outputs": [
    {
     "name": "stderr",
     "output_type": "stream",
     "text": [
      "/Users/pesticci1/Library/Python/3.9/lib/python/site-packages/threadpoolctl.py:1214: RuntimeWarning: \n",
      "Found Intel OpenMP ('libiomp') and LLVM OpenMP ('libomp') loaded at\n",
      "the same time. Both libraries are known to be incompatible and this\n",
      "can cause random crashes or deadlocks on Linux when loaded in the\n",
      "same Python program.\n",
      "Using threadpoolctl may cause crashes or deadlocks. For more\n",
      "information and possible workarounds, please see\n",
      "    https://github.com/joblib/threadpoolctl/blob/master/multiple_openmp.md\n",
      "\n",
      "  warnings.warn(msg, RuntimeWarning)\n"
     ]
    }
   ],
   "source": [
    "import matplotlib.pyplot as plt\n",
    "import pandas as pd\n",
    "import networkx as nx\n",
    "import numpy as np\n",
    "\n",
    "import torch\n",
    "import torch.nn.functional as F\n",
    "import torch.optim as optim\n",
    "from torch import Tensor\n",
    "from torch_geometric.data import Data, DataLoader\n",
    "from torch.utils.data import Dataset, DataLoader\n",
    "from torch_geometric.utils import from_networkx\n",
    "from torch_geometric.nn import SAGEConv, GCNConv\n",
    "from torch_geometric.transforms import NormalizeScale\n",
    "\n",
    "from itertools import product\n",
    "\n",
    "import h5py\n",
    "\n",
    "# For ROC Curve\n",
    "from sklearn.metrics import roc_curve, auc"
   ]
  },
  {
   "cell_type": "code",
   "execution_count": 2,
   "metadata": {},
   "outputs": [],
   "source": [
    "# Load data\n",
    "signal_df = pd.read_csv('Dijet_bb_pt10_15_dw.csv')\n",
    "background_df = pd.read_csv('Dijet_qq_pt10_15_dw.csv')"
   ]
  },
  {
   "cell_type": "code",
   "execution_count": null,
   "metadata": {},
   "outputs": [],
   "source": [
    "# Distinguish signal and background\n",
    "signal_df['IsB']=1\n",
    "background_df['IsB']=0"
   ]
  },
  {
   "cell_type": "code",
   "execution_count": null,
   "metadata": {},
   "outputs": [],
   "source": [
    "# Separate Jet 0 and Jet 1 data\n",
    "sig_jet0 = signal_df[signal_df.columns[signal_df.columns.str.contains(\"Jet0|IsB\")]]\n",
    "back_jet0 = background_df[background_df.columns[background_df.columns.str.contains(\"Jet0|IsB\")]]\n",
    "\n",
    "sig_jet1 = signal_df[signal_df.columns[signal_df.columns.str.contains(\"Jet1|IsB\")]]\n",
    "back_jet1 = background_df[background_df.columns[background_df.columns.str.contains(\"Jet1|IsB\")]]\n",
    "\n",
    "# Combine signal and background\n",
    "train_df = pd.concat([sig_jet0, back_jet0])\n",
    "test_df = pd.concat([sig_jet1, back_jet1])"
   ]
  },
  {
   "cell_type": "code",
   "execution_count": null,
   "metadata": {},
   "outputs": [],
   "source": [
    "# Create Graph with No Edges from Training DataFrame\n",
    "\n",
    "def no_edges_graph0(df):\n",
    "    G = nx.Graph()\n",
    "\n",
    "    nodes = ['Jet0_MM', 'Jet0_PX', 'Jet0_PY', 'Jet0_PZ', 'Jet0_M', 'Jet0_PT', 'Jet0_Eta', 'Jet0_Phi', 'Jet0_NTrk']\n",
    "    df = df.apply(pd.to_numeric, errors='coerce')\n",
    "\n",
    "    for node in nodes:\n",
    "        G.add_node(node)\n",
    "            \n",
    "    for node in G.nodes(): \n",
    "        feature_cols = df.columns.difference(nodes)  # Exclude node columns\n",
    "        node_features = df.loc[:, feature_cols].values\n",
    "\n",
    "        node_features = torch.tensor(node_features.astype(float), dtype=torch.float) # Convert to float\n",
    "        node_features = torch.nan_to_num(node_features, nan=0.0)  # Replace NaNs with 0.0\n",
    "\n",
    "        # Avoid warning\n",
    "        G.nodes[node]['x'] = node_features[0].clone().detach()\n",
    "    \n",
    "    \n",
    "    data = from_networkx(G)\n",
    "    data.y = torch.ones(data.num_nodes, dtype=torch.long)\n",
    "    data.train_mask = torch.ones(data.num_nodes, dtype=torch.bool)\n",
    "    data.test_mask = torch.ones(data.num_nodes, dtype=torch.bool)\n",
    "\n",
    "    return data"
   ]
  },
  {
   "cell_type": "code",
   "execution_count": null,
   "metadata": {},
   "outputs": [],
   "source": [
    "# Create Graph with No Edges from Training DataFrame\n",
    "\n",
    "def no_edges_graph1(df):\n",
    "    G = nx.Graph()\n",
    "\n",
    "    nodes = ['Jet1_MM', 'Jet1_PX', 'Jet1_PY', 'Jet1_PZ', 'Jet1_M', 'Jet1_PT', 'Jet1_Eta', 'Jet1_Phi', 'Jet1_NTrk']\n",
    "    df = df.apply(pd.to_numeric, errors='coerce')\n",
    "\n",
    "    for node in nodes:\n",
    "        G.add_node(node)\n",
    "            \n",
    "    for node in G.nodes(): \n",
    "        feature_cols = df.columns.difference(nodes)  # Exclude node columns\n",
    "        node_features = df.loc[:, feature_cols].values\n",
    "\n",
    "        node_features = torch.tensor(node_features.astype(float), dtype=torch.float) # Convert to float\n",
    "        node_features = torch.nan_to_num(node_features, nan=0.0)  # Replace NaNs with 0.0\n",
    "\n",
    "        # Avoid warning\n",
    "        G.nodes[node]['x'] = node_features[0].clone().detach()\n",
    "    \n",
    "    \n",
    "    data = from_networkx(G)\n",
    "    data.y = torch.ones(data.num_nodes, dtype=torch.long)\n",
    "    data.train_mask = torch.ones(data.num_nodes, dtype=torch.bool)\n",
    "    data.test_mask = torch.ones(data.num_nodes, dtype=torch.bool)\n",
    "    \n",
    "    return data"
   ]
  },
  {
   "cell_type": "code",
   "execution_count": null,
   "metadata": {},
   "outputs": [],
   "source": [
    "train_graph = no_edges_graph0(train_df)\n",
    "test_graph = no_edges_graph1(test_df)"
   ]
  },
  {
   "cell_type": "code",
   "execution_count": null,
   "metadata": {},
   "outputs": [],
   "source": [
    "# Define GNN model\n",
    "class GNN(torch.nn.Module):\n",
    "    def __init__(self):\n",
    "        super(GNN, self).__init__()\n",
    "        self.conv1 = GCNConv(train_graph.num_node_features, 64)\n",
    "        self.conv2 = GCNConv(64, 2)\n",
    "    \n",
    "    def forward(self, data):\n",
    "        x, edge_index = data.x, data.edge_index\n",
    "        x = self.conv1(x, edge_index)\n",
    "        x = F.relu(x)\n",
    "        x = self.conv2(x, edge_index)\n",
    "        x = F.relu(x)\n",
    "        return F.log_softmax(x, dim=1)\n",
    "\n",
    "model = GNN()"
   ]
  },
  {
   "cell_type": "code",
   "execution_count": null,
   "metadata": {},
   "outputs": [
    {
     "name": "stdout",
     "output_type": "stream",
     "text": [
      "Epoch 1, Loss: 97521049600.0\n",
      "Epoch 2, Loss: 34393755648.0\n",
      "Epoch 3, Loss: 0.6931471824645996\n",
      "Epoch 4, Loss: 0.6931471824645996\n",
      "Epoch 5, Loss: 0.6931471824645996\n",
      "Epoch 6, Loss: 0.6931471824645996\n",
      "Epoch 7, Loss: 0.6931471824645996\n",
      "Epoch 8, Loss: 0.6931471824645996\n",
      "Epoch 9, Loss: 0.6931471824645996\n",
      "Epoch 10, Loss: 0.6931471824645996\n",
      "Epoch 11, Loss: 0.6931471824645996\n",
      "Epoch 12, Loss: 0.6931471824645996\n",
      "Epoch 13, Loss: 0.6931471824645996\n",
      "Epoch 14, Loss: 0.6931471824645996\n",
      "Epoch 15, Loss: 0.6931471824645996\n",
      "Epoch 16, Loss: 0.6931471824645996\n",
      "Epoch 17, Loss: 0.6931471824645996\n",
      "Epoch 18, Loss: 0.6931471824645996\n",
      "Epoch 19, Loss: 0.6931471824645996\n",
      "Epoch 20, Loss: 0.6931471824645996\n",
      "Epoch 21, Loss: 0.6931471824645996\n",
      "Epoch 22, Loss: 0.6931471824645996\n",
      "Epoch 23, Loss: 0.6931471824645996\n",
      "Epoch 24, Loss: 0.6931471824645996\n",
      "Epoch 25, Loss: 0.6931471824645996\n",
      "Epoch 26, Loss: 0.6931471824645996\n",
      "Epoch 27, Loss: 0.6931471824645996\n",
      "Epoch 28, Loss: 0.6931471824645996\n",
      "Epoch 29, Loss: 0.6931471824645996\n",
      "Epoch 30, Loss: 0.6931471824645996\n",
      "Epoch 31, Loss: 0.6931471824645996\n",
      "Epoch 32, Loss: 0.6931471824645996\n",
      "Epoch 33, Loss: 0.6931471824645996\n",
      "Epoch 34, Loss: 0.6931471824645996\n",
      "Epoch 35, Loss: 0.6931471824645996\n",
      "Epoch 36, Loss: 0.6931471824645996\n",
      "Epoch 37, Loss: 0.6931471824645996\n",
      "Epoch 38, Loss: 0.6931471824645996\n",
      "Epoch 39, Loss: 0.6931471824645996\n",
      "Epoch 40, Loss: 0.6931471824645996\n",
      "Epoch 41, Loss: 0.6931471824645996\n",
      "Epoch 42, Loss: 0.6931471824645996\n",
      "Epoch 43, Loss: 0.6931471824645996\n",
      "Epoch 44, Loss: 0.6931471824645996\n",
      "Epoch 45, Loss: 0.6931471824645996\n",
      "Epoch 46, Loss: 0.6931471824645996\n",
      "Epoch 47, Loss: 0.6931471824645996\n",
      "Epoch 48, Loss: 0.6931471824645996\n",
      "Epoch 49, Loss: 0.6931471824645996\n",
      "Epoch 50, Loss: 0.6931471824645996\n",
      "Epoch 51, Loss: 0.6931471824645996\n",
      "Epoch 52, Loss: 0.6931471824645996\n",
      "Epoch 53, Loss: 0.6931471824645996\n",
      "Epoch 54, Loss: 0.6931471824645996\n",
      "Epoch 55, Loss: 0.6931471824645996\n",
      "Epoch 56, Loss: 0.6931471824645996\n",
      "Epoch 57, Loss: 0.6931471824645996\n",
      "Epoch 58, Loss: 0.6931471824645996\n",
      "Epoch 59, Loss: 0.6931471824645996\n",
      "Epoch 60, Loss: 0.6931471824645996\n",
      "Epoch 61, Loss: 0.6931471824645996\n",
      "Epoch 62, Loss: 0.6931471824645996\n",
      "Epoch 63, Loss: 0.6931471824645996\n",
      "Epoch 64, Loss: 0.6931471824645996\n",
      "Epoch 65, Loss: 0.6931471824645996\n",
      "Epoch 66, Loss: 0.6931471824645996\n",
      "Epoch 67, Loss: 0.6931471824645996\n",
      "Epoch 68, Loss: 0.6931471824645996\n",
      "Epoch 69, Loss: 0.6931471824645996\n",
      "Epoch 70, Loss: 0.6931471824645996\n",
      "Epoch 71, Loss: 0.6931471824645996\n",
      "Epoch 72, Loss: 0.6931471824645996\n",
      "Epoch 73, Loss: 0.6931471824645996\n",
      "Epoch 74, Loss: 0.6931471824645996\n",
      "Epoch 75, Loss: 0.6931471824645996\n",
      "Epoch 76, Loss: 0.6931471824645996\n",
      "Epoch 77, Loss: 0.6931471824645996\n",
      "Epoch 78, Loss: 0.6931471824645996\n",
      "Epoch 79, Loss: 0.6931471824645996\n",
      "Epoch 80, Loss: 0.6931471824645996\n",
      "Epoch 81, Loss: 0.6931471824645996\n",
      "Epoch 82, Loss: 0.6931471824645996\n",
      "Epoch 83, Loss: 0.6931471824645996\n",
      "Epoch 84, Loss: 0.6931471824645996\n",
      "Epoch 85, Loss: 0.6931471824645996\n",
      "Epoch 86, Loss: 0.6931471824645996\n",
      "Epoch 87, Loss: 0.6931471824645996\n",
      "Epoch 88, Loss: 0.6931471824645996\n",
      "Epoch 89, Loss: 0.6931471824645996\n",
      "Epoch 90, Loss: 0.6931471824645996\n",
      "Epoch 91, Loss: 0.6931471824645996\n",
      "Epoch 92, Loss: 0.6931471824645996\n",
      "Epoch 93, Loss: 0.6931471824645996\n",
      "Epoch 94, Loss: 0.6931471824645996\n",
      "Epoch 95, Loss: 0.6931471824645996\n",
      "Epoch 96, Loss: 0.6931471824645996\n",
      "Epoch 97, Loss: 0.6931471824645996\n",
      "Epoch 98, Loss: 0.6931471824645996\n",
      "Epoch 99, Loss: 0.6931471824645996\n",
      "Epoch 100, Loss: 0.6931471824645996\n",
      "Accuracy: 0.0\n"
     ]
    }
   ],
   "source": [
    "# Training parameters\n",
    "criterion = torch.nn.CrossEntropyLoss()\n",
    "optimizer = optim.Adam(model.parameters(), lr=0.01)\n",
    "\n",
    "# Training loop\n",
    "def train(model, data, optimizer, criterion):\n",
    "    model.train()\n",
    "    optimizer.zero_grad()\n",
    "    out = model(data)\n",
    "    loss = criterion(out[data.train_mask], data.y[data.train_mask])\n",
    "    loss.backward()\n",
    "    optimizer.step()\n",
    "    return loss.item()\n",
    "\n",
    "for epoch in range(100):\n",
    "    loss = train(model, train_graph, optimizer, criterion)\n",
    "    print(f'Epoch {epoch+1}, Loss: {loss}')\n",
    "\n",
    "# Evaluation\n",
    "def test(model, data):\n",
    "    model.eval()\n",
    "    _, pred = model(data).max(dim=1)\n",
    "    correct = pred[data.test_mask].eq(data.y[data.test_mask]).sum().item()\n",
    "    acc = correct / data.test_mask.sum().item()\n",
    "    return acc\n",
    "\n",
    "accuracy = test(model, test_graph)\n",
    "print(f'Accuracy: {accuracy}')"
   ]
  },
  {
   "cell_type": "markdown",
   "metadata": {},
   "source": [
    "# ROC Curve"
   ]
  },
  {
   "cell_type": "markdown",
   "metadata": {},
   "source": [
    "background rejection = fraction of events that don't belong in your sample that are excluded from your sample\n",
    "#\n",
    "signal efficiency = fraction of the desired events that you actually get"
   ]
  },
  {
   "cell_type": "code",
   "execution_count": null,
   "metadata": {},
   "outputs": [],
   "source": [
    "output = model(test_graph)\n",
    "_, pred = output.max(dim=1)\n",
    "true_labels = test_graph.y.numpy().flatten()\n",
    "y_score = output[:, 1].detach().numpy()"
   ]
  },
  {
   "cell_type": "code",
   "execution_count": null,
   "metadata": {},
   "outputs": [
    {
     "name": "stderr",
     "output_type": "stream",
     "text": [
      "/Users/pesticci1/Library/Python/3.9/lib/python/site-packages/sklearn/metrics/_ranking.py:1174: UndefinedMetricWarning: No negative samples in y_true, false positive value should be meaningless\n",
      "  warnings.warn(\n"
     ]
    }
   ],
   "source": [
    "fpr, tpr, thresholds = roc_curve(true_labels, y_score)\n",
    "auc = auc(fpr, tpr)"
   ]
  },
  {
   "cell_type": "code",
   "execution_count": null,
   "metadata": {},
   "outputs": [
    {
     "name": "stdout",
     "output_type": "stream",
     "text": [
      "Background Rejection: [nan nan]\n",
      "Signal Efficiency: [1. 0.]\n",
      "AUC: nan\n"
     ]
    }
   ],
   "source": [
    "back_rej = 1 - fpr\n",
    "sig_eff = 1 - tpr\n",
    "\n",
    "print(f'Background Rejection: {back_rej}')\n",
    "print(f'Signal Efficiency: {sig_eff}')\n",
    "print(f'AUC: {auc}')"
   ]
  },
  {
   "cell_type": "code",
   "execution_count": null,
   "metadata": {},
   "outputs": [
    {
     "data": {
      "image/png": "[encoded data removed]",
      "text/plain": [
       "<Figure size 640x480 with 1 Axes>"
      ]
     },
     "metadata": {},
     "output_type": "display_data"
    }
   ],
   "source": [
    "plt.plot(back_rej, sig_eff, color='purple', label='ROC Curve')\n",
    "plt.plot([0, 1], [1, 0], color='grey', linestyle='--', label='baseline')\n",
    "plt.plot([], [], ' ', label=f'AUC: {auc}')\n",
    "plt.xlim([0.0, 1.01])\n",
    "plt.ylim([0.0, 1.01])\n",
    "plt.ylabel('Background Rejection')\n",
    "plt.xlabel('Signal Efficiency' )\n",
    "plt.title('Receiver Operating Characteristics (ROC)')\n",
    "plt.legend(loc='best')\n",
    "plt.show()"
   ]
  },
  {
   "cell_type": "code",
   "execution_count": null,
   "metadata": {},
   "outputs": [],
   "source": []
  }
 ],
 "metadata": {
  "kernelspec": {
   "display_name": "Python 3",
   "language": "python",
   "name": "python3"
  },
  "language_info": {
   "codemirror_mode": {
    "name": "ipython",
    "version": 3
   },
   "file_extension": ".py",
   "mimetype": "text/x-python",
   "name": "python",
   "nbconvert_exporter": "python",
   "pygments_lexer": "ipython3",
   "version": "3.9.6"
  }
 },
 "nbformat": 4,
 "nbformat_minor": 2
}
