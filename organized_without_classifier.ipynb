{
 "cells": [
  {
   "cell_type": "code",
   "execution_count": 1,
   "metadata": {},
   "outputs": [],
   "source": [
    "# Import necessary libraries\n",
    "\n",
    "import pandas as pd\n",
    "import numpy as np\n",
    "import matplotlib.pyplot as plt\n",
    "import torch\n",
    "import torch.nn.functional as F\n",
    "import torch.optim as optim\n",
    "from torch_geometric.data import Data, DataLoader\n",
    "import torch_geometric.transforms as T\n",
    "from torch_geometric.utils import from_networkx\n",
    "from torch_geometric.utils import dense_to_sparse\n",
    "from torch_geometric.nn import GCNConv\n",
    "import networkx as nx"
   ]
  },
  {
   "cell_type": "code",
   "execution_count": 2,
   "metadata": {},
   "outputs": [],
   "source": [
    "# Read from csvs without second list in daughter columns (30 s)\n",
    "training_df = pd.read_csv('train_data.csv')\n",
    "testing_df = pd.read_csv('test_data.csv')"
   ]
  },
  {
   "cell_type": "code",
   "execution_count": 3,
   "metadata": {},
   "outputs": [],
   "source": [
    "# Duplicate Jet PT and Eta elements as a list the same length as the number of daughters in each row\n",
    "def duplicate(df, cols, n_col):\n",
    "    def duplicate_value(row, col, n_col):\n",
    "        value = row[col]\n",
    "        if isinstance(value, float):\n",
    "            num_daughters = row[n_col]\n",
    "            return [value] * num_daughters\n",
    "        return value\n",
    "\n",
    "    for col in cols:\n",
    "        df[col] = df.apply(lambda row: duplicate_value(row, col, n_col), axis=1)\n",
    "    return df"
   ]
  },
  {
   "cell_type": "code",
   "execution_count": 4,
   "metadata": {},
   "outputs": [],
   "source": [
    "# 17 s\n",
    "duplicate(training_df, ['Jet0_PT', 'Jet0_Eta'], 'Jet0_nDaughters');\n",
    "duplicate(testing_df, ['Jet1_PT', 'Jet1_Eta'], 'Jet1_nDaughters');"
   ]
  },
  {
   "cell_type": "code",
   "execution_count": 5,
   "metadata": {},
   "outputs": [],
   "source": [
    "# Rename DataFrames\n",
    "df = training_df\n",
    "df2 = testing_df"
   ]
  },
  {
   "cell_type": "code",
   "execution_count": 6,
   "metadata": {},
   "outputs": [],
   "source": [
    "# Converts (already duplicated and dropped second array) string into list of floats\n",
    "def convert_to_lists(df, d_cols):\n",
    "    for col in d_cols:\n",
    "        df[col] = df[col].apply(lambda x: [float(num) for num in x.strip('[]').split(',')] if isinstance(x, str) else x)\n",
    "    return df"
   ]
  },
  {
   "cell_type": "code",
   "execution_count": 8,
   "metadata": {},
   "outputs": [],
   "source": [
    "# Define features from daughter columns + overall kinematics (already duplicated)\n",
    "train_d_cols = list(df[df.columns[df.columns.str.contains(\"_Daughters\")]])\n",
    "test_d_cols = list(df2[df2.columns[df2.columns.str.contains(\"_Daughters\")]])\n",
    "\n",
    "train_f_cols = train_d_cols + ['Jet0_Eta', 'Jet0_PT']\n",
    "test_f_cols = test_d_cols + ['Jet1_Eta', 'Jet1_PT']"
   ]
  },
  {
   "cell_type": "code",
   "execution_count": 9,
   "metadata": {},
   "outputs": [],
   "source": [
    "# Clean up data from str to list of floats (2 min)\n",
    "convert_to_lists(df, train_d_cols);\n",
    "convert_to_lists(df2, test_d_cols);"
   ]
  },
  {
   "cell_type": "code",
   "execution_count": 10,
   "metadata": {},
   "outputs": [],
   "source": [
    "# Creates list of all node features (100115647)\n",
    "def features_list(df, features_cols):\n",
    "    node_features = []\n",
    "    for i, row in df.iterrows():\n",
    "        for col in features_cols:\n",
    "            node = df.at[i, col]\n",
    "            if isinstance(node, list):\n",
    "                node_features.extend(node)\n",
    "            else:\n",
    "                node_features.append(node)\n",
    "    return node_features"
   ]
  },
  {
   "cell_type": "code",
   "execution_count": 11,
   "metadata": {},
   "outputs": [],
   "source": [
    "# Gets [num_nodes, num_features] to create tensor\n",
    "def node_features(df, features_cols):\n",
    "    node_features_list = []\n",
    "    node_features = []\n",
    "    for i, row in df.iterrows():\n",
    "        row_nodes = []\n",
    "        for col in features_cols:\n",
    "            feature = df.at[i, col]\n",
    "            if isinstance(feature, list):\n",
    "                node_features.extend(feature)\n",
    "                if len(row_nodes) < len(feature):\n",
    "                    row_nodes.extend([[] for _ in range(len(feature) - len(row_nodes))])\n",
    "                for j, val in enumerate(feature):\n",
    "                    row_nodes[j].append(val)\n",
    "            else:\n",
    "                node_features.append(feature)\n",
    "                for node in row_nodes:\n",
    "                        node.append(feature)\n",
    "        node_features_list.extend(row_nodes)\n",
    "    return node_features_list"
   ]
  },
  {
   "cell_type": "code",
   "execution_count": 12,
   "metadata": {},
   "outputs": [],
   "source": [
    "features = node_features(df, train_f_cols)"
   ]
  },
  {
   "cell_type": "code",
   "execution_count": 13,
   "metadata": {},
   "outputs": [],
   "source": [
    "x = torch.tensor(features, dtype = torch.float)"
   ]
  },
  {
   "cell_type": "code",
   "execution_count": 14,
   "metadata": {},
   "outputs": [
    {
     "data": {
      "text/plain": [
       "torch.Size([3229537, 31])"
      ]
     },
     "execution_count": 14,
     "metadata": {},
     "output_type": "execute_result"
    }
   ],
   "source": [
    "x.shape # [num_nodes, num_features]"
   ]
  },
  {
   "cell_type": "code",
   "execution_count": 15,
   "metadata": {},
   "outputs": [
    {
     "data": {
      "text/plain": [
       "3229537"
      ]
     },
     "execution_count": 15,
     "metadata": {},
     "output_type": "execute_result"
    }
   ],
   "source": [
    "# Number of nodes\n",
    "len(features)"
   ]
  },
  {
   "cell_type": "code",
   "execution_count": 16,
   "metadata": {},
   "outputs": [
    {
     "name": "stdout",
     "output_type": "stream",
     "text": [
      "3229537\n"
     ]
    }
   ],
   "source": [
    "# Number of nodes = total number of daughters\n",
    "num_nodes = df['Jet0_nDaughters'].sum()\n",
    "print(num_nodes)"
   ]
  },
  {
   "cell_type": "code",
   "execution_count": 17,
   "metadata": {},
   "outputs": [
    {
     "name": "stdout",
     "output_type": "stream",
     "text": [
      "31\n"
     ]
    }
   ],
   "source": [
    "# Number of features\n",
    "num_features = len(train_f_cols)\n",
    "print(num_features)"
   ]
  },
  {
   "cell_type": "markdown",
   "metadata": {},
   "source": [
    "# 3229537 Nodes, 31 Features"
   ]
  },
  {
   "cell_type": "markdown",
   "metadata": {},
   "source": [
    "# Trying to create data object without NetworkX"
   ]
  },
  {
   "cell_type": "code",
   "execution_count": 31,
   "metadata": {},
   "outputs": [],
   "source": [
    "# Function to create the Data object\n",
    "def create_data_object(df, features_cols):\n",
    "\n",
    "    x = torch.tensor(features, dtype = torch.float)\n",
    "\n",
    "    num_nodes = len(features)\n",
    "    adj = torch.ones((num_nodes, num_nodes))  # Fully connected graph\n",
    "    edge_index = adj.nonzero(as_tuple=False).t().contiguous()\n",
    "\n",
    "    y = torch.ones(num_nodes, dtype=torch.long)\n",
    "    train_mask = torch.ones(num_nodes, dtype=torch.bool)\n",
    "    test_mask = torch.ones(num_nodes, dtype=torch.bool)\n",
    "\n",
    "    data = Data(x=x, edge_index=edge_index, y=y, train_mask=train_mask, test_mask=test_mask)\n",
    "\n",
    "    return data"
   ]
  },
  {
   "cell_type": "code",
   "execution_count": null,
   "metadata": {},
   "outputs": [],
   "source": [
    "# crashes kernel\n",
    "data_obj = create_data_object(df, train_f_cols)"
   ]
  },
  {
   "cell_type": "code",
   "execution_count": null,
   "metadata": {},
   "outputs": [],
   "source": [
    "def get_data_object(df, features_cols, nd_col):\n",
    "    adj = torch.ones((num_nodes, num_nodes))  # Fully connected graph\n",
    "    edge_index = dense_to_sparse(adj)[0]\n",
    "\n",
    "    y = torch.ones(num_nodes, dtype=torch.long)\n",
    "    train_mask = torch.ones(num_nodes, dtype=torch.bool)\n",
    "    test_mask = torch.ones(num_nodes, dtype=torch.bool)\n",
    "\n",
    "    data = Data(x=x, edge_index=edge_index, y=y, train_mask=train_mask, test_mask=test_mask)\n",
    "\n",
    "    return data"
   ]
  },
  {
   "cell_type": "markdown",
   "metadata": {},
   "source": [
    "# Using NetworkX"
   ]
  },
  {
   "cell_type": "code",
   "execution_count": 18,
   "metadata": {},
   "outputs": [],
   "source": [
    "# Mine - does not quite work\n",
    "\n",
    "# Create Data object with fully connected nodes\n",
    "def create_data_object(df, features_cols):\n",
    "\n",
    "    features = node_features(df, features_cols)\n",
    "\n",
    "    G = nx.Graph()\n",
    "    \n",
    "    # Number of nodes\n",
    "    num_nodes = len(features)\n",
    "\n",
    "    # Add nodes with features to NetworkX graph\n",
    "    for i, feature in enumerate(features):\n",
    "        G.add_node(i, features=torch.tensor(feature, dtype=torch.float))\n",
    "\n",
    "    # Fully connected nodes (add edges)\n",
    "    nodes = list(G.nodes())\n",
    "    for i, node1 in enumerate(nodes):\n",
    "        for node2 in nodes[i+1:]:\n",
    "            G.add_edge(node1, node2)\n",
    "\n",
    "    # Convert NetworkX graph to PyTorch Geometric Data object\n",
    "    data = T.from_networkx(G)\n",
    "\n",
    "    # Set node features, labels, and masks\n",
    "    data.x = torch.stack([G.nodes[i]['feature'] for i in range(num_nodes)])\n",
    "    data.y = torch.ones(data.num_nodes, dtype=torch.long)\n",
    "    data.train_mask = torch.ones(data.num_nodes, dtype=torch.bool)\n",
    "    data.test_mask = torch.ones(data.num_nodes, dtype=torch.bool)\n",
    "\n",
    "    return data"
   ]
  },
  {
   "cell_type": "code",
   "execution_count": 19,
   "metadata": {},
   "outputs": [],
   "source": [
    "train_data = create_data_object(df, train_f_cols)"
   ]
  },
  {
   "cell_type": "code",
   "execution_count": null,
   "metadata": {},
   "outputs": [],
   "source": [
    "print(\"Number of nodes:\", train_data.num_nodes)\n",
    "print(\"Node features tensor shape:\", train_data.x.shape)\n",
    "print(\"First node feature:\", train_data.x[0])\n",
    "print(\"Labels shape:\", train_data.y.shape)\n",
    "print(\"Train mask shape:\", train_data.train_mask.shape)\n",
    "print(\"Test mask shape:\", train_data.test_mask.shape)"
   ]
  },
  {
   "cell_type": "code",
   "execution_count": null,
   "metadata": {},
   "outputs": [],
   "source": [
    "test_data = create_data_object(df2, test_f_cols)"
   ]
  },
  {
   "cell_type": "code",
   "execution_count": null,
   "metadata": {},
   "outputs": [],
   "source": [
    "test_data"
   ]
  },
  {
   "cell_type": "code",
   "execution_count": null,
   "metadata": {},
   "outputs": [],
   "source": [
    "train_loader = DataLoader(train_data, batch_size=32, shuffle=True)\n",
    "test_loader = DataLoader(test_data, batch_size=32, shuffle=True)"
   ]
  },
  {
   "cell_type": "code",
   "execution_count": null,
   "metadata": {},
   "outputs": [],
   "source": [
    "# Add nodes (each daughter = one node)\n",
    "    for i, row in df.iterrows():\n",
    "        for col in features_cols:\n",
    "            for n in df.at[i,col]:\n",
    "                G.add_node(n)\n",
    "    \n",
    "# Fully connected nodes\n",
    "    for i, node1 in enumerate(nodes):\n",
    "        for node2 in nodes[i+1:]:\n",
    "            G.add_edge(node1, node2)\n",
    "    \n",
    "    node_features = torch.tensor(node_features, dtype=torch.float).T"
   ]
  },
  {
   "cell_type": "markdown",
   "metadata": {},
   "source": [
    "# Training Model"
   ]
  },
  {
   "cell_type": "code",
   "execution_count": null,
   "metadata": {},
   "outputs": [],
   "source": [
    "# Define GNN model\n",
    "class GNN(torch.nn.Module):\n",
    "    def __init__(self):\n",
    "        super(GNN, self).__init__()\n",
    "        self.conv1 = GCNConv(train_graph.num_node_features, 64)\n",
    "        self.conv2 = GCNConv(64, 2)\n",
    "    \n",
    "    def forward(self, data):\n",
    "        x, edge_index = data.x, data.edge_index\n",
    "        x = self.conv1(x, edge_index)\n",
    "        x = F.relu(x)\n",
    "        x = self.conv2(x, edge_index)\n",
    "        x = F.relu(x)\n",
    "        return F.log_softmax(x, dim=1)\n",
    "\n",
    "model = GNN()"
   ]
  },
  {
   "cell_type": "code",
   "execution_count": null,
   "metadata": {},
   "outputs": [],
   "source": [
    "# Training parameters\n",
    "criterion = torch.nn.CrossEntropyLoss()\n",
    "optimizer = optim.Adam(model.parameters(), lr=0.01)\n",
    "\n",
    "# Training loop\n",
    "def train(model, data, optimizer, criterion):\n",
    "    model.train()\n",
    "    for data in train_loader:\n",
    "        optimizer.zero_grad()\n",
    "        out = model(data)\n",
    "        loss = criterion(out[data.train_mask], data.y[data.train_mask])\n",
    "        loss.backward()\n",
    "        optimizer.step()\n",
    "    return loss.item()\n",
    "\n",
    "for epoch in range(1):\n",
    "    loss = train(model, train_graph, optimizer, criterion)\n",
    "    print(f'Epoch {epoch+1}, Loss: {loss}')\n",
    "\n",
    "# Evaluation\n",
    "def test(model, data):\n",
    "    model.eval()\n",
    "    for data in test_loader:\n",
    "        _, pred = model(data).max(dim=1)\n",
    "        correct = pred[data.test_mask].eq(data.y[data.test_mask]).sum().item()\n",
    "        acc = correct / data.test_mask.sum().item()\n",
    "    return acc\n",
    "\n",
    "accuracy = test(model, test_graph)\n",
    "print(f'Accuracy: {accuracy}')"
   ]
  },
  {
   "cell_type": "markdown",
   "metadata": {},
   "source": [
    "# ROC Curve"
   ]
  },
  {
   "cell_type": "code",
   "execution_count": null,
   "metadata": {},
   "outputs": [],
   "source": [
    "output = model(test_graph)\n",
    "_, pred = output.max(dim=1)\n",
    "true_labels = test_graph.y.numpy().flatten()\n",
    "y_score = output[:, 1].detach().numpy()"
   ]
  },
  {
   "cell_type": "code",
   "execution_count": null,
   "metadata": {},
   "outputs": [],
   "source": [
    "fpr, tpr, thresholds = roc_curve(true_labels, y_score)\n",
    "auc = auc(fpr, tpr)"
   ]
  },
  {
   "cell_type": "code",
   "execution_count": null,
   "metadata": {},
   "outputs": [],
   "source": [
    "back_rej = 1 - fpr\n",
    "sig_eff = 1 - tpr\n",
    "\n",
    "print(f'Background Rejection: {back_rej}')\n",
    "print(f'Signal Efficiency: {sig_eff}')\n",
    "print(f'AUC: {auc}')"
   ]
  },
  {
   "cell_type": "code",
   "execution_count": null,
   "metadata": {},
   "outputs": [],
   "source": [
    "plt.plot(back_rej, sig_eff, color='purple', label='ROC Curve')\n",
    "plt.plot([0, 1], [1, 0], color='grey', linestyle='--', label='baseline')\n",
    "plt.plot([], [], ' ', label=f'AUC: {auc}')\n",
    "plt.xlim([0.0, 1.01])\n",
    "plt.ylim([0.0, 1.01])\n",
    "plt.ylabel('Background Rejection')\n",
    "plt.xlabel('Signal Efficiency' )\n",
    "plt.title('Receiver Operating Characteristics (ROC)')\n",
    "plt.legend(loc='lower left')\n",
    "plt.show()"
   ]
  }
 ],
 "metadata": {
  "kernelspec": {
   "display_name": "Python 3",
   "language": "python",
   "name": "python3"
  },
  "language_info": {
   "codemirror_mode": {
    "name": "ipython",
    "version": 3
   },
   "file_extension": ".py",
   "mimetype": "text/x-python",
   "name": "python",
   "nbconvert_exporter": "python",
   "pygments_lexer": "ipython3",
   "version": "3.8.19"
  }
 },
 "nbformat": 4,
 "nbformat_minor": 2
}
