{
 "cells": [
  {
   "cell_type": "code",
   "execution_count": 167,
   "metadata": {},
   "outputs": [],
   "source": [
    "# Import necessary libraries\n",
    "\n",
    "import pandas as pd\n",
    "import numpy as np\n",
    "import matplotlib.pyplot as plt\n",
    "\n",
    "import torch\n",
    "from torch.nn import Linear, Dropout\n",
    "import torch.nn.functional as F\n",
    "import torch.optim as optim\n",
    "from torch_geometric.data import Data, DataLoader\n",
    "import torch_geometric as T\n",
    "from torch_geometric.data.data import BaseData, Data\n",
    "from torch_geometric.utils import from_networkx\n",
    "from torch_geometric.utils import dense_to_sparse\n",
    "from torch_geometric.nn import GCNConv, SAGEConv, GraphConv, global_mean_pool\n",
    "from torch.nn.utils import clip_grad_norm_\n",
    "\n",
    "import networkx as nx\n",
    "\n",
    "from sklearn.metrics import roc_curve, auc, roc_auc_score\n",
    "from sklearn.preprocessing import StandardScaler\n",
    "\n",
    "from itertools import product\n",
    "import random"
   ]
  },
  {
   "cell_type": "code",
   "execution_count": null,
   "metadata": {},
   "outputs": [],
   "source": [
    "# Read from csv without second list in daughter columns\n",
    "training_df = pd.read_csv('train_data.csv')\n",
    "testing_df = pd.read_csv('test_data.csv')"
   ]
  },
  {
   "cell_type": "code",
   "execution_count": 3,
   "metadata": {},
   "outputs": [],
   "source": [
    "# Columns including daughter kinematics\n",
    "train_d_cols = list(training_df[training_df.columns[training_df.columns.str.contains(\"_Daughters\")]])\n",
    "test_d_cols = list(testing_df[testing_df.columns[testing_df.columns.str.contains(\"_Daughters\")]])\n",
    "\n",
    "# Features columns (daughter kinematics + Eta and pT)\n",
    "train_f_cols = train_d_cols + ['Jet0_Eta', 'Jet0_PT']\n",
    "test_f_cols = test_d_cols + ['Jet1_Eta', 'Jet1_PT']"
   ]
  },
  {
   "cell_type": "code",
   "execution_count": 4,
   "metadata": {},
   "outputs": [],
   "source": [
    "# Duplicate Jet PT and Eta elements as a list the same length as the number of daughters in each row\n",
    "def duplicate(df, cols, n_col):\n",
    "    def duplicate_value(row, col, n_col):\n",
    "        value = row[col]\n",
    "        if isinstance(value, (float, int)):\n",
    "            num_daughters = row[n_col]\n",
    "            return [value] * num_daughters\n",
    "        return value\n",
    "\n",
    "    for col in cols:\n",
    "        df[col] = df.apply(lambda row: duplicate_value(row, col, n_col), axis=1)\n",
    "    return df\n",
    "\n",
    "# Converts string into list of floats (already duplicated and dropped second array)\n",
    "def convert_to_lists(df, d_cols):\n",
    "    for col in d_cols:\n",
    "        df[col] = df[col].apply(lambda x: [float(num) for num in x.strip('[]').split(',')] if isinstance(x, str) else x)\n",
    "    return df"
   ]
  },
  {
   "cell_type": "code",
   "execution_count": 5,
   "metadata": {},
   "outputs": [],
   "source": [
    "# Duplicate and preprocess daughter columns\n",
    "df = duplicate(training_df, ['Jet0_PT', 'Jet0_Eta', 'IsB'], 'Jet0_nDaughters')\n",
    "df2 = duplicate(testing_df, ['Jet1_PT', 'Jet1_Eta', 'IsB'], 'Jet1_nDaughters')\n",
    "\n",
    "# Clean up data from str to list of floats\n",
    "df = convert_to_lists(df, train_d_cols)\n",
    "df2 = convert_to_lists(df2, test_d_cols)"
   ]
  },
  {
   "cell_type": "code",
   "execution_count": 447,
   "metadata": {},
   "outputs": [],
   "source": [
    "cut_df = pd.concat([df.head(800), df.iloc[100000:100800]]) \n",
    "cut_df2 = pd.concat([df2.head(200), df2.iloc[100000:100200]])"
   ]
  },
  {
   "cell_type": "code",
   "execution_count": 448,
   "metadata": {},
   "outputs": [],
   "source": [
    "# Gets node features to create x tensor\n",
    "def node_features(df, features_cols):\n",
    "    node_features_list = []\n",
    "    node_features = []\n",
    "    for i, row in df.iterrows():\n",
    "        row_nodes = []\n",
    "        for col in features_cols:\n",
    "            feature = df.at[i, col]\n",
    "            if isinstance(feature, list):\n",
    "                node_features.extend(feature)\n",
    "                if len(row_nodes) < len(feature):\n",
    "                    row_nodes.extend([[] for _ in range(len(feature) - len(row_nodes))])\n",
    "                for j, val in enumerate(feature):\n",
    "                    row_nodes[j].append(val)\n",
    "            else:\n",
    "                node_features.append(feature)\n",
    "                for node in row_nodes:\n",
    "                        node.append(feature)\n",
    "        node_features_list.extend(row_nodes)\n",
    "    return node_features_list\n",
    "\n",
    "def create_data_object(df, features_cols):\n",
    "    data_list = []\n",
    "\n",
    "    for i in range(len(df)):\n",
    "        node_df = df.iloc[[i]]\n",
    "        \n",
    "        features = node_features(node_df, features_cols)\n",
    "        num_nodes = len(features)\n",
    "\n",
    "        G = nx.complete_graph(num_nodes)\n",
    "        edge_index = torch.tensor(list(G.edges)).t().contiguous()\n",
    "\n",
    "        x = torch.tensor(features, dtype=torch.float)\n",
    "        y = torch.tensor(node_df['IsB'].iloc[0], dtype=torch.long)\n",
    "        train_mask = torch.ones(num_nodes, dtype=torch.bool)\n",
    "        test_mask = torch.ones(num_nodes, dtype=torch.bool)\n",
    "\n",
    "        data = Data(x=x, edge_index=edge_index, y=y, train_mask=train_mask, test_mask=test_mask)\n",
    "        data_list.append(data)\n",
    "        \n",
    "    return data_list"
   ]
  },
  {
   "cell_type": "code",
   "execution_count": 449,
   "metadata": {},
   "outputs": [],
   "source": [
    "train_data = create_data_object(cut_df, train_f_cols)\n",
    "test_data = create_data_object(cut_df2, test_f_cols)"
   ]
  },
  {
   "cell_type": "code",
   "execution_count": 450,
   "metadata": {},
   "outputs": [],
   "source": [
    "# Load data\n",
    "train_loader = DataLoader(train_data, batch_size=1, shuffle=True)\n",
    "test_loader = DataLoader(test_data, batch_size=1, shuffle=False)"
   ]
  },
  {
   "cell_type": "markdown",
   "metadata": {},
   "source": [
    "# Training Model"
   ]
  },
  {
   "cell_type": "code",
   "execution_count": 463,
   "metadata": {},
   "outputs": [],
   "source": [
    "# Define GNN model\n",
    "\n",
    "class GNN(torch.nn.Module):\n",
    "    def __init__(self):\n",
    "        super(GNN, self).__init__()\n",
    "        hidden_channels = 64\n",
    "        self.conv1 = GraphConv(len(train_f_cols), hidden_channels)\n",
    "        self.conv2 = GraphConv(hidden_channels, hidden_channels)\n",
    "        self.conv3 = GraphConv(hidden_channels, hidden_channels)\n",
    "        self.conv4 = GraphConv(hidden_channels, hidden_channels)\n",
    "        self.lin = Linear(hidden_channels, 2)\n",
    "        \n",
    "\n",
    "    def forward(self, data):\n",
    "        x, edge_index, batch = data.x, data.edge_index, data.batch\n",
    "\n",
    "        x = self.conv1(x, edge_index)\n",
    "        x = F.relu(x)\n",
    "        x = self.conv2(x, edge_index)\n",
    "        x = F.relu(x)\n",
    "        x = self.conv3(x, edge_index)\n",
    "        x = F.relu(x)\n",
    "        x = self.conv4(x, edge_index)\n",
    "        x = F.sigmoid(x)\n",
    "        x = self.lin(x)\n",
    "        return x\n",
    "            \n",
    "model = GNN()"
   ]
  },
  {
   "cell_type": "code",
   "execution_count": 473,
   "metadata": {},
   "outputs": [
    {
     "name": "stdout",
     "output_type": "stream",
     "text": [
      "Epoch: 1, Loss: 0.2357, Accuracy: 0.4800\n",
      "Epoch: 2, Loss: 0.2201, Accuracy: 0.4800\n"
     ]
    }
   ],
   "source": [
    "# Define optimizer and criterion\n",
    "optimizer = optim.Adam(model.parameters(), lr=1e-4, weight_decay=1e-5)\n",
    "criterion = torch.nn.CrossEntropyLoss()\n",
    "\n",
    "# Training loop\n",
    "def train():\n",
    "    model.train()\n",
    "    for data in train_loader:\n",
    "        optimizer.zero_grad()\n",
    "        out = model(data)\n",
    "        loss = criterion(out[data.train_mask], data.y[data.train_mask])\n",
    "        loss.backward()\n",
    "        clip_grad_norm_(model.parameters(), max_norm=1.0)\n",
    "        optimizer.step()\n",
    "    return loss.item()\n",
    "\n",
    "def test():\n",
    "    model.eval()\n",
    "    total_correct = 0\n",
    "    total_samples = 0\n",
    "    \n",
    "    with torch.no_grad():\n",
    "        for data in test_loader:\n",
    "            out = model(data)\n",
    "            _, pred = out.max(dim=1)\n",
    "            correct = pred[data.test_mask].eq(data.y[data.test_mask]).sum().item()\n",
    "            total_correct += correct\n",
    "            total_samples += data.test_mask.sum().item()\n",
    "\n",
    "    accuracy = total_correct / total_samples\n",
    "    return accuracy\n",
    "\n",
    "for epoch in range(2):\n",
    "    loss = train()\n",
    "    acc = test()\n",
    "\n",
    "    print(f'Epoch: {epoch + 1}, Loss: {loss:.4f}, Accuracy: {acc:.4f}')"
   ]
  },
  {
   "cell_type": "markdown",
   "metadata": {},
   "source": [
    "# ROC Curve and AUC"
   ]
  },
  {
   "cell_type": "code",
   "execution_count": 388,
   "metadata": {},
   "outputs": [],
   "source": [
    "y_true = [] # class values (0 or 1)\n",
    "y_scores = [] # predicted probabilities\n",
    "\n",
    "model.eval()\n",
    "with torch.no_grad():\n",
    "    for data in test_loader:\n",
    "        out = model(data)\n",
    "        _, pred = out.max(dim=1)\n",
    "        y_true.append(data.y.numpy().flatten())\n",
    "        y_scores.append(out[:, 1].detach().numpy())\n",
    "\n",
    "y_true = np.concatenate(y_true)\n",
    "y_scores = np.concatenate(y_scores)"
   ]
  },
  {
   "cell_type": "code",
   "execution_count": 389,
   "metadata": {},
   "outputs": [],
   "source": [
    "# Compute ROC curve and AUC\n",
    "fpr, tpr, thresholds = roc_curve(y_true, y_scores)\n",
    "auc = roc_auc_score(y_true, y_scores)"
   ]
  },
  {
   "cell_type": "code",
   "execution_count": 390,
   "metadata": {},
   "outputs": [
    {
     "name": "stdout",
     "output_type": "stream",
     "text": [
      "Background Rejection: [1.         0.99933775 0.99801325 ... 0.00198675 0.         0.        ]\n",
      "Signal Efficiency: [0.         0.         0.         ... 0.99927954 0.99927954 1.        ]\n",
      "AUC: 0.49068672824780046\n"
     ]
    }
   ],
   "source": [
    "# Compute background rejection and signal efficiency\n",
    "back_rej = 1 - fpr\n",
    "sig_eff = tpr\n",
    "\n",
    "print(f'Background Rejection: {back_rej}')\n",
    "print(f'Signal Efficiency: {sig_eff}')\n",
    "print(f'AUC: {auc}')"
   ]
  },
  {
   "cell_type": "code",
   "execution_count": 391,
   "metadata": {},
   "outputs": [
    {
     "data": {
      "image/png": "[encoded data removed]",
      "text/plain": [
       "<Figure size 640x480 with 1 Axes>"
      ]
     },
     "metadata": {},
     "output_type": "display_data"
    }
   ],
   "source": [
    "# Plot ROC Curve and show AUC\n",
    "plt.plot(back_rej, sig_eff, label='ROC Curve', color='purple')\n",
    "plt.plot([0, 1], [1, 0], color='grey', linestyle='dotted', label='baseline')\n",
    "plt.plot([], [], ' ', label=f'AUC: {auc}')\n",
    "plt.xlim([0.0, 1.01])\n",
    "plt.ylim([0.0, 1.01])\n",
    "plt.ylabel('Background Rejection')\n",
    "plt.xlabel('Signal Efficiency' )\n",
    "plt.title('Receiver Operating Characteristics (ROC)')\n",
    "plt.legend(loc='lower left')\n",
    "plt.grid(True)\n",
    "plt.show()"
   ]
  },
  {
   "cell_type": "code",
   "execution_count": null,
   "metadata": {},
   "outputs": [],
   "source": []
  }
 ],
 "metadata": {
  "kernelspec": {
   "display_name": "Python 3",
   "language": "python",
   "name": "python3"
  },
  "language_info": {
   "codemirror_mode": {
    "name": "ipython",
    "version": 3
   },
   "file_extension": ".py",
   "mimetype": "text/x-python",
   "name": "python",
   "nbconvert_exporter": "python",
   "pygments_lexer": "ipython3",
   "version": "3.8.19"
  }
 },
 "nbformat": 4,
 "nbformat_minor": 2
}
