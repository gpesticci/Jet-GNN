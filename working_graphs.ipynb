{
 "cells": [
  {
   "cell_type": "code",
   "execution_count": 1,
   "metadata": {},
   "outputs": [],
   "source": [
    "# Import necessary libraries\n",
    "\n",
    "import pandas as pd\n",
    "import numpy as np\n",
    "import matplotlib.pyplot as plt\n",
    "\n",
    "import torch\n",
    "from torch.nn import Linear, Dropout\n",
    "import torch.nn.functional as F\n",
    "import torch.optim as optim\n",
    "from torch_geometric.data import Data, DataLoader\n",
    "import torch_geometric as T\n",
    "from torch_geometric.data.data import BaseData, Data\n",
    "from torch_geometric.utils import from_networkx\n",
    "from torch_geometric.utils import dense_to_sparse\n",
    "from torch_geometric.nn import GCNConv, SAGEConv, GraphConv, global_mean_pool\n",
    "from torch.nn.utils import clip_grad_norm_\n",
    "\n",
    "import networkx as nx\n",
    "\n",
    "from sklearn.metrics import roc_curve, auc, roc_auc_score\n",
    "from sklearn.preprocessing import StandardScaler\n",
    "\n",
    "from itertools import product\n",
    "import random"
   ]
  },
  {
   "cell_type": "code",
   "execution_count": 2,
   "metadata": {},
   "outputs": [],
   "source": [
    "# Read from csv without second list in daughter columns\n",
    "training_df = pd.read_csv('train_data.csv')\n",
    "testing_df = pd.read_csv('test_data.csv')"
   ]
  },
  {
   "cell_type": "code",
   "execution_count": 3,
   "metadata": {},
   "outputs": [],
   "source": [
    "# Columns including daughter kinematics\n",
    "train_d_cols = list(training_df[training_df.columns[training_df.columns.str.contains(\"_Daughters\")]])\n",
    "test_d_cols = list(testing_df[testing_df.columns[testing_df.columns.str.contains(\"_Daughters\")]])\n",
    "\n",
    "# Features columns (daughter kinematics + Eta and pT)\n",
    "train_f_cols = train_d_cols + ['Jet0_Eta', 'Jet0_PT']\n",
    "test_f_cols = test_d_cols + ['Jet1_Eta', 'Jet1_PT']"
   ]
  },
  {
   "cell_type": "code",
   "execution_count": 4,
   "metadata": {},
   "outputs": [],
   "source": [
    "# Duplicate Jet PT and Eta elements as a list the same length as the number of daughters in each row\n",
    "def duplicate(df, cols, n_col):\n",
    "    def duplicate_value(row, col, n_col):\n",
    "        value = row[col]\n",
    "        if isinstance(value, (float, int)):\n",
    "            num_daughters = row[n_col]\n",
    "            return [value] * num_daughters\n",
    "        return value\n",
    "\n",
    "    for col in cols:\n",
    "        df[col] = df.apply(lambda row: duplicate_value(row, col, n_col), axis=1)\n",
    "    return df\n",
    "\n",
    "# Converts string into list of floats (already duplicated and dropped second array)\n",
    "def convert_to_lists(df, d_cols):\n",
    "    for col in d_cols:\n",
    "        df[col] = df[col].apply(lambda x: [float(num) for num in x.strip('[]').split(',')] if isinstance(x, str) else x)\n",
    "    return df"
   ]
  },
  {
   "cell_type": "code",
   "execution_count": 5,
   "metadata": {},
   "outputs": [],
   "source": [
    "# Duplicate and preprocess daughter columns\n",
    "df = duplicate(training_df, ['Jet0_PT', 'Jet0_Eta', 'IsB'], 'Jet0_nDaughters')\n",
    "df2 = duplicate(testing_df, ['Jet1_PT', 'Jet1_Eta', 'IsB'], 'Jet1_nDaughters')\n",
    "\n",
    "# Clean up data from str to list of floats\n",
    "df = convert_to_lists(df, train_d_cols)\n",
    "df2 = convert_to_lists(df2, test_d_cols)"
   ]
  },
  {
   "cell_type": "code",
   "execution_count": 57,
   "metadata": {},
   "outputs": [],
   "source": [
    "cut_df = pd.concat([df.head(500), df.iloc[100000:100500]]) \n",
    "cut_df2 = pd.concat([df2.head(500), df2.iloc[100000:100500]])"
   ]
  },
  {
   "cell_type": "code",
   "execution_count": 48,
   "metadata": {},
   "outputs": [],
   "source": [
    "# Gets node features to create x tensor\n",
    "def node_features(df, features_cols):\n",
    "    node_features_list = []\n",
    "    node_features = []\n",
    "    for i, row in df.iterrows():\n",
    "        row_nodes = []\n",
    "        for col in features_cols:\n",
    "            feature = df.at[i, col]\n",
    "            if isinstance(feature, list):\n",
    "                node_features.extend(feature)\n",
    "                if len(row_nodes) < len(feature):\n",
    "                    row_nodes.extend([[] for _ in range(len(feature) - len(row_nodes))])\n",
    "                for j, val in enumerate(feature):\n",
    "                    row_nodes[j].append(val)\n",
    "            else:\n",
    "                node_features.append(feature)\n",
    "                for node in row_nodes:\n",
    "                        node.append(feature)\n",
    "        node_features_list.extend(row_nodes)\n",
    "    return node_features_list\n",
    "\n",
    "def create_data_object(df, features_cols):\n",
    "    data_list = []\n",
    "\n",
    "    for i in range(len(df)):\n",
    "        node_df = df.iloc[[i]]\n",
    "        \n",
    "        features = node_features(node_df, features_cols)\n",
    "        num_nodes = len(features)\n",
    "\n",
    "        G = nx.complete_graph(num_nodes)\n",
    "        edge_index = torch.tensor(list(G.edges)).t().contiguous()\n",
    "\n",
    "        x = torch.tensor(features, dtype=torch.float)\n",
    "        y = torch.tensor(node_df['IsB'].iloc[0], dtype=torch.long)\n",
    "        #train_mask = torch.ones(num_nodes, dtype=torch.bool)\n",
    "        #test_mask = torch.ones(num_nodes, dtype=torch.bool)\n",
    "\n",
    "        data = Data(x=x, edge_index=edge_index, y=y)\n",
    "        data_list.append(data)\n",
    "        \n",
    "    return data_list"
   ]
  },
  {
   "cell_type": "code",
   "execution_count": 49,
   "metadata": {},
   "outputs": [],
   "source": [
    "train_data = create_data_object(cut_df, train_f_cols)\n",
    "test_data = create_data_object(cut_df2, test_f_cols)"
   ]
  },
  {
   "cell_type": "code",
   "execution_count": 50,
   "metadata": {},
   "outputs": [
    {
     "data": {
      "text/plain": [
       "[226.46542358398438,\n",
       " 235.54550170898438,\n",
       " 526.2337646484375,\n",
       " 318.44940185546875,\n",
       " 2074.810546875,\n",
       " 67.70758819580078,\n",
       " 2634.240966796875,\n",
       " 2421.313232421875,\n",
       " 3607.0224609375,\n",
       " 3046.74365234375,\n",
       " 256.602294921875]"
      ]
     },
     "execution_count": 50,
     "metadata": {},
     "output_type": "execute_result"
    }
   ],
   "source": [
    "cut_df.Jet0_Daughters_pT[0]"
   ]
  },
  {
   "cell_type": "code",
   "execution_count": 37,
   "metadata": {},
   "outputs": [
    {
     "data": {
      "text/plain": [
       "[226.46542358398438,\n",
       " 235.54550170898438,\n",
       " 526.2337646484375,\n",
       " 318.44940185546875,\n",
       " 2074.810546875,\n",
       " 67.70758819580078,\n",
       " 2634.240966796875,\n",
       " 2421.313232421875,\n",
       " 3607.0224609375,\n",
       " 3046.74365234375,\n",
       " 256.602294921875]"
      ]
     },
     "execution_count": 37,
     "metadata": {},
     "output_type": "execute_result"
    }
   ],
   "source": [
    "cut_df.Jet0_Daughters_pT[1]"
   ]
  },
  {
   "cell_type": "code",
   "execution_count": 67,
   "metadata": {},
   "outputs": [
    {
     "data": {
      "text/plain": [
       "tensor([0, 0, 0, 0, 0, 0, 0, 0, 0, 0, 0, 0, 0, 0])"
      ]
     },
     "execution_count": 67,
     "metadata": {},
     "output_type": "execute_result"
    }
   ],
   "source": [
    "train_data[500].y"
   ]
  },
  {
   "cell_type": "code",
   "execution_count": 31,
   "metadata": {},
   "outputs": [
    {
     "data": {
      "text/plain": [
       "tensor([[ 6.6412e+03,  2.2647e+02,  2.2000e+01,  7.7613e+01,  2.1275e+02,\n",
       "          6.6373e+03,  4.0713e+00,  1.2210e+00,  0.0000e+00, -1.0000e+02,\n",
       "          0.0000e+00, -1.0000e+02, -1.0000e+03, -1.0000e+03, -1.0000e+03,\n",
       "         -1.0000e+03, -1.0000e+03, -1.0000e+03, -1.0000e+03, -1.0000e+03,\n",
       "         -1.0000e+03, -1.0000e+03, -1.0000e+03, -1.0000e+03, -1.0000e+03,\n",
       "          6.9344e+03,  1.0406e+00,  9.2143e-01,  1.5359e+01,  4.3268e+00,\n",
       "          1.7482e+04],\n",
       "        [ 1.3513e+04,  2.3555e+02,  2.1100e+02,  2.5076e+01,  2.3421e+02,\n",
       "          1.3511e+04,  4.7425e+00,  1.4641e+00,  1.0000e+00,  6.3305e-02,\n",
       "          1.4885e+01,  9.4230e-01,  2.4174e-08,  3.2450e-03,  1.3933e-03,\n",
       "          9.9259e-01, -1.0000e+03,  1.0706e+00,  2.3392e+02,  8.2260e-01,\n",
       "         -7.2400e-02,  1.1182e+01,  2.5076e+01,  2.3421e+02,  1.3511e+04,\n",
       "         -1.0000e+03, -1.0000e+03, -1.0000e+03, -1.0000e+03,  4.3268e+00,\n",
       "          1.7482e+04],\n",
       "        [ 2.5442e+04,  5.2623e+02,  2.1100e+02,  8.2659e+01,  5.1970e+02,\n",
       "          2.5436e+04,  4.5714e+00,  1.4131e+00,  1.0000e+00,  7.0852e-02,\n",
       "          2.0054e+00,  1.4209e-01,  2.9654e-04,  7.8568e-03,  8.7940e-03,\n",
       "          9.5922e-01, -1.0000e+03,  1.0446e+00,  2.4547e+02,  1.0101e+00,\n",
       "         -1.4920e-01, -4.4064e+01,  8.2659e+01,  5.1970e+02,  2.5436e+04,\n",
       "         -1.0000e+03, -1.0000e+03, -1.0000e+03, -1.0000e+03,  4.3268e+00,\n",
       "          1.7482e+04],\n",
       "        [ 1.4523e+04,  3.1845e+02,  2.2000e+01, -3.8198e+01,  3.1615e+02,\n",
       "          1.4520e+04,  4.5131e+00,  1.6910e+00,  0.0000e+00, -1.0000e+02,\n",
       "          0.0000e+00, -1.0000e+02, -1.0000e+03, -1.0000e+03, -1.0000e+03,\n",
       "         -1.0000e+03, -1.0000e+03, -1.0000e+03, -1.0000e+03, -1.0000e+03,\n",
       "         -1.0000e+03, -1.0000e+03, -1.0000e+03, -1.0000e+03, -1.0000e+03,\n",
       "          1.3474e+04,  1.8185e+00,  8.6976e-01,  1.0505e+02,  4.3268e+00,\n",
       "          1.7482e+04],\n",
       "        [ 9.5999e+04,  2.0748e+03, -2.1100e+02, -1.9592e+02,  2.0655e+03,\n",
       "          9.5976e+04,  4.5275e+00,  1.6654e+00, -1.0000e+00, -2.7873e-02,\n",
       "          6.1694e+02, -1.7196e+01,  3.9641e-02,  1.9491e-02,  3.3230e-01,\n",
       "          1.5031e-01, -1.0000e+03,  1.0342e+00,  1.1379e+02, -3.8363e+00,\n",
       "          6.8046e+01,  2.3222e+03, -1.9592e+02,  2.0655e+03,  9.5976e+04,\n",
       "         -1.0000e+03, -1.0000e+03, -1.0000e+03, -1.0000e+03,  4.3268e+00,\n",
       "          1.7482e+04],\n",
       "        [ 2.9765e+03,  6.7708e+01, -1.1000e+01,  3.9317e+00,  6.7593e+01,\n",
       "          2.9758e+03,  4.4763e+00,  1.5127e+00,  1.0000e+00, -1.8976e+00,\n",
       "          3.1806e+00, -6.0354e+00,  8.5767e-01,  8.0732e-03,  1.2273e-02,\n",
       "          2.1980e-01, -1.0000e+03,  9.5049e-01,  2.9239e+02, -2.4000e-03,\n",
       "          3.8549e+01,  1.3905e+03,  3.9317e+00,  6.7593e+01,  2.9758e+03,\n",
       "         -1.0000e+03, -1.0000e+03, -1.0000e+03, -1.0000e+03,  4.3268e+00,\n",
       "          1.7482e+04],\n",
       "        [ 9.1129e+04,  2.6342e+03, -2.1100e+02,  2.8749e+02,  2.6185e+03,\n",
       "          9.1091e+04,  4.2366e+00,  1.4614e+00, -1.0000e+00,  6.3265e-03,\n",
       "          4.9148e+01,  3.1093e-01,  2.4387e-06,  1.5040e-01,  4.9803e-02,\n",
       "          6.7487e-01, -1.0000e+03,  1.4524e+00,  1.7139e+02,  5.9570e-01,\n",
       "         -2.2040e-01, -4.5853e+01,  2.8749e+02,  2.6185e+03,  9.1091e+04,\n",
       "         -1.0000e+03, -1.0000e+03, -1.0000e+03, -1.0000e+03,  4.3268e+00,\n",
       "          1.7482e+04],\n",
       "        [ 9.1304e+04,  2.4213e+03, -2.2000e+01,  9.2273e+01,  2.4196e+03,\n",
       "          9.1272e+04,  4.3229e+00,  1.5327e+00,  0.0000e+00, -1.0000e+02,\n",
       "         -1.0000e+10, -1.0000e+02, -1.0000e+03, -1.0000e+03, -1.0000e+03,\n",
       "         -1.0000e+03, -1.0000e+03, -1.0000e+03, -1.0000e+03, -1.0000e+03,\n",
       "         -1.0000e+03, -1.0000e+03, -1.0000e+03, -1.0000e+03, -1.0000e+03,\n",
       "         -1.0000e+03, -1.0000e+03, -1.0000e+03, -1.0000e+03,  4.3268e+00,\n",
       "          1.7482e+04],\n",
       "        [ 1.2143e+05,  3.6070e+03,  2.1100e+02, -5.9487e+02,  3.5576e+03,\n",
       "          1.2137e+05,  4.2094e+00,  1.7365e+00,  1.0000e+00,  2.8549e-03,\n",
       "          7.7038e+01,  2.1994e-01,  4.9801e-03,  3.2557e-01,  1.3487e-01,\n",
       "          3.8242e-01, -1.0000e+03,  1.6665e+00,  1.5048e+02,  9.1970e-01,\n",
       "          1.4400e-01, -3.2130e+01, -5.9487e+02,  3.5576e+03,  1.2137e+05,\n",
       "         -1.0000e+03, -1.0000e+03, -1.0000e+03, -1.0000e+03,  4.3268e+00,\n",
       "          1.7482e+04],\n",
       "        [ 1.0688e+05,  3.0467e+03,  2.1100e+02, -2.3147e+02,  3.0379e+03,\n",
       "          1.0684e+05,  4.2506e+00,  1.6468e+00,  1.0000e+00,  8.8595e-03,\n",
       "          2.2321e+01,  1.9776e-01,  3.3057e-04,  2.2490e-01,  1.1544e-01,\n",
       "          4.8749e-01, -1.0000e+03,  1.5552e+00,  1.6246e+02,  8.6990e-01,\n",
       "          6.7000e-02, -3.3479e+01, -2.3147e+02,  3.0379e+03,  1.0684e+05,\n",
       "         -1.0000e+03, -1.0000e+03, -1.0000e+03, -1.0000e+03,  4.3268e+00,\n",
       "          1.7482e+04],\n",
       "        [ 9.8978e+03,  2.5660e+02, -2.1100e+02, -1.0481e+01,  2.5639e+02,\n",
       "          9.8935e+03,  4.3454e+00,  1.6117e+00, -1.0000e+00, -7.4924e-02,\n",
       "          5.8875e+00, -4.4111e-01,  2.5822e-01,  3.4464e-02,  2.0831e-02,\n",
       "          1.9049e-01, -1.0000e+03,  1.3935e+00,  1.8698e+02,  1.1440e+00,\n",
       "         -6.0200e-02, -5.7808e+01, -1.0481e+01,  2.5639e+02,  9.8935e+03,\n",
       "         -1.0000e+03, -1.0000e+03, -1.0000e+03, -1.0000e+03,  4.3268e+00,\n",
       "          1.7482e+04]])"
      ]
     },
     "execution_count": 31,
     "metadata": {},
     "output_type": "execute_result"
    }
   ],
   "source": [
    "train_data[1].x"
   ]
  },
  {
   "cell_type": "code",
   "execution_count": 38,
   "metadata": {},
   "outputs": [
    {
     "name": "stderr",
     "output_type": "stream",
     "text": [
      "/usr/local/lib/python3.8/site-packages/torch_geometric/deprecation.py:26: UserWarning: 'data.DataLoader' is deprecated, use 'loader.DataLoader' instead\n",
      "  warnings.warn(out)\n"
     ]
    }
   ],
   "source": [
    "# Load data\n",
    "train_loader = DataLoader(train_data, batch_size=32, shuffle=True)\n",
    "test_loader = DataLoader(test_data, batch_size=32, shuffle=False)"
   ]
  },
  {
   "cell_type": "markdown",
   "metadata": {},
   "source": [
    "# Training Model"
   ]
  },
  {
   "cell_type": "code",
   "execution_count": 39,
   "metadata": {},
   "outputs": [],
   "source": [
    "# Define GNN model\n",
    "\n",
    "class GNN(torch.nn.Module):\n",
    "    def __init__(self):\n",
    "        super(GNN, self).__init__()\n",
    "        hidden_channels = 64\n",
    "        self.conv1 = GraphConv(len(train_f_cols), hidden_channels)\n",
    "        self.conv2 = GraphConv(hidden_channels, hidden_channels)\n",
    "        self.conv3 = GraphConv(hidden_channels, hidden_channels)\n",
    "        self.conv4 = GraphConv(hidden_channels, hidden_channels)\n",
    "        self.lin = Linear(hidden_channels, 2)\n",
    "        \n",
    "\n",
    "    def forward(self, data):\n",
    "        x, edge_index = data.x, data.edge_index\n",
    "\n",
    "        x = self.conv1(x, edge_index)\n",
    "        x = F.relu(x)\n",
    "        x = self.conv2(x, edge_index)\n",
    "        x = F.relu(x)\n",
    "        x = self.conv3(x, edge_index)\n",
    "        x = F.relu(x)\n",
    "        x = self.conv4(x, edge_index)\n",
    "        x = F.sigmoid(x)\n",
    "        x = self.lin(x)\n",
    "        return x\n",
    "            \n",
    "model = GNN()"
   ]
  },
  {
   "cell_type": "code",
   "execution_count": 71,
   "metadata": {},
   "outputs": [
    {
     "name": "stdout",
     "output_type": "stream",
     "text": [
      "Epoch: 1, Loss: 0.6825, Accuracy: 0.5160\n",
      "Epoch: 2, Loss: 0.6995, Accuracy: 0.5234\n",
      "Epoch: 3, Loss: 0.6556, Accuracy: 0.5229\n",
      "Epoch: 4, Loss: 0.6742, Accuracy: 0.5327\n",
      "Epoch: 5, Loss: 0.6799, Accuracy: 0.5184\n",
      "Epoch: 6, Loss: 0.6828, Accuracy: 0.5236\n",
      "Epoch: 7, Loss: 0.7196, Accuracy: 0.5070\n",
      "Epoch: 8, Loss: 0.6796, Accuracy: 0.5085\n",
      "Epoch: 9, Loss: 0.6889, Accuracy: 0.5061\n",
      "Epoch: 10, Loss: 0.6870, Accuracy: 0.4985\n",
      "Epoch: 11, Loss: 0.6941, Accuracy: 0.4948\n",
      "Epoch: 12, Loss: 0.6651, Accuracy: 0.5181\n",
      "Epoch: 13, Loss: 0.6825, Accuracy: 0.5150\n",
      "Epoch: 14, Loss: 0.6889, Accuracy: 0.5166\n",
      "Epoch: 15, Loss: 0.7024, Accuracy: 0.5094\n",
      "Epoch: 16, Loss: 0.7056, Accuracy: 0.5088\n",
      "Epoch: 17, Loss: 0.6766, Accuracy: 0.5094\n",
      "Epoch: 18, Loss: 0.6945, Accuracy: 0.5013\n",
      "Epoch: 19, Loss: 0.6741, Accuracy: 0.4987\n",
      "Epoch: 20, Loss: 0.6839, Accuracy: 0.5080\n",
      "Epoch: 21, Loss: 0.7002, Accuracy: 0.5145\n",
      "Epoch: 22, Loss: 0.7045, Accuracy: 0.5104\n",
      "Epoch: 23, Loss: 0.6812, Accuracy: 0.5066\n",
      "Epoch: 24, Loss: 0.6784, Accuracy: 0.5164\n",
      "Epoch: 25, Loss: 0.6903, Accuracy: 0.5190\n",
      "Epoch: 26, Loss: 0.6876, Accuracy: 0.5088\n",
      "Epoch: 27, Loss: 0.6884, Accuracy: 0.5150\n",
      "Epoch: 28, Loss: 0.6653, Accuracy: 0.5136\n",
      "Epoch: 29, Loss: 0.6895, Accuracy: 0.5102\n",
      "Epoch: 30, Loss: 0.6703, Accuracy: 0.5147\n",
      "Epoch: 31, Loss: 0.6818, Accuracy: 0.5085\n",
      "Epoch: 32, Loss: 0.6804, Accuracy: 0.5085\n",
      "Epoch: 33, Loss: 0.7121, Accuracy: 0.5190\n",
      "Epoch: 34, Loss: 0.7003, Accuracy: 0.5190\n",
      "Epoch: 35, Loss: 0.6715, Accuracy: 0.5138\n",
      "Epoch: 36, Loss: 0.6964, Accuracy: 0.5217\n",
      "Epoch: 37, Loss: 0.6944, Accuracy: 0.5248\n",
      "Epoch: 38, Loss: 0.6877, Accuracy: 0.5221\n",
      "Epoch: 39, Loss: 0.6896, Accuracy: 0.5231\n",
      "Epoch: 40, Loss: 0.6684, Accuracy: 0.5190\n",
      "Epoch: 41, Loss: 0.6778, Accuracy: 0.5215\n",
      "Epoch: 42, Loss: 0.7044, Accuracy: 0.5221\n",
      "Epoch: 43, Loss: 0.7040, Accuracy: 0.5138\n",
      "Epoch: 44, Loss: 0.6808, Accuracy: 0.5178\n",
      "Epoch: 45, Loss: 0.6684, Accuracy: 0.5174\n",
      "Epoch: 46, Loss: 0.7156, Accuracy: 0.5145\n",
      "Epoch: 47, Loss: 0.7002, Accuracy: 0.5152\n",
      "Epoch: 48, Loss: 0.7051, Accuracy: 0.5071\n",
      "Epoch: 49, Loss: 0.6694, Accuracy: 0.5162\n",
      "Epoch: 50, Loss: 0.6531, Accuracy: 0.5104\n",
      "Epoch: 51, Loss: 0.6944, Accuracy: 0.5109\n",
      "Epoch: 52, Loss: 0.6998, Accuracy: 0.5164\n",
      "Epoch: 53, Loss: 0.6882, Accuracy: 0.5176\n",
      "Epoch: 54, Loss: 0.6636, Accuracy: 0.5214\n",
      "Epoch: 55, Loss: 0.6811, Accuracy: 0.5154\n",
      "Epoch: 56, Loss: 0.6847, Accuracy: 0.5162\n",
      "Epoch: 57, Loss: 0.6950, Accuracy: 0.5138\n",
      "Epoch: 58, Loss: 0.6756, Accuracy: 0.5196\n",
      "Epoch: 59, Loss: 0.6749, Accuracy: 0.5184\n",
      "Epoch: 60, Loss: 0.6748, Accuracy: 0.5092\n",
      "Epoch: 61, Loss: 0.6861, Accuracy: 0.5073\n",
      "Epoch: 62, Loss: 0.6904, Accuracy: 0.5102\n",
      "Epoch: 63, Loss: 0.6907, Accuracy: 0.5016\n",
      "Epoch: 64, Loss: 0.6952, Accuracy: 0.5063\n",
      "Epoch: 65, Loss: 0.6974, Accuracy: 0.5169\n",
      "Epoch: 66, Loss: 0.6952, Accuracy: 0.5064\n",
      "Epoch: 67, Loss: 0.6788, Accuracy: 0.5068\n",
      "Epoch: 68, Loss: 0.6800, Accuracy: 0.4977\n",
      "Epoch: 69, Loss: 0.6972, Accuracy: 0.5099\n",
      "Epoch: 70, Loss: 0.6760, Accuracy: 0.5109\n",
      "Epoch: 71, Loss: 0.6799, Accuracy: 0.5124\n",
      "Epoch: 72, Loss: 0.6809, Accuracy: 0.5275\n",
      "Epoch: 73, Loss: 0.6942, Accuracy: 0.5274\n",
      "Epoch: 74, Loss: 0.6559, Accuracy: 0.5330\n",
      "Epoch: 75, Loss: 0.6737, Accuracy: 0.5286\n",
      "Epoch: 76, Loss: 0.6893, Accuracy: 0.5380\n",
      "Epoch: 77, Loss: 0.6945, Accuracy: 0.5392\n",
      "Epoch: 78, Loss: 0.6803, Accuracy: 0.5164\n",
      "Epoch: 79, Loss: 0.6791, Accuracy: 0.5329\n",
      "Epoch: 80, Loss: 0.6733, Accuracy: 0.5248\n",
      "Epoch: 81, Loss: 0.7039, Accuracy: 0.5196\n",
      "Epoch: 82, Loss: 0.6994, Accuracy: 0.5118\n",
      "Epoch: 83, Loss: 0.6786, Accuracy: 0.5126\n",
      "Epoch: 84, Loss: 0.6483, Accuracy: 0.5217\n",
      "Epoch: 85, Loss: 0.6864, Accuracy: 0.5190\n",
      "Epoch: 86, Loss: 0.6900, Accuracy: 0.5341\n",
      "Epoch: 87, Loss: 0.6958, Accuracy: 0.5315\n",
      "Epoch: 88, Loss: 0.6696, Accuracy: 0.5291\n",
      "Epoch: 89, Loss: 0.6758, Accuracy: 0.5147\n",
      "Epoch: 90, Loss: 0.6990, Accuracy: 0.5174\n",
      "Epoch: 91, Loss: 0.6730, Accuracy: 0.5138\n",
      "Epoch: 92, Loss: 0.6899, Accuracy: 0.5198\n",
      "Epoch: 93, Loss: 0.6808, Accuracy: 0.5191\n",
      "Epoch: 94, Loss: 0.6676, Accuracy: 0.5133\n",
      "Epoch: 95, Loss: 0.7027, Accuracy: 0.5190\n",
      "Epoch: 96, Loss: 0.6840, Accuracy: 0.5188\n",
      "Epoch: 97, Loss: 0.6940, Accuracy: 0.5286\n",
      "Epoch: 98, Loss: 0.6983, Accuracy: 0.5322\n",
      "Epoch: 99, Loss: 0.6744, Accuracy: 0.5265\n",
      "Epoch: 100, Loss: 0.6644, Accuracy: 0.5270\n"
     ]
    }
   ],
   "source": [
    "# Define optimizer and criterion\n",
    "optimizer = optim.Adam(model.parameters(), lr=1e-4, weight_decay=1e-5)\n",
    "criterion = torch.nn.CrossEntropyLoss()\n",
    "\n",
    "# Training loop\n",
    "def train():\n",
    "    model.train()\n",
    "    for data in train_loader:\n",
    "        optimizer.zero_grad()\n",
    "        print(data.x)\n",
    "        out = model(data)\n",
    "        loss = criterion(out, data.y)\n",
    "        loss.backward()\n",
    "        #clip_grad_norm_(model.parameters(), max_norm=1.0)\n",
    "        optimizer.step()\n",
    "    return loss.item()\n",
    "\n",
    "def test():\n",
    "    model.eval()\n",
    "    total_correct = 0\n",
    "    total_samples = 0\n",
    "    \n",
    "    with torch.no_grad():\n",
    "        for data in test_loader:\n",
    "            out = model(data)\n",
    "            _, pred = out.max(dim=1)\n",
    "            correct = pred.eq(data.y).sum().item()\n",
    "            total_correct += correct\n",
    "            total_samples += len(data.y)\n",
    "\n",
    "    accuracy = total_correct / total_samples\n",
    "    return accuracy\n",
    "\n",
    "for epoch in range(100):\n",
    "    loss = train()\n",
    "    acc = test()\n",
    "\n",
    "    print(f'Epoch: {epoch + 1}, Loss: {loss:.4f}, Accuracy: {acc:.4f}')"
   ]
  },
  {
   "cell_type": "markdown",
   "metadata": {},
   "source": [
    "# ROC Curve and AUC"
   ]
  },
  {
   "cell_type": "code",
   "execution_count": 17,
   "metadata": {},
   "outputs": [],
   "source": [
    "y_true = [] # class values (0 or 1)\n",
    "y_scores = [] # predicted probabilities\n",
    "\n",
    "model.eval()\n",
    "with torch.no_grad():\n",
    "    for data in test_loader:\n",
    "        out = model(data)\n",
    "        _, pred = out.max(dim=1)\n",
    "        y_true.append(data.y.numpy().flatten())\n",
    "        y_scores.append(out[:, 1].detach().numpy())\n",
    "\n",
    "y_true = np.concatenate(y_true)\n",
    "y_scores = np.concatenate(y_scores)"
   ]
  },
  {
   "cell_type": "code",
   "execution_count": 18,
   "metadata": {},
   "outputs": [],
   "source": [
    "# Compute ROC curve and AUC\n",
    "fpr, tpr, thresholds = roc_curve(y_true, y_scores)\n",
    "auc = roc_auc_score(y_true, y_scores)"
   ]
  },
  {
   "cell_type": "code",
   "execution_count": 19,
   "metadata": {},
   "outputs": [
    {
     "name": "stdout",
     "output_type": "stream",
     "text": [
      "Background Rejection: [1.         1.         0.99834983 0.9980198  0.99735974 0.99735974\n",
      " 0.99669967 0.99669967 0.99636964 0.99636964 0.99636964 0.9960396\n",
      " 0.9960396  0.99570957 0.9950495  0.99339934 0.99141914 0.99141914\n",
      " 0.99009901 0.98943894 0.98943894 0.98844884 0.98811881 0.98712871\n",
      " 0.98679868 0.98613861 0.98613861 0.98547855 0.98481848 0.98448845\n",
      " 0.98382838 0.98382838 0.98349835 0.98349835 0.98316832 0.98316832\n",
      " 0.98283828 0.98250825 0.98250825 0.98184818 0.98184818 0.98118812\n",
      " 0.98118812 0.98085809 0.98085809 0.97986799 0.97788779 0.97755776\n",
      " 0.97755776 0.97656766 0.97590759 0.97557756 0.97557756 0.97557756\n",
      " 0.97557756 0.97557756 0.97557756 0.97524752 0.97524752 0.97458746\n",
      " 0.97458746 0.97392739 0.97392739 0.97359736 0.97359736 0.97293729\n",
      " 0.97293729 0.97293729 0.97227723 0.97227723 0.95973597 0.94455446\n",
      " 0.94389439 0.94323432 0.94191419 0.9349835  0.93234323 0.9320132\n",
      " 0.9310231  0.93069307 0.930033   0.930033   0.92970297 0.92970297\n",
      " 0.92970297 0.92838284 0.92772277 0.92772277 0.92706271 0.92673267\n",
      " 0.92607261 0.92607261 0.92607261 0.92607261 0.89240924 0.89174917\n",
      " 0.89108911 0.89108911 0.89042904 0.89009901 0.89009901 0.88976898\n",
      " 0.88877888 0.88877888 0.88646865 0.88646865 0.88646865 0.88646865\n",
      " 0.88613861 0.88514851 0.88514851 0.88382838 0.88382838 0.88349835\n",
      " 0.87953795 0.87953795 0.62508251 0.41023102 0.41023102 0.40990099\n",
      " 0.40990099 0.40957096 0.40825083 0.40825083 0.40825083 0.40825083\n",
      " 0.40726073 0.40726073 0.40660066 0.40594059 0.40594059 0.40561056\n",
      " 0.40561056 0.40528053 0.40528053 0.40429043 0.40429043 0.40330033\n",
      " 0.4029703  0.4029703  0.40231023 0.40231023 0.40231023 0.4019802\n",
      " 0.39867987 0.39834983 0.39834983 0.39768977 0.39768977 0.3970297\n",
      " 0.39636964 0.39636964 0.39438944 0.39339934 0.39273927 0.39174917\n",
      " 0.39174917 0.39141914 0.39141914 0.39042904 0.38976898 0.38976898\n",
      " 0.30264026 0.14059406 0.14059406 0.13927393 0.13861386 0.1379538\n",
      " 0.13729373 0.13729373 0.13729373 0.13729373 0.1369637  0.1369637\n",
      " 0.13663366 0.13663366 0.13630363 0.13564356 0.13564356 0.13531353\n",
      " 0.13465347 0.13432343 0.13432343 0.13366337 0.13366337 0.13333333\n",
      " 0.1330033  0.13234323 0.1320132  0.1320132  0.1310231  0.1310231\n",
      " 0.13036304 0.130033   0.12937294 0.12937294 0.12871287 0.10693069\n",
      " 0.08778878 0.08745875 0.08745875 0.08646865 0.08646865 0.08580858\n",
      " 0.08547855 0.08415842 0.07920792 0.07887789 0.07821782 0.07623762\n",
      " 0.07590759 0.07590759 0.07590759 0.07557756 0.07557756 0.07524752\n",
      " 0.04554455 0.04158416 0.04125413 0.00858086 0.00627063 0.00561056\n",
      " 0.0019802  0.        ]\n",
      "Signal Efficiency: [0.00000000e+00 3.57525921e-04 3.57525921e-04 3.57525921e-04\n",
      " 3.57525921e-04 1.43010368e-03 1.43010368e-03 1.78762960e-03\n",
      " 1.78762960e-03 2.14515552e-03 2.86020737e-03 2.86020737e-03\n",
      " 3.21773329e-03 5.00536289e-03 5.00536289e-03 6.07794065e-03\n",
      " 9.29567394e-03 9.65319986e-03 9.65319986e-03 9.65319986e-03\n",
      " 1.10833035e-02 1.10833035e-02 1.10833035e-02 1.21558813e-02\n",
      " 1.21558813e-02 1.21558813e-02 1.25134072e-02 1.25134072e-02\n",
      " 1.28709331e-02 1.43010368e-02 1.50160887e-02 1.60886664e-02\n",
      " 1.60886664e-02 1.64461923e-02 1.64461923e-02 1.68037183e-02\n",
      " 1.68037183e-02 1.82338220e-02 1.89488738e-02 1.89488738e-02\n",
      " 1.93063997e-02 1.93063997e-02 2.00214516e-02 2.00214516e-02\n",
      " 2.07365034e-02 2.07365034e-02 2.07365034e-02 2.07365034e-02\n",
      " 2.10940293e-02 2.10940293e-02 2.10940293e-02 2.10940293e-02\n",
      " 2.21666071e-02 2.32391848e-02 2.35967108e-02 2.43117626e-02\n",
      " 2.46692885e-02 2.46692885e-02 2.50268144e-02 2.50268144e-02\n",
      " 2.53843404e-02 2.64569181e-02 2.68144440e-02 2.68144440e-02\n",
      " 2.75294959e-02 2.75294959e-02 2.82445477e-02 2.86020737e-02\n",
      " 2.86020737e-02 2.96746514e-02 3.93278513e-02 5.57740436e-02\n",
      " 5.57740436e-02 5.61315695e-02 5.61315695e-02 6.04218806e-02\n",
      " 6.50697176e-02 6.50697176e-02 6.50697176e-02 6.50697176e-02\n",
      " 6.50697176e-02 6.64998212e-02 6.64998212e-02 6.68573472e-02\n",
      " 6.75723990e-02 6.75723990e-02 6.75723990e-02 6.82874508e-02\n",
      " 6.82874508e-02 6.82874508e-02 6.82874508e-02 6.93600286e-02\n",
      " 7.07901323e-02 7.11476582e-02 1.08687880e-01 1.08687880e-01\n",
      " 1.08687880e-01 1.09402932e-01 1.09402932e-01 1.09402932e-01\n",
      " 1.10117984e-01 1.10117984e-01 1.12978191e-01 1.13335717e-01\n",
      " 1.14050769e-01 1.14765821e-01 1.15838398e-01 1.17268502e-01\n",
      " 1.17268502e-01 1.17268502e-01 1.17626028e-01 1.17626028e-01\n",
      " 1.18698606e-01 1.18698606e-01 1.19056132e-01 1.19413657e-01\n",
      " 3.24633536e-01 6.27815517e-01 6.28173043e-01 6.28173043e-01\n",
      " 6.28530568e-01 6.28530568e-01 6.28530568e-01 6.29960672e-01\n",
      " 6.30675724e-01 6.31390776e-01 6.31390776e-01 6.31748302e-01\n",
      " 6.31748302e-01 6.31748302e-01 6.32463354e-01 6.32463354e-01\n",
      " 6.33178405e-01 6.33178405e-01 6.33893457e-01 6.33893457e-01\n",
      " 6.34250983e-01 6.34250983e-01 6.34608509e-01 6.34966035e-01\n",
      " 6.34966035e-01 6.35323561e-01 6.36038613e-01 6.36038613e-01\n",
      " 6.43189131e-01 6.43189131e-01 6.43546657e-01 6.43546657e-01\n",
      " 6.44619235e-01 6.44619235e-01 6.44619235e-01 6.44976761e-01\n",
      " 6.46406864e-01 6.48552020e-01 6.48552020e-01 6.48552020e-01\n",
      " 6.49267072e-01 6.49267072e-01 6.49624598e-01 6.49624598e-01\n",
      " 6.49624598e-01 6.50339650e-01 7.73686092e-01 8.88451913e-01\n",
      " 8.88809439e-01 8.88809439e-01 8.88809439e-01 8.88809439e-01\n",
      " 8.88809439e-01 8.89166965e-01 8.89882016e-01 8.90239542e-01\n",
      " 8.90239542e-01 8.91312120e-01 8.91312120e-01 8.91669646e-01\n",
      " 8.91669646e-01 8.91669646e-01 8.92742224e-01 8.92742224e-01\n",
      " 8.92742224e-01 8.92742224e-01 8.93457276e-01 8.93457276e-01\n",
      " 8.94887379e-01 8.94887379e-01 8.96317483e-01 8.96317483e-01\n",
      " 8.96317483e-01 8.97032535e-01 8.97032535e-01 8.97390061e-01\n",
      " 8.97390061e-01 8.97390061e-01 8.97390061e-01 8.98462639e-01\n",
      " 8.98462639e-01 9.32427601e-01 9.48873793e-01 9.48873793e-01\n",
      " 9.49588845e-01 9.49588845e-01 9.49946371e-01 9.49946371e-01\n",
      " 9.49946371e-01 9.51018949e-01 9.55309260e-01 9.55309260e-01\n",
      " 9.55309260e-01 9.55666786e-01 9.55666786e-01 9.56024312e-01\n",
      " 9.57096890e-01 9.57096890e-01 9.57454415e-01 9.57454415e-01\n",
      " 9.76403289e-01 9.76403289e-01 9.76403289e-01 9.96067215e-01\n",
      " 9.97139793e-01 9.97139793e-01 9.98927422e-01 1.00000000e+00]\n",
      "AUC: 0.5099906665675507\n"
     ]
    }
   ],
   "source": [
    "# Compute background rejection and signal efficiency\n",
    "back_rej = 1 - fpr\n",
    "sig_eff = tpr\n",
    "\n",
    "print(f'Background Rejection: {back_rej}')\n",
    "print(f'Signal Efficiency: {sig_eff}')\n",
    "print(f'AUC: {auc}')"
   ]
  },
  {
   "cell_type": "code",
   "execution_count": 20,
   "metadata": {},
   "outputs": [
    {
     "data": {
      "image/png": "[encoded data removed]",
      "text/plain": [
       "<Figure size 640x480 with 1 Axes>"
      ]
     },
     "metadata": {},
     "output_type": "display_data"
    }
   ],
   "source": [
    "# Plot ROC Curve and show AUC\n",
    "plt.plot(back_rej, sig_eff, label='ROC Curve', color='purple')\n",
    "plt.plot([0, 1], [1, 0], color='grey', linestyle='dotted', label='baseline')\n",
    "plt.plot([], [], ' ', label=f'AUC: {auc}')\n",
    "plt.xlim([0.0, 1.01])\n",
    "plt.ylim([0.0, 1.01])\n",
    "plt.ylabel('Background Rejection')\n",
    "plt.xlabel('Signal Efficiency' )\n",
    "plt.title('Receiver Operating Characteristics (ROC)')\n",
    "plt.legend(loc='lower left')\n",
    "plt.grid(True)\n",
    "plt.show()"
   ]
  },
  {
   "cell_type": "code",
   "execution_count": null,
   "metadata": {},
   "outputs": [],
   "source": []
  }
 ],
 "metadata": {
  "kernelspec": {
   "display_name": "Python 3",
   "language": "python",
   "name": "python3"
  },
  "language_info": {
   "codemirror_mode": {
    "name": "ipython",
    "version": 3
   },
   "file_extension": ".py",
   "mimetype": "text/x-python",
   "name": "python",
   "nbconvert_exporter": "python",
   "pygments_lexer": "ipython3",
   "version": "3.8.19"
  }
 },
 "nbformat": 4,
 "nbformat_minor": 2
}
