{
 "cells": [
  {
   "cell_type": "code",
   "execution_count": 1,
   "metadata": {},
   "outputs": [],
   "source": [
    "import pandas as pd\n",
    "import numpy as np\n",
    "import matplotlib.pyplot as plt\n",
    "\n",
    "import torch\n",
    "from torch.nn import Linear, Dropout\n",
    "import torch.nn.functional as F\n",
    "import torch.optim as optim\n",
    "from torch_geometric.data import Data\n",
    "from torch_geometric.loader import DataLoader\n",
    "import torch_geometric as T\n",
    "from torch_geometric.data.data import Data\n",
    "from torch_geometric.nn import GCNConv, SAGEConv, GraphConv\n",
    "\n",
    "import networkx as nx\n",
    "\n",
    "from sklearn.metrics import roc_curve, roc_auc_score"
   ]
  },
  {
   "cell_type": "code",
   "execution_count": 11,
   "metadata": {},
   "outputs": [],
   "source": [
    "# Read from csv (without second list in daughter columns - see data_loading.ipynb)\n",
    "train_df = pd.read_csv('new_train_data.csv')\n",
    "test_df = pd.read_csv('new_test_data.csv')"
   ]
  },
  {
   "cell_type": "code",
   "execution_count": 12,
   "metadata": {},
   "outputs": [],
   "source": [
    "# Columns including daughter kinematics\n",
    "train_d_cols = list(train_df[train_df.columns[train_df.columns.str.contains(\"_Daughters\")]])\n",
    "test_d_cols = list(test_df[test_df.columns[test_df.columns.str.contains(\"_Daughters\")]])\n",
    "\n",
    "# Features columns (daughter kinematics + Eta and pT)\n",
    "train_f_cols = train_d_cols + ['Jet0_Eta', 'Jet0_PT']\n",
    "test_f_cols = test_d_cols + ['Jet1_Eta', 'Jet1_PT']"
   ]
  },
  {
   "cell_type": "code",
   "execution_count": 13,
   "metadata": {},
   "outputs": [],
   "source": [
    "# Duplicate Jet PT and Eta elements as a list the same length as the number of daughters in each row\n",
    "def duplicate(df, cols, n_col):\n",
    "    def duplicate_value(row, col, n_col):\n",
    "        value = row[col]\n",
    "        if isinstance(value, (float, int)):\n",
    "            num_daughters = row[n_col]\n",
    "            return [value] * num_daughters\n",
    "        return value\n",
    "\n",
    "    for col in cols:\n",
    "        df[col] = df.apply(lambda row: duplicate_value(row, col, n_col), axis=1)\n",
    "    return df\n",
    "\n",
    "# Converts string into list of floats (already duplicated and dropped second array)\n",
    "def convert_to_lists(df, d_cols):\n",
    "    for col in d_cols:\n",
    "        df[col] = df[col].apply(lambda x: [float(num) for num in x.strip('[]').split(',')] if isinstance(x, str) else x)\n",
    "    return df"
   ]
  },
  {
   "cell_type": "code",
   "execution_count": 14,
   "metadata": {},
   "outputs": [],
   "source": [
    "# Duplicate and preprocess daughter columns\n",
    "train_df = duplicate(train_df, ['Jet0_PT', 'Jet0_Eta', 'IsB'], 'Jet0_nDaughters')\n",
    "test_df = duplicate(test_df, ['Jet1_PT', 'Jet1_Eta', 'IsB'], 'Jet1_nDaughters')\n",
    "\n",
    "# Clean up data from str to list of floats\n",
    "train_df = convert_to_lists(train_df, train_d_cols)\n",
    "test_df = convert_to_lists(test_df, test_d_cols)\n",
    "\n",
    "# Select first 500 sig aand first 500 bgk data for quicker training\n",
    "cut_train_df = pd.concat([train_df.head(500), train_df.iloc[100000:100500]]) \n",
    "cut_test_df = pd.concat([test_df.head(500), test_df.iloc[100000:100500]])"
   ]
  },
  {
   "cell_type": "code",
   "execution_count": 15,
   "metadata": {},
   "outputs": [],
   "source": [
    "# Creates list of node features (float) - features[x][y], x = row index, y = index of feature column\n",
    "def node_features(df, features_cols):\n",
    "    node_features_list = []\n",
    "    node_features = []\n",
    "    for i, row in df.iterrows():\n",
    "        row_nodes = []\n",
    "        for col in features_cols:\n",
    "            feature = df.at[i, col]\n",
    "            if isinstance(feature, list):\n",
    "                node_features.extend(feature)\n",
    "                if len(row_nodes) < len(feature):\n",
    "                    row_nodes.extend([[] for _ in range(len(feature) - len(row_nodes))])\n",
    "                for j, val in enumerate(feature):\n",
    "                    row_nodes[j].append(val)\n",
    "            else:\n",
    "                node_features.append(feature)\n",
    "                for node in row_nodes:\n",
    "                        node.append(feature)\n",
    "        node_features_list.extend(row_nodes)\n",
    "    return node_features_list\n",
    "\n",
    "# Creates a data object of each df\n",
    "def create_data_object(df, features_cols):\n",
    "    \n",
    "    df = df.sample(frac=1).reset_index(drop=True) # shuffles data before creating data object\n",
    "    data_list = []\n",
    "\n",
    "    for i in range(len(df)):\n",
    "        node_df = df.iloc[[i]]\n",
    "        \n",
    "        features = node_features(node_df, features_cols)\n",
    "        num_nodes = len(features)\n",
    "\n",
    "        G = nx.complete_graph(num_nodes)\n",
    "        edge_index = torch.tensor(list(G.edges)).t().contiguous()\n",
    "\n",
    "        x = torch.tensor(features, dtype=torch.float)\n",
    "        y = torch.tensor(node_df['IsB'].iloc[0], dtype=torch.long)\n",
    "\n",
    "        data = Data(x=x, edge_index=edge_index, y=y)\n",
    "        data_list.append(data)\n",
    "        \n",
    "    return data_list"
   ]
  },
  {
   "cell_type": "code",
   "execution_count": 16,
   "metadata": {},
   "outputs": [],
   "source": [
    "train_data = create_data_object(cut_train_df, train_f_cols)\n",
    "test_data = create_data_object(cut_test_df, test_f_cols)"
   ]
  },
  {
   "cell_type": "code",
   "execution_count": 17,
   "metadata": {},
   "outputs": [],
   "source": [
    "# Load data\n",
    "train_loader = DataLoader(train_data, batch_size=32)\n",
    "test_loader = DataLoader(test_data, batch_size=32)"
   ]
  },
  {
   "cell_type": "code",
   "execution_count": 18,
   "metadata": {},
   "outputs": [
    {
     "name": "stdout",
     "output_type": "stream",
     "text": [
      "DataBatch(x=[436, 31], edge_index=[2, 3160], y=[436], batch=[436], ptr=[33])\n",
      "DataBatch(x=[454, 31], edge_index=[2, 3400], y=[454], batch=[454], ptr=[33])\n",
      "DataBatch(x=[466, 31], edge_index=[2, 3504], y=[466], batch=[466], ptr=[33])\n",
      "DataBatch(x=[521, 31], edge_index=[2, 4788], y=[521], batch=[521], ptr=[33])\n",
      "DataBatch(x=[453, 31], edge_index=[2, 3447], y=[453], batch=[453], ptr=[33])\n",
      "DataBatch(x=[492, 31], edge_index=[2, 4013], y=[492], batch=[492], ptr=[33])\n",
      "DataBatch(x=[482, 31], edge_index=[2, 3788], y=[482], batch=[482], ptr=[33])\n",
      "DataBatch(x=[495, 31], edge_index=[2, 4164], y=[495], batch=[495], ptr=[33])\n",
      "DataBatch(x=[501, 31], edge_index=[2, 4166], y=[501], batch=[501], ptr=[33])\n",
      "DataBatch(x=[462, 31], edge_index=[2, 3615], y=[462], batch=[462], ptr=[33])\n",
      "DataBatch(x=[459, 31], edge_index=[2, 3687], y=[459], batch=[459], ptr=[33])\n",
      "DataBatch(x=[467, 31], edge_index=[2, 3471], y=[467], batch=[467], ptr=[33])\n",
      "DataBatch(x=[458, 31], edge_index=[2, 3468], y=[458], batch=[458], ptr=[33])\n",
      "DataBatch(x=[470, 31], edge_index=[2, 3614], y=[470], batch=[470], ptr=[33])\n",
      "DataBatch(x=[462, 31], edge_index=[2, 3725], y=[462], batch=[462], ptr=[33])\n",
      "DataBatch(x=[447, 31], edge_index=[2, 3255], y=[447], batch=[447], ptr=[33])\n",
      "DataBatch(x=[419, 31], edge_index=[2, 2917], y=[419], batch=[419], ptr=[33])\n",
      "DataBatch(x=[535, 31], edge_index=[2, 4601], y=[535], batch=[535], ptr=[33])\n",
      "DataBatch(x=[449, 31], edge_index=[2, 3374], y=[449], batch=[449], ptr=[33])\n",
      "DataBatch(x=[506, 31], edge_index=[2, 4263], y=[506], batch=[506], ptr=[33])\n",
      "DataBatch(x=[466, 31], edge_index=[2, 3556], y=[466], batch=[466], ptr=[33])\n",
      "DataBatch(x=[492, 31], edge_index=[2, 4061], y=[492], batch=[492], ptr=[33])\n",
      "DataBatch(x=[410, 31], edge_index=[2, 2870], y=[410], batch=[410], ptr=[33])\n",
      "DataBatch(x=[404, 31], edge_index=[2, 2776], y=[404], batch=[404], ptr=[33])\n",
      "DataBatch(x=[475, 31], edge_index=[2, 3800], y=[475], batch=[475], ptr=[33])\n",
      "DataBatch(x=[506, 31], edge_index=[2, 4286], y=[506], batch=[506], ptr=[33])\n",
      "DataBatch(x=[445, 31], edge_index=[2, 3263], y=[445], batch=[445], ptr=[33])\n",
      "DataBatch(x=[451, 31], edge_index=[2, 3447], y=[451], batch=[451], ptr=[33])\n",
      "DataBatch(x=[469, 31], edge_index=[2, 3730], y=[469], batch=[469], ptr=[33])\n",
      "DataBatch(x=[571, 31], edge_index=[2, 5478], y=[571], batch=[571], ptr=[33])\n",
      "DataBatch(x=[438, 31], edge_index=[2, 3073], y=[438], batch=[438], ptr=[33])\n",
      "DataBatch(x=[104, 31], edge_index=[2, 696], y=[104], batch=[104], ptr=[9])\n"
     ]
    }
   ],
   "source": [
    "for data in train_loader:\n",
    "    print(data)"
   ]
  },
  {
   "cell_type": "markdown",
   "metadata": {},
   "source": [
    "# Training Model"
   ]
  },
  {
   "cell_type": "code",
   "execution_count": 19,
   "metadata": {},
   "outputs": [],
   "source": [
    "# Define GNN model\n",
    "\n",
    "class GNN(torch.nn.Module):\n",
    "    def __init__(self):\n",
    "        super(GNN, self).__init__()\n",
    "        hidden_channels = 64\n",
    "        self.conv1 = GraphConv(len(train_f_cols), hidden_channels)\n",
    "        self.conv2 = GraphConv(hidden_channels, hidden_channels)\n",
    "        self.conv3 = GraphConv(hidden_channels, hidden_channels)\n",
    "        self.conv4 = GraphConv(hidden_channels, hidden_channels)\n",
    "        self.lin = Linear(hidden_channels, 2)\n",
    "        \n",
    "\n",
    "    def forward(self, data):\n",
    "        x, edge_index = data.x, data.edge_index\n",
    "\n",
    "        x = self.conv1(x, edge_index)\n",
    "        x = F.relu(x)\n",
    "        x = self.conv2(x, edge_index)\n",
    "        x = F.relu(x)\n",
    "        x = self.conv3(x, edge_index)\n",
    "        x = F.relu(x)\n",
    "        x = self.conv4(x, edge_index)\n",
    "        x = self.lin(x)\n",
    "        return x\n",
    "            \n",
    "model = GNN()"
   ]
  },
  {
   "cell_type": "code",
   "execution_count": 20,
   "metadata": {},
   "outputs": [
    {
     "name": "stdout",
     "output_type": "stream",
     "text": [
      "Epoch: 1, Loss: 10985020.0000, Accuracy: 0.5172\n",
      "Epoch: 2, Loss: 1872750.7500, Accuracy: 0.5201\n",
      "Epoch: 3, Loss: 53277916.0000, Accuracy: 0.5204\n",
      "Epoch: 4, Loss: 103626680.0000, Accuracy: 0.5170\n",
      "Epoch: 5, Loss: 78755672.0000, Accuracy: 0.5148\n",
      "Epoch: 6, Loss: 61194668.0000, Accuracy: 0.5133\n",
      "Epoch: 7, Loss: 46129708.0000, Accuracy: 0.5132\n",
      "Epoch: 8, Loss: 34127824.0000, Accuracy: 0.5124\n",
      "Epoch: 9, Loss: 25876540.0000, Accuracy: 0.5134\n",
      "Epoch: 10, Loss: 20155216.0000, Accuracy: 0.5144\n"
     ]
    }
   ],
   "source": [
    "# Define optimizer and criterion\n",
    "optimizer = optim.Adam(model.parameters(), lr=0.00001, weight_decay=1e-5)\n",
    "criterion = torch.nn.CrossEntropyLoss()\n",
    "\n",
    "# Training loop\n",
    "def train():\n",
    "    model.train()\n",
    "    for data in train_loader:\n",
    "        optimizer.zero_grad()\n",
    "        out = model(data)\n",
    "        loss = criterion(out, data.y)\n",
    "        torch.nn.utils.clip_grad_norm_(model.parameters(), max_norm=1.0)\n",
    "        loss.backward()\n",
    "        optimizer.step()\n",
    "    return loss.item()\n",
    "\n",
    "def test():\n",
    "    model.eval()\n",
    "    total_correct = 0\n",
    "    total_samples = 0\n",
    "    \n",
    "    with torch.no_grad():\n",
    "        for data in test_loader:\n",
    "            out = model(data)\n",
    "            _, pred = out.max(dim=1)\n",
    "            correct = pred.eq(data.y).sum().item()\n",
    "            total_correct += correct\n",
    "            total_samples += len(data.y)\n",
    "\n",
    "    accuracy = total_correct / total_samples\n",
    "    return accuracy\n",
    "\n",
    "for epoch in range(10):\n",
    "    loss = train()\n",
    "    acc = test()\n",
    "\n",
    "    print(f'Epoch: {epoch + 1}, Loss: {loss:.4f}, Accuracy: {acc:.4f}')"
   ]
  },
  {
   "cell_type": "markdown",
   "metadata": {},
   "source": [
    "# ROC Curve and AUC"
   ]
  },
  {
   "cell_type": "code",
   "execution_count": 21,
   "metadata": {},
   "outputs": [],
   "source": [
    "y_true = [] # class values (0 or 1)\n",
    "y_scores = [] # predicted probabilities\n",
    "\n",
    "model.eval()\n",
    "with torch.no_grad():\n",
    "    for data in test_loader:\n",
    "        out = model(data)\n",
    "        _, pred = out.max(dim=1)\n",
    "        y_true.append(data.y.numpy().flatten())\n",
    "        y_scores.append(out[:, 1].detach().numpy())\n",
    "\n",
    "y_true = np.concatenate(y_true)\n",
    "y_scores = np.concatenate(y_scores)"
   ]
  },
  {
   "cell_type": "code",
   "execution_count": 22,
   "metadata": {},
   "outputs": [],
   "source": [
    "# Compute ROC curve and AUC\n",
    "fpr, tpr, thresholds = roc_curve(y_true, y_scores)\n",
    "auc = roc_auc_score(y_true, y_scores)"
   ]
  },
  {
   "cell_type": "code",
   "execution_count": 23,
   "metadata": {},
   "outputs": [
    {
     "name": "stdout",
     "output_type": "stream",
     "text": [
      "Background Rejection: [1.00000000e+00 9.99855637e-01 9.99422549e-01 ... 1.44362639e-04\n",
      " 1.44362639e-04 0.00000000e+00]\n",
      "Signal Efficiency: [0.         0.         0.         ... 0.99973712 1.         1.        ]\n",
      "AUC: 0.5080610158332874\n"
     ]
    }
   ],
   "source": [
    "# Compute background rejection and signal efficiency\n",
    "back_rej = 1 - fpr\n",
    "sig_eff = tpr\n",
    "\n",
    "print(f'Background Rejection: {back_rej}')\n",
    "print(f'Signal Efficiency: {sig_eff}')\n",
    "print(f'AUC: {auc}')"
   ]
  },
  {
   "cell_type": "code",
   "execution_count": 24,
   "metadata": {},
   "outputs": [
    {
     "data": {
      "image/png": "[encoded data removed]",
      "text/plain": [
       "<Figure size 640x480 with 1 Axes>"
      ]
     },
     "metadata": {},
     "output_type": "display_data"
    }
   ],
   "source": [
    "# Plot ROC Curve and show AUC\n",
    "plt.plot(back_rej, sig_eff, label='ROC Curve', color='purple')\n",
    "plt.plot([0, 1], [1, 0], color='grey', linestyle='dotted', label='baseline')\n",
    "plt.plot([], [], ' ', label=f'AUC: {auc}')\n",
    "plt.xlim([0.0, 1.01])\n",
    "plt.ylim([0.0, 1.01])\n",
    "plt.ylabel('Background Rejection')\n",
    "plt.xlabel('Signal Efficiency' )\n",
    "plt.title('Receiver Operating Characteristics (ROC)')\n",
    "plt.legend(loc='lower left')\n",
    "plt.grid(True)\n",
    "plt.show()"
   ]
  },
  {
   "cell_type": "code",
   "execution_count": null,
   "metadata": {},
   "outputs": [],
   "source": []
  },
  {
   "cell_type": "code",
   "execution_count": null,
   "metadata": {},
   "outputs": [],
   "source": []
  }
 ],
 "metadata": {
  "kernelspec": {
   "display_name": "Python 3",
   "language": "python",
   "name": "python3"
  },
  "language_info": {
   "codemirror_mode": {
    "name": "ipython",
    "version": 3
   },
   "file_extension": ".py",
   "mimetype": "text/x-python",
   "name": "python",
   "nbconvert_exporter": "python",
   "pygments_lexer": "ipython3",
   "version": "3.8.19"
  }
 },
 "nbformat": 4,
 "nbformat_minor": 2
}
